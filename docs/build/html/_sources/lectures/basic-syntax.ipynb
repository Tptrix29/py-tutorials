{
 "cells": [
  {
   "cell_type": "markdown",
   "source": [
    "# Basic Python Syntax\n",
    "## Start-up with VCS \n",
    "> Create project and use git as version control tool"
   ],
   "metadata": {
    "collapsed": false
   },
   "id": "a85c5b7a7209b265"
  },
  {
   "cell_type": "markdown",
   "source": [
    "## Built-in Data Structures\n",
    "1. Numeric: integer + float\n",
    "2. String\n",
    "3. List\n",
    "4. Tuple\n",
    "5. Set\n",
    "6. Dictionary"
   ],
   "metadata": {
    "collapsed": false
   },
   "id": "d455508ae3a3f8b0"
  },
  {
   "cell_type": "markdown",
   "source": [
    "### Numeric \n",
    "**Integers** are whole numbers without a decimal point. "
   ],
   "metadata": {
    "collapsed": false
   },
   "id": "21d3ccfb90c90219"
  },
  {
   "cell_type": "code",
   "outputs": [],
   "source": [
    "# definition\n",
    "int1 = 6  # regular\n",
    "int2 = 1E2  # scientific notation"
   ],
   "metadata": {
    "collapsed": false
   },
   "id": "a6ee1f8a385f07b2",
   "execution_count": null
  },
  {
   "cell_type": "code",
   "outputs": [],
   "source": [
    "# addition\n",
    "int1 + int2"
   ],
   "metadata": {
    "collapsed": false
   },
   "id": "8b7dd9aa54fc5a55",
   "execution_count": null
  },
  {
   "cell_type": "code",
   "outputs": [],
   "source": [
    "# subtract\n",
    "int2 - int1"
   ],
   "metadata": {
    "collapsed": false
   },
   "id": "87ec7d3d7a205b18",
   "execution_count": null
  },
  {
   "cell_type": "code",
   "outputs": [],
   "source": [
    "# multiplication\n",
    "int1 * int2"
   ],
   "metadata": {
    "collapsed": false
   },
   "id": "9e1376f143c3ad67",
   "execution_count": null
  },
  {
   "cell_type": "code",
   "outputs": [],
   "source": [
    "# division\n",
    "int2 / int1"
   ],
   "metadata": {
    "collapsed": false
   },
   "id": "9f07b62039c875bc",
   "execution_count": null
  },
  {
   "cell_type": "code",
   "outputs": [],
   "source": [
    "# mod\n",
    "int2 % int1"
   ],
   "metadata": {
    "collapsed": false
   },
   "id": "5c316592db5542ed",
   "execution_count": null
  },
  {
   "cell_type": "code",
   "outputs": [],
   "source": [
    "# floor division (positive)\n",
    "100 // 6"
   ],
   "metadata": {
    "collapsed": false
   },
   "id": "fa4d1bcb81feb58a",
   "execution_count": null
  },
  {
   "cell_type": "code",
   "outputs": [],
   "source": [
    "# floor division (negative)\n",
    "-100 // 6"
   ],
   "metadata": {
    "collapsed": false
   },
   "id": "980b939d2f156334",
   "execution_count": null
  },
  {
   "cell_type": "markdown",
   "source": [
    "**Floats** are numbers that contain a decimal point. (64-bits)"
   ],
   "metadata": {
    "collapsed": false
   },
   "id": "3de2f895f75a3cda"
  },
  {
   "cell_type": "code",
   "outputs": [],
   "source": [
    "dec1 = 9.1\n",
    "dec2 = 6.89E-2"
   ],
   "metadata": {
    "collapsed": false
   },
   "id": "6f0bd7d7ca149c3e",
   "execution_count": null
  },
  {
   "cell_type": "markdown",
   "source": [
    "### String\n",
    "Strings in Python are sequences of characters enclosed in quotes, either single (`'`) or double (`\"`)."
   ],
   "metadata": {
    "collapsed": false
   },
   "id": "dce48064733ce973"
  },
  {
   "cell_type": "code",
   "outputs": [],
   "source": [
    "str1 = \"Hello, World!\"\n",
    "print(str1)"
   ],
   "metadata": {
    "collapsed": false
   },
   "id": "f3d3347cef75fd9e",
   "execution_count": null
  },
  {
   "cell_type": "code",
   "outputs": [],
   "source": [
    "# concatenation\n",
    "str2 = \"Hello\"\n",
    "str3 = \"World\"\n",
    "result = str2 + \" \" + str3\n",
    "print(result)  # Output: Hello World"
   ],
   "metadata": {
    "collapsed": false
   },
   "id": "7708bd627aab6a3a",
   "execution_count": null
  },
  {
   "cell_type": "code",
   "outputs": [],
   "source": [
    "# Repetition\n",
    "str4 = \"Hello\"\n",
    "print(str4 * 3)"
   ],
   "metadata": {
    "collapsed": false
   },
   "id": "2b0e351960bfc455",
   "execution_count": null
  },
  {
   "cell_type": "markdown",
   "source": [
    "### List\n",
    "A list is an ordered collection of items which can be of different types. Lists are **mutable**, meaning their elements can be changed."
   ],
   "metadata": {
    "collapsed": false
   },
   "id": "64d3e273d7485b55"
  },
  {
   "cell_type": "code",
   "outputs": [],
   "source": [
    "# definition\n",
    "list1 = [i for i in range(10)]\n",
    "print(list1)"
   ],
   "metadata": {
    "collapsed": false
   },
   "id": "a499e4876eb820da",
   "execution_count": null
  },
  {
   "cell_type": "code",
   "outputs": [],
   "source": [
    "# access with index\n",
    "list1[0]"
   ],
   "metadata": {
    "collapsed": false
   },
   "id": "f441b3688e8d0e2e",
   "execution_count": null
  },
  {
   "cell_type": "code",
   "outputs": [],
   "source": [
    "# access the last element\n",
    "list1[-1]"
   ],
   "metadata": {
    "collapsed": false
   },
   "id": "efb5c90f2db79feb",
   "execution_count": null
  },
  {
   "cell_type": "code",
   "outputs": [],
   "source": [
    "# modify element\n",
    "list1[4] = 3.9\n",
    "list1"
   ],
   "metadata": {
    "collapsed": false
   },
   "id": "9ecd7ed2c41d0c94",
   "execution_count": null
  },
  {
   "cell_type": "code",
   "outputs": [],
   "source": [
    "# add a single element to the end of the list\n",
    "list1.append(5)"
   ],
   "metadata": {
    "collapsed": false
   },
   "id": "a4e21186ca738f7",
   "execution_count": null
  },
  {
   "cell_type": "code",
   "outputs": [],
   "source": [
    "# add an element at a specific position\n",
    "list1.insert(1, 15)  # insert 15 to the position with 1 as index\n",
    "list1"
   ],
   "metadata": {
    "collapsed": false
   },
   "id": "236ca7949c8cd9",
   "execution_count": null
  },
  {
   "cell_type": "code",
   "outputs": [],
   "source": [
    "# remove the first occurrence of a value\n",
    "list1.remove(2) if 2 in list1 else _\n",
    "list1"
   ],
   "metadata": {
    "collapsed": false
   },
   "id": "5c46197d034f454d",
   "execution_count": null
  },
  {
   "cell_type": "code",
   "outputs": [],
   "source": [
    "#  remove an element at a specific position (or the last element if no index is specified)\n",
    "list1.pop(2)\n",
    "list1"
   ],
   "metadata": {
    "collapsed": false
   },
   "id": "334be705fbb95ed5",
   "execution_count": null
  },
  {
   "cell_type": "code",
   "outputs": [],
   "source": [
    "# slicing\n",
    "list1[1:3]"
   ],
   "metadata": {
    "collapsed": false
   },
   "id": "489949634e7e1ce6",
   "execution_count": null
  },
  {
   "cell_type": "code",
   "outputs": [],
   "source": [
    "# slicing with skipping\n",
    "list1[::2]"
   ],
   "metadata": {
    "collapsed": false
   },
   "id": "a7d89800c3e1ac96",
   "execution_count": null
  },
  {
   "cell_type": "code",
   "outputs": [],
   "source": [
    "# length of list\n",
    "len(list1)"
   ],
   "metadata": {
    "collapsed": false
   },
   "id": "c63df10607342a50",
   "execution_count": null
  },
  {
   "cell_type": "markdown",
   "source": [
    "### Tuple\n",
    "A tuple is similar to a list but is **immutable**, meaning its elements cannot be changed once assigned."
   ],
   "metadata": {
    "collapsed": false
   },
   "id": "9f1119d96ddc6d69"
  },
  {
   "cell_type": "code",
   "outputs": [],
   "source": [
    "# definition\n",
    "tuple1 = (1, 2, 3, \"Python\", 4.5)\n",
    "print(tuple1) "
   ],
   "metadata": {
    "collapsed": false
   },
   "id": "d2a2a130470b0939",
   "execution_count": null
  },
  {
   "cell_type": "code",
   "outputs": [],
   "source": [
    "# access with index\n",
    "print(tuple1[0])  "
   ],
   "metadata": {
    "collapsed": false
   },
   "id": "9198b94851e37076",
   "execution_count": null
  },
  {
   "cell_type": "markdown",
   "source": [
    "### Set\n",
    "A set is an unordered collection of **unique** elements. Sets are **mutable** but do not allow duplicate elements."
   ],
   "metadata": {
    "collapsed": false
   },
   "id": "722bb21131e8018c"
  },
  {
   "cell_type": "code",
   "outputs": [],
   "source": [
    "set1 = {1, 2, 3, \"Python\", 4.5, 2}\n",
    "print(set1)  # Output: {1, 2, 3, \"Python\", 4.5}"
   ],
   "metadata": {
    "collapsed": false
   },
   "id": "2fd229abce0631cc"
  },
  {
   "cell_type": "markdown",
   "source": [
    "### Dictionary\n",
    "A dictionary is an unordered collection of key-value pairs. Each key must be unique and immutable, while values can be of any data type."
   ],
   "metadata": {
    "collapsed": false
   },
   "id": "e20592a055bf7e27"
  },
  {
   "cell_type": "code",
   "outputs": [],
   "source": [
    "# definition\n",
    "dict1 = {\"name\": \"John\", \"age\": 30, \"city\": \"New York\"}\n",
    "print(dict1) "
   ],
   "metadata": {
    "collapsed": false
   },
   "id": "95ef5284234e4edb",
   "execution_count": null
  },
  {
   "cell_type": "code",
   "outputs": [],
   "source": [
    "# access value via key\n",
    "print(dict1[\"name\"])  "
   ],
   "metadata": {
    "collapsed": false
   },
   "id": "13c2c39026d77924",
   "execution_count": null
  },
  {
   "cell_type": "code",
   "outputs": [],
   "source": [
    "# modify value via key\n",
    "dict1[\"age\"] = 31\n",
    "print(dict1)"
   ],
   "metadata": {
    "collapsed": false
   },
   "id": "6080a024b58651d4",
   "execution_count": null
  },
  {
   "cell_type": "markdown",
   "source": [
    "## Control Statements\n",
    "1. `if-else` condition statement\n",
    "2. `while` loop\n",
    "3. `for` loop"
   ],
   "metadata": {
    "collapsed": false
   },
   "id": "54846b9a4ea53d64"
  },
  {
   "cell_type": "markdown",
   "source": [
    "### `if-else`\n",
    "The `if` statement is used to test a condition. If the condition is true, a block of code is executed. The `else` statement can be used to execute a block of code if the condition is false."
   ],
   "metadata": {
    "collapsed": false
   },
   "id": "c35ce14f1fdbfa45"
  },
  {
   "cell_type": "code",
   "outputs": [],
   "source": [
    "x = 10\n",
    "if x > 100:\n",
    "    print(\"x is greater than 100\")\n",
    "elif x < 10:\n",
    "    print(\"x is less than 10\")\n",
    "else:\n",
    "    print(\"x is between 10 and 100\")"
   ],
   "metadata": {
    "collapsed": false
   },
   "id": "2a77de46159ba660",
   "execution_count": null
  },
  {
   "cell_type": "markdown",
   "source": [
    "### `while` \n",
    "The `while` loop is used to repeat a block of code as long as a condition is true."
   ],
   "metadata": {
    "collapsed": false
   },
   "id": "62011f3425b35885"
  },
  {
   "cell_type": "code",
   "outputs": [],
   "source": [
    "count = 0\n",
    "while count < 5:\n",
    "    print(count)\n",
    "    count += 1"
   ],
   "metadata": {
    "collapsed": false
   },
   "id": "2ec4438579949cf4",
   "execution_count": null
  },
  {
   "cell_type": "markdown",
   "source": [
    "### `for` loop\n",
    "The `for` loop is used to iterate over a sequence (like a list, tuple, dictionary, set, or string) and execute a block of code for each element."
   ],
   "metadata": {
    "collapsed": false
   },
   "id": "4f1103e33bb1865c"
  },
  {
   "cell_type": "code",
   "outputs": [],
   "source": [
    "for i in range(5):\n",
    "    print(i)"
   ],
   "metadata": {
    "collapsed": false
   },
   "id": "11390d842cf231b3",
   "execution_count": null
  },
  {
   "cell_type": "markdown",
   "source": [
    "## Simple I/O Streaming"
   ],
   "metadata": {
    "collapsed": false
   },
   "id": "730997e26107ee6b"
  },
  {
   "cell_type": "markdown",
   "source": [
    "### Input"
   ],
   "metadata": {
    "collapsed": false
   },
   "id": "628dc2ebb576473d"
  },
  {
   "cell_type": "markdown",
   "source": [
    "```python\n",
    "name = input(\"Enter your name: \")\n",
    "print(\"Hello, \" + name + \"!\")\n",
    "```"
   ],
   "metadata": {
    "collapsed": false
   },
   "id": "b615605beb863f7f"
  },
  {
   "cell_type": "markdown",
   "source": [
    "### Formatted Output\n",
    "#### String"
   ],
   "metadata": {
    "collapsed": false
   },
   "id": "2e10996b6f225f74"
  },
  {
   "cell_type": "code",
   "outputs": [],
   "source": [
    "name = \"John\"\n",
    "age = 30\n",
    "\n",
    "# Example of formatted output using format() method\n",
    "print(\"Name: {}, Age: {}\".format(name, age))"
   ],
   "metadata": {
    "collapsed": false
   },
   "id": "4c81a7b54aad41e9",
   "execution_count": null
  },
  {
   "cell_type": "code",
   "outputs": [],
   "source": [
    "# Example of formatted output using f-strings\n",
    "print(f\"Name: {name}, Age: {age}\")"
   ],
   "metadata": {
    "collapsed": false
   },
   "id": "c3a80bd331c0eb80",
   "execution_count": null
  },
  {
   "cell_type": "markdown",
   "source": [
    "#### Float"
   ],
   "metadata": {
    "collapsed": false
   },
   "id": "7e1420703d810d15"
  },
  {
   "cell_type": "code",
   "outputs": [],
   "source": [
    "price = 10.99\n",
    "# built-in round function\n",
    "print(f\"The price of the item is {round(price, 1)}.\")"
   ],
   "metadata": {
    "collapsed": false
   },
   "id": "a436db3c1744904a",
   "execution_count": null
  },
  {
   "cell_type": "code",
   "outputs": [],
   "source": [
    "# f-string\n",
    "print(f\"The price of the item is {price:.1f}.\")"
   ],
   "metadata": {
    "collapsed": false
   },
   "id": "9b9099b4f849bfd2",
   "execution_count": null
  }
 ],
 "metadata": {
  "kernelspec": {
   "display_name": "Python 3",
   "language": "python",
   "name": "python3"
  },
  "language_info": {
   "codemirror_mode": {
    "name": "ipython",
    "version": 2
   },
   "file_extension": ".py",
   "mimetype": "text/x-python",
   "name": "python",
   "nbconvert_exporter": "python",
   "pygments_lexer": "ipython2",
   "version": "2.7.6"
  }
 },
 "nbformat": 4,
 "nbformat_minor": 5
}
