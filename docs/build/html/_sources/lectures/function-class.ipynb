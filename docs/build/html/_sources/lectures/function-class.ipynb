{
 "cells": [
  {
   "cell_type": "markdown",
   "source": [
    "# Function & Class \n",
    "## Function\n",
    "### Definition with `def` keyword"
   ],
   "metadata": {
    "collapsed": false
   },
   "id": "1f5eb03f72b731da"
  },
  {
   "cell_type": "code",
   "outputs": [],
   "source": [
    "def add(num1, num2):\n",
    "    return num1 + num2"
   ],
   "metadata": {
    "collapsed": false
   },
   "id": "fb50004ed03cd700",
   "execution_count": null
  },
  {
   "cell_type": "markdown",
   "source": [
    "### Local & Global Variables\n",
    "- **Local Variables**: Variables declared inside a function. They are accessible only within that function.\n",
    "- **Global Variables**: Variables declared outside any function. They are accessible throughout the code, including inside functions."
   ],
   "metadata": {
    "collapsed": false
   },
   "id": "469c3daf801060c"
  },
  {
   "cell_type": "code",
   "outputs": [],
   "source": [
    "x = \"global\"\n",
    "\n",
    "def my_function():\n",
    "    x = \"local\"\n",
    "    print(x)\n",
    "\n",
    "my_function()   # Output: local\n",
    "print(x)        # Output: global"
   ],
   "metadata": {
    "collapsed": false
   },
   "id": "69a2de97d0ee0fa0",
   "execution_count": null
  },
  {
   "cell_type": "markdown",
   "source": [
    "### `global` keyword\n",
    "The global keyword is used to declare a variable inside a function as global, it allows the function to modify the variable outside its local scope."
   ],
   "metadata": {
    "collapsed": false
   },
   "id": "a7e34cd30d5ed03f"
  },
  {
   "cell_type": "code",
   "outputs": [],
   "source": [
    "x = 10\n",
    "\n",
    "def modify_global():\n",
    "    x = 20 \n",
    "\n",
    "modify_global()\n",
    "print(x)"
   ],
   "metadata": {
    "collapsed": false
   },
   "id": "e65bd70231febfb2",
   "execution_count": null
  },
  {
   "cell_type": "code",
   "outputs": [],
   "source": [
    "x = 10  # Global variable\n",
    "\n",
    "def modify_global():\n",
    "    global x  # Declare x as global\n",
    "    x = 20    # Modify the global variable\n",
    "\n",
    "modify_global()\n",
    "print(x) "
   ],
   "metadata": {
    "collapsed": false
   },
   "id": "5219682ef6ac9b5d",
   "execution_count": null
  },
  {
   "cell_type": "markdown",
   "source": [
    "### Strict Definition (Optional)"
   ],
   "metadata": {
    "collapsed": false
   },
   "id": "b91f414c3d6309a6"
  },
  {
   "cell_type": "code",
   "outputs": [],
   "source": [
    "def add_numbers(a: int, b: int) -> int:\n",
    "    return a + b\n",
    "\n",
    "result = add_numbers(3, 5)  # Output: 8\n",
    "print(result)"
   ],
   "metadata": {
    "collapsed": false
   },
   "id": "ad2c75c1c12b5c70",
   "execution_count": null
  },
  {
   "cell_type": "markdown",
   "source": [
    "## Class \n",
    "### Definition\n",
    "> Sections with `*` are advanced contents.\n",
    "\n",
    "1. Variables    \n",
    "- instance variable    \n",
    "- static variable *\n",
    "2. Methods   \n",
    "- instance method\n",
    "- built-in method\n",
    "- static method * : only access static variables"
   ],
   "metadata": {
    "collapsed": false
   },
   "id": "ca1a1dc31f3ec99c"
  },
  {
   "cell_type": "markdown",
   "source": [
    "### Example"
   ],
   "metadata": {
    "collapsed": false
   },
   "id": "cdb1dc5c0236084f"
  },
  {
   "cell_type": "code",
   "outputs": [],
   "source": [
    "class MyClass:\n",
    "    # static variable declaration\n",
    "    static_str = \"I am a static variable\"\n",
    "    \n",
    "    # instance variable declaration\n",
    "    def __init__(self, value: list[int]):\n",
    "        self.val = value\n",
    "        \n",
    "    # instance method\n",
    "    def get_val(self):\n",
    "        return self.val\n",
    "    \n",
    "    # static method\n",
    "    @staticmethod\n",
    "    def modify_static_variable(new_val: str):\n",
    "        MyClass.static_str = new_val\n",
    "    \n",
    "    # built-in method\n",
    "    def __len__(self):\n",
    "        return len(self.val)\n",
    "    \n",
    "    # built-in method\n",
    "    def __str__(self):\n",
    "        return f\"Value: {\", \".join([str(i) for i in self.val])}\"   "
   ],
   "metadata": {
    "collapsed": false
   },
   "id": "29e6f4c1c526881b",
   "execution_count": null
  },
  {
   "cell_type": "code",
   "outputs": [],
   "source": [
    "obj1 = MyClass([1, 2])\n",
    "obj2 = MyClass([100, 200])\n",
    "print(obj1.get_val()) \n",
    "print(obj2.get_val()) "
   ],
   "metadata": {
    "collapsed": false
   },
   "id": "64ab0262910270b6",
   "execution_count": null
  },
  {
   "cell_type": "code",
   "outputs": [],
   "source": [
    "MyClass.modify_static_variable(\"I am a new static variable\")\n",
    "print(MyClass.static_str)"
   ],
   "metadata": {
    "collapsed": false
   },
   "id": "dd97207d5facc85b",
   "execution_count": null
  },
  {
   "cell_type": "code",
   "outputs": [],
   "source": [
    "len(obj1)"
   ],
   "metadata": {
    "collapsed": false
   },
   "id": "639f0591c531a3f5",
   "execution_count": null
  },
  {
   "cell_type": "code",
   "outputs": [],
   "source": [
    "print(obj1)"
   ],
   "metadata": {
    "collapsed": false
   },
   "id": "b869f77771080fd3",
   "execution_count": null
  },
  {
   "cell_type": "markdown",
   "source": [
    "## OOP with Python (Advanced)\n",
    "Object-oriented programming (OOP) is a programming paradigm based on the concept of \"objects,\" which are instances of classes. These objects can contain data, in the form of fields (often known as attributes or properties), and code, in the form of methods (functions or procedures). \n",
    "\n",
    "Here are the core concepts of OOP:\n",
    "\n",
    "1. **Encapsulation**: The bundling of data (attributes) and methods that operate on that data into a single unit.\n",
    "\n",
    "2. **Inheritance**: The mechanism by which one class acquires the properties and behavior of another class.\n",
    "\n",
    "3. **Polymorphism**: The ability to present the same interface for different data types\n",
    "\n",
    "> **Abstraction**: The concept of hiding the internal implementation details and showing only the necessary features of an object.\n",
    "\n",
    "\n",
    "### Inheritance\n",
    "Inheritance allows a class to inherit attributes and methods from another class. The class that inherits is called the child class, and the class being inherited from is the parent class.\n",
    "\n",
    "Child class could **override** the methods of the parent class and define new methods."
   ],
   "metadata": {
    "collapsed": false
   },
   "id": "6b7dceb7dc2dd17c"
  },
  {
   "cell_type": "code",
   "outputs": [],
   "source": [
    "class Parent:\n",
    "    def __init__(self, name):\n",
    "        self.name = name\n",
    "\n",
    "    def speak(self):\n",
    "        return f\"{self.name} says hello. I am a parent.\"\n",
    "\n",
    "class Child(Parent):\n",
    "    def __init__(self, name, age):\n",
    "        super().__init__(name)\n",
    "        self.age = age\n",
    "    \n",
    "    # override `speak` method\n",
    "    def speak(self):\n",
    "        return f\"{self.name} says hello. I am a child.\"\n",
    "\n",
    "    def introduce(self):\n",
    "        return f\"I am {self.name}, and I am {self.age} years old.\""
   ],
   "metadata": {
    "collapsed": false
   },
   "id": "ba15e4c1f76f1a6e",
   "execution_count": null
  },
  {
   "cell_type": "code",
   "outputs": [],
   "source": [
    "parent = Parent(\"Jake\")\n",
    "child = Child(\"Alice\", 10)\n",
    "print(parent.speak())\n",
    "print(child.speak())    \n",
    "print(child.introduce())  "
   ],
   "metadata": {
    "collapsed": false
   },
   "id": "1f7f2644c899adb4",
   "execution_count": null
  },
  {
   "cell_type": "markdown",
   "source": [
    "### Abstract Class\n",
    "An abstract class is a class that cannot be instantiated and is meant to be subclassed. It can have abstract methods, which are methods declared without implementation. Abstract classes are defined using the abc module."
   ],
   "metadata": {
    "collapsed": false
   },
   "id": "50a141d4742afd27"
  },
  {
   "cell_type": "code",
   "outputs": [],
   "source": [
    "from abc import ABC, abstractmethod\n",
    "\n",
    "class Animal(ABC):\n",
    "    @abstractmethod\n",
    "    def make_sound(self):\n",
    "        pass\n",
    "\n",
    "class Dog(Animal):\n",
    "    def make_sound(self):\n",
    "        return \"Woof!\"\n",
    "\n",
    "class Cat(Animal):\n",
    "    def make_sound(self):\n",
    "        return \"Meow!\""
   ],
   "metadata": {
    "collapsed": false
   },
   "id": "ce5af0fe70b0780b",
   "execution_count": null
  },
  {
   "cell_type": "code",
   "outputs": [],
   "source": [
    "dog = Dog()\n",
    "print(dog.make_sound())"
   ],
   "metadata": {
    "collapsed": false
   },
   "id": "e146f1ac94de21e1"
  },
  {
   "cell_type": "code",
   "outputs": [],
   "source": [
    "cat = Cat()\n",
    "print(cat.make_sound())"
   ],
   "metadata": {
    "collapsed": false
   },
   "id": "d9d3d0c84a463a88"
  }
 ],
 "metadata": {
  "kernelspec": {
   "display_name": "Python 3",
   "language": "python",
   "name": "python3"
  },
  "language_info": {
   "codemirror_mode": {
    "name": "ipython",
    "version": 2
   },
   "file_extension": ".py",
   "mimetype": "text/x-python",
   "name": "python",
   "nbconvert_exporter": "python",
   "pygments_lexer": "ipython2",
   "version": "2.7.6"
  }
 },
 "nbformat": 4,
 "nbformat_minor": 5
}
