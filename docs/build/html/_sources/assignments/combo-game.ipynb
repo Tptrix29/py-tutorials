{
 "cells": [
  {
   "cell_type": "markdown",
   "source": [
    "# Assignment 1: Triple Combo Game\n",
    "## Problem Description\n",
    "\n",
    "In this assignment, you are tasked with developing a simple but engaging game using Python.\n",
    "\n",
    "The game is called the **\"Triple Combo Game\"**, where players select numbers from a pool to build an array and earn points by forming consecutive triplets of the same number. The game will test your understanding of basic Python programming concepts such as loops, conditionals, user input, and list operations.\n",
    "\n",
    "## Background\n",
    "\n",
    "The Triple Combo Game is a straightforward yet challenging game where players need to strategically select numbers from a given pool to form sequences of three identical numbers in an array. Each time a triplet is formed, it is removed from the array, and the player earns a point. The game continues until the array reaches a predefined maximum length.\n",
    "\n",
    "## Objectives\n",
    "\n",
    "1. **Game Initialization**:\n",
    "   - Initialize a pool of random numbers that players can choose from.\n",
    "   - Define an array where the chosen numbers will be stored.\n",
    "   - Set up a scoring system to track the player's points.\n",
    "2. **Gameplay Mechanics**:\n",
    "   - Display the current state of the array and the available pool of numbers to the player.\n",
    "   - Allow the player to select a number from the pool and add it to the array.\n",
    "   - Check for any consecutive triplets of the same number in the array. If found, remove them and update the score.\n",
    "   - Ensure the game continues until the array reaches its maximum length.\n",
    "3. **User Interaction**:\n",
    "   - Prompt the player for input and validate the input to ensure it is a number from the pool.\n",
    "   - Provide feedback to the player, including their current score, the state of the array, and the available pool of numbers.\n",
    "   - End the game when the array reaches its maximum length and display the final score.\n",
    "\n",
    "\n",
    "## Deliverables\n",
    "\n",
    "- A Python script that implements the Triple Combo Game with the above-described functionality.\n",
    "- Clear and concise comments in the code explaining the logic and flow of the game.\n",
    "- User-friendly prompts and messages to enhance the player’s experience.\n",
    "\n",
    "\n",
    "> Download `assignment1.py` script from [here](https://github.com/Tptrix29/py-tutorials/blob/main/assignment1.py)\n",
    " to review and complete game logic.\n",
    "\n",
    "\n",
    "## Example\n",
    "![ass1](../_static/img/assignment1-example.jpg)\n",
    "\n",
    "\n",
    "Good luck, and enjoy coding your Triple Combo Game!"
   ],
   "metadata": {
    "collapsed": false
   },
   "id": "6b442bb7097381e8"
  }
 ],
 "metadata": {
  "kernelspec": {
   "display_name": "Python 3",
   "language": "python",
   "name": "python3"
  },
  "language_info": {
   "codemirror_mode": {
    "name": "ipython",
    "version": 2
   },
   "file_extension": ".py",
   "mimetype": "text/x-python",
   "name": "python",
   "nbconvert_exporter": "python",
   "pygments_lexer": "ipython2",
   "version": "2.7.6"
  }
 },
 "nbformat": 4,
 "nbformat_minor": 5
}
