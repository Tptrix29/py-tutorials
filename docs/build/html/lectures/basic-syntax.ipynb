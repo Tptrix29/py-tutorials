{
 "cells": [
  {
   "cell_type": "markdown",
   "id": "a85c5b7a7209b265",
   "metadata": {
    "collapsed": false
   },
   "source": [
    "# Basic Python Syntax\n",
    "## Start-up with VCS \n",
    "> Create project and use git as version control tool"
   ]
  },
  {
   "cell_type": "markdown",
   "id": "d455508ae3a3f8b0",
   "metadata": {
    "collapsed": false
   },
   "source": [
    "## Built-in Data Structures\n",
    "1. Numeric: integer + float\n",
    "2. String\n",
    "3. List\n",
    "4. Tuple\n",
    "5. Set\n",
    "6. Dictionary"
   ]
  },
  {
   "cell_type": "markdown",
   "id": "21d3ccfb90c90219",
   "metadata": {
    "collapsed": false
   },
   "source": [
    "### Numeric \n",
    "**Integers** are whole numbers without a decimal point. "
   ]
  },
  {
   "cell_type": "code",
   "execution_count": 1,
   "id": "a6ee1f8a385f07b2",
   "metadata": {
    "collapsed": false,
    "execution": {
     "iopub.execute_input": "2024-06-13T20:19:26.716596Z",
     "iopub.status.busy": "2024-06-13T20:19:26.716451Z",
     "iopub.status.idle": "2024-06-13T20:19:26.719361Z",
     "shell.execute_reply": "2024-06-13T20:19:26.719065Z"
    }
   },
   "outputs": [],
   "source": [
    "# definition\n",
    "int1 = 6  # regular\n",
    "int2 = 1E2  # scientific notation"
   ]
  },
  {
   "cell_type": "code",
   "execution_count": 2,
   "id": "8b7dd9aa54fc5a55",
   "metadata": {
    "collapsed": false,
    "execution": {
     "iopub.execute_input": "2024-06-13T20:19:26.721040Z",
     "iopub.status.busy": "2024-06-13T20:19:26.720922Z",
     "iopub.status.idle": "2024-06-13T20:19:26.724164Z",
     "shell.execute_reply": "2024-06-13T20:19:26.723885Z"
    }
   },
   "outputs": [
    {
     "data": {
      "text/plain": [
       "106.0"
      ]
     },
     "execution_count": 2,
     "metadata": {},
     "output_type": "execute_result"
    }
   ],
   "source": [
    "# addition\n",
    "int1 + int2"
   ]
  },
  {
   "cell_type": "code",
   "execution_count": 3,
   "id": "87ec7d3d7a205b18",
   "metadata": {
    "collapsed": false,
    "execution": {
     "iopub.execute_input": "2024-06-13T20:19:26.725763Z",
     "iopub.status.busy": "2024-06-13T20:19:26.725648Z",
     "iopub.status.idle": "2024-06-13T20:19:26.727632Z",
     "shell.execute_reply": "2024-06-13T20:19:26.727336Z"
    }
   },
   "outputs": [
    {
     "data": {
      "text/plain": [
       "94.0"
      ]
     },
     "execution_count": 3,
     "metadata": {},
     "output_type": "execute_result"
    }
   ],
   "source": [
    "# subtract\n",
    "int2 - int1"
   ]
  },
  {
   "cell_type": "code",
   "execution_count": 4,
   "id": "9e1376f143c3ad67",
   "metadata": {
    "collapsed": false,
    "execution": {
     "iopub.execute_input": "2024-06-13T20:19:26.728991Z",
     "iopub.status.busy": "2024-06-13T20:19:26.728886Z",
     "iopub.status.idle": "2024-06-13T20:19:26.731104Z",
     "shell.execute_reply": "2024-06-13T20:19:26.730845Z"
    }
   },
   "outputs": [
    {
     "data": {
      "text/plain": [
       "600.0"
      ]
     },
     "execution_count": 4,
     "metadata": {},
     "output_type": "execute_result"
    }
   ],
   "source": [
    "# multiplication\n",
    "int1 * int2"
   ]
  },
  {
   "cell_type": "code",
   "execution_count": 5,
   "id": "9f07b62039c875bc",
   "metadata": {
    "collapsed": false,
    "execution": {
     "iopub.execute_input": "2024-06-13T20:19:26.732547Z",
     "iopub.status.busy": "2024-06-13T20:19:26.732447Z",
     "iopub.status.idle": "2024-06-13T20:19:26.734333Z",
     "shell.execute_reply": "2024-06-13T20:19:26.734110Z"
    }
   },
   "outputs": [
    {
     "data": {
      "text/plain": [
       "16.666666666666668"
      ]
     },
     "execution_count": 5,
     "metadata": {},
     "output_type": "execute_result"
    }
   ],
   "source": [
    "# division\n",
    "int2 / int1"
   ]
  },
  {
   "cell_type": "code",
   "execution_count": 6,
   "id": "5c316592db5542ed",
   "metadata": {
    "collapsed": false,
    "execution": {
     "iopub.execute_input": "2024-06-13T20:19:26.735665Z",
     "iopub.status.busy": "2024-06-13T20:19:26.735559Z",
     "iopub.status.idle": "2024-06-13T20:19:26.737516Z",
     "shell.execute_reply": "2024-06-13T20:19:26.737285Z"
    }
   },
   "outputs": [
    {
     "data": {
      "text/plain": [
       "4.0"
      ]
     },
     "execution_count": 6,
     "metadata": {},
     "output_type": "execute_result"
    }
   ],
   "source": [
    "# mod\n",
    "int2 % int1"
   ]
  },
  {
   "cell_type": "code",
   "execution_count": 7,
   "id": "fa4d1bcb81feb58a",
   "metadata": {
    "collapsed": false,
    "execution": {
     "iopub.execute_input": "2024-06-13T20:19:26.738779Z",
     "iopub.status.busy": "2024-06-13T20:19:26.738680Z",
     "iopub.status.idle": "2024-06-13T20:19:26.740638Z",
     "shell.execute_reply": "2024-06-13T20:19:26.740445Z"
    }
   },
   "outputs": [
    {
     "data": {
      "text/plain": [
       "16"
      ]
     },
     "execution_count": 7,
     "metadata": {},
     "output_type": "execute_result"
    }
   ],
   "source": [
    "# floor division (positive)\n",
    "100 // 6"
   ]
  },
  {
   "cell_type": "code",
   "execution_count": 8,
   "id": "980b939d2f156334",
   "metadata": {
    "collapsed": false,
    "execution": {
     "iopub.execute_input": "2024-06-13T20:19:26.741847Z",
     "iopub.status.busy": "2024-06-13T20:19:26.741759Z",
     "iopub.status.idle": "2024-06-13T20:19:26.743562Z",
     "shell.execute_reply": "2024-06-13T20:19:26.743332Z"
    }
   },
   "outputs": [
    {
     "data": {
      "text/plain": [
       "-17"
      ]
     },
     "execution_count": 8,
     "metadata": {},
     "output_type": "execute_result"
    }
   ],
   "source": [
    "# floor division (negative)\n",
    "-100 // 6"
   ]
  },
  {
   "cell_type": "markdown",
   "id": "3de2f895f75a3cda",
   "metadata": {
    "collapsed": false
   },
   "source": [
    "**Floats** are numbers that contain a decimal point. (64-bits)"
   ]
  },
  {
   "cell_type": "code",
   "execution_count": 9,
   "id": "6f0bd7d7ca149c3e",
   "metadata": {
    "collapsed": false,
    "execution": {
     "iopub.execute_input": "2024-06-13T20:19:26.744768Z",
     "iopub.status.busy": "2024-06-13T20:19:26.744680Z",
     "iopub.status.idle": "2024-06-13T20:19:26.746251Z",
     "shell.execute_reply": "2024-06-13T20:19:26.746011Z"
    }
   },
   "outputs": [],
   "source": [
    "dec1 = 9.1\n",
    "dec2 = 6.89E-2"
   ]
  },
  {
   "cell_type": "markdown",
   "id": "dce48064733ce973",
   "metadata": {
    "collapsed": false
   },
   "source": [
    "### String\n",
    "Strings in Python are sequences of characters enclosed in quotes, either single (`'`) or double (`\"`)."
   ]
  },
  {
   "cell_type": "code",
   "execution_count": 10,
   "id": "f3d3347cef75fd9e",
   "metadata": {
    "collapsed": false,
    "execution": {
     "iopub.execute_input": "2024-06-13T20:19:26.747535Z",
     "iopub.status.busy": "2024-06-13T20:19:26.747438Z",
     "iopub.status.idle": "2024-06-13T20:19:26.749292Z",
     "shell.execute_reply": "2024-06-13T20:19:26.748987Z"
    }
   },
   "outputs": [
    {
     "name": "stdout",
     "output_type": "stream",
     "text": [
      "Hello, World!\n"
     ]
    }
   ],
   "source": [
    "str1 = \"Hello, World!\"\n",
    "print(str1)"
   ]
  },
  {
   "cell_type": "code",
   "execution_count": 11,
   "id": "7708bd627aab6a3a",
   "metadata": {
    "collapsed": false,
    "execution": {
     "iopub.execute_input": "2024-06-13T20:19:26.750734Z",
     "iopub.status.busy": "2024-06-13T20:19:26.750655Z",
     "iopub.status.idle": "2024-06-13T20:19:26.752524Z",
     "shell.execute_reply": "2024-06-13T20:19:26.752299Z"
    }
   },
   "outputs": [
    {
     "name": "stdout",
     "output_type": "stream",
     "text": [
      "Hello World\n"
     ]
    }
   ],
   "source": [
    "# concatenation\n",
    "str2 = \"Hello\"\n",
    "str3 = \"World\"\n",
    "result = str2 + \" \" + str3\n",
    "print(result)  # Output: Hello World"
   ]
  },
  {
   "cell_type": "code",
   "execution_count": 12,
   "id": "2b0e351960bfc455",
   "metadata": {
    "collapsed": false,
    "execution": {
     "iopub.execute_input": "2024-06-13T20:19:26.753914Z",
     "iopub.status.busy": "2024-06-13T20:19:26.753824Z",
     "iopub.status.idle": "2024-06-13T20:19:26.755478Z",
     "shell.execute_reply": "2024-06-13T20:19:26.755279Z"
    }
   },
   "outputs": [
    {
     "name": "stdout",
     "output_type": "stream",
     "text": [
      "HelloHelloHello\n"
     ]
    }
   ],
   "source": [
    "# Repetition\n",
    "str4 = \"Hello\"\n",
    "print(str4 * 3)"
   ]
  },
  {
   "cell_type": "markdown",
   "id": "64d3e273d7485b55",
   "metadata": {
    "collapsed": false
   },
   "source": [
    "### List\n",
    "A list is an ordered collection of items which can be of different types. Lists are **mutable**, meaning their elements can be changed."
   ]
  },
  {
   "cell_type": "code",
   "execution_count": 13,
   "id": "a499e4876eb820da",
   "metadata": {
    "collapsed": false,
    "execution": {
     "iopub.execute_input": "2024-06-13T20:19:26.756733Z",
     "iopub.status.busy": "2024-06-13T20:19:26.756668Z",
     "iopub.status.idle": "2024-06-13T20:19:26.758349Z",
     "shell.execute_reply": "2024-06-13T20:19:26.758147Z"
    }
   },
   "outputs": [
    {
     "name": "stdout",
     "output_type": "stream",
     "text": [
      "[0, 1, 2, 3, 4, 5, 6, 7, 8, 9]\n"
     ]
    }
   ],
   "source": [
    "# definition\n",
    "list1 = [i for i in range(10)]\n",
    "print(list1)"
   ]
  },
  {
   "cell_type": "code",
   "execution_count": 14,
   "id": "f441b3688e8d0e2e",
   "metadata": {
    "collapsed": false,
    "execution": {
     "iopub.execute_input": "2024-06-13T20:19:26.759399Z",
     "iopub.status.busy": "2024-06-13T20:19:26.759334Z",
     "iopub.status.idle": "2024-06-13T20:19:26.761048Z",
     "shell.execute_reply": "2024-06-13T20:19:26.760849Z"
    }
   },
   "outputs": [
    {
     "data": {
      "text/plain": [
       "0"
      ]
     },
     "execution_count": 14,
     "metadata": {},
     "output_type": "execute_result"
    }
   ],
   "source": [
    "# access with index\n",
    "list1[0]"
   ]
  },
  {
   "cell_type": "code",
   "execution_count": 15,
   "id": "efb5c90f2db79feb",
   "metadata": {
    "collapsed": false,
    "execution": {
     "iopub.execute_input": "2024-06-13T20:19:26.762198Z",
     "iopub.status.busy": "2024-06-13T20:19:26.762140Z",
     "iopub.status.idle": "2024-06-13T20:19:26.763825Z",
     "shell.execute_reply": "2024-06-13T20:19:26.763591Z"
    }
   },
   "outputs": [
    {
     "data": {
      "text/plain": [
       "9"
      ]
     },
     "execution_count": 15,
     "metadata": {},
     "output_type": "execute_result"
    }
   ],
   "source": [
    "# access the last element\n",
    "list1[-1]"
   ]
  },
  {
   "cell_type": "code",
   "execution_count": 16,
   "id": "9ecd7ed2c41d0c94",
   "metadata": {
    "collapsed": false,
    "execution": {
     "iopub.execute_input": "2024-06-13T20:19:26.764833Z",
     "iopub.status.busy": "2024-06-13T20:19:26.764761Z",
     "iopub.status.idle": "2024-06-13T20:19:26.766363Z",
     "shell.execute_reply": "2024-06-13T20:19:26.766184Z"
    }
   },
   "outputs": [
    {
     "data": {
      "text/plain": [
       "[0, 1, 2, 3, 3.9, 5, 6, 7, 8, 9]"
      ]
     },
     "execution_count": 16,
     "metadata": {},
     "output_type": "execute_result"
    }
   ],
   "source": [
    "# modify element\n",
    "list1[4] = 3.9\n",
    "list1"
   ]
  },
  {
   "cell_type": "code",
   "execution_count": 17,
   "id": "a4e21186ca738f7",
   "metadata": {
    "collapsed": false,
    "execution": {
     "iopub.execute_input": "2024-06-13T20:19:26.767337Z",
     "iopub.status.busy": "2024-06-13T20:19:26.767275Z",
     "iopub.status.idle": "2024-06-13T20:19:26.768724Z",
     "shell.execute_reply": "2024-06-13T20:19:26.768548Z"
    }
   },
   "outputs": [],
   "source": [
    "# add a single element to the end of the list\n",
    "list1.append(5)"
   ]
  },
  {
   "cell_type": "code",
   "execution_count": 18,
   "id": "236ca7949c8cd9",
   "metadata": {
    "collapsed": false,
    "execution": {
     "iopub.execute_input": "2024-06-13T20:19:26.769947Z",
     "iopub.status.busy": "2024-06-13T20:19:26.769880Z",
     "iopub.status.idle": "2024-06-13T20:19:26.771745Z",
     "shell.execute_reply": "2024-06-13T20:19:26.771471Z"
    }
   },
   "outputs": [
    {
     "data": {
      "text/plain": [
       "[0, 15, 1, 2, 3, 3.9, 5, 6, 7, 8, 9, 5]"
      ]
     },
     "execution_count": 18,
     "metadata": {},
     "output_type": "execute_result"
    }
   ],
   "source": [
    "# add an element at a specific position\n",
    "list1.insert(1, 15)  # insert 15 to the position with 1 as index\n",
    "list1"
   ]
  },
  {
   "cell_type": "code",
   "execution_count": 19,
   "id": "5c46197d034f454d",
   "metadata": {
    "collapsed": false,
    "execution": {
     "iopub.execute_input": "2024-06-13T20:19:26.772764Z",
     "iopub.status.busy": "2024-06-13T20:19:26.772706Z",
     "iopub.status.idle": "2024-06-13T20:19:26.774500Z",
     "shell.execute_reply": "2024-06-13T20:19:26.774273Z"
    }
   },
   "outputs": [
    {
     "data": {
      "text/plain": [
       "[0, 15, 1, 3, 3.9, 5, 6, 7, 8, 9, 5]"
      ]
     },
     "execution_count": 19,
     "metadata": {},
     "output_type": "execute_result"
    }
   ],
   "source": [
    "# remove the first occurrence of a value\n",
    "list1.remove(2) if 2 in list1 else _\n",
    "list1"
   ]
  },
  {
   "cell_type": "code",
   "execution_count": 20,
   "id": "334be705fbb95ed5",
   "metadata": {
    "collapsed": false,
    "execution": {
     "iopub.execute_input": "2024-06-13T20:19:26.775616Z",
     "iopub.status.busy": "2024-06-13T20:19:26.775533Z",
     "iopub.status.idle": "2024-06-13T20:19:26.777241Z",
     "shell.execute_reply": "2024-06-13T20:19:26.777035Z"
    }
   },
   "outputs": [
    {
     "data": {
      "text/plain": [
       "[0, 15, 3, 3.9, 5, 6, 7, 8, 9, 5]"
      ]
     },
     "execution_count": 20,
     "metadata": {},
     "output_type": "execute_result"
    }
   ],
   "source": [
    "#  remove an element at a specific position (or the last element if no index is specified)\n",
    "list1.pop(2)\n",
    "list1"
   ]
  },
  {
   "cell_type": "code",
   "execution_count": 21,
   "id": "489949634e7e1ce6",
   "metadata": {
    "collapsed": false,
    "execution": {
     "iopub.execute_input": "2024-06-13T20:19:26.778352Z",
     "iopub.status.busy": "2024-06-13T20:19:26.778292Z",
     "iopub.status.idle": "2024-06-13T20:19:26.779965Z",
     "shell.execute_reply": "2024-06-13T20:19:26.779787Z"
    }
   },
   "outputs": [
    {
     "data": {
      "text/plain": [
       "[15, 3]"
      ]
     },
     "execution_count": 21,
     "metadata": {},
     "output_type": "execute_result"
    }
   ],
   "source": [
    "# slicing\n",
    "list1[1:3]"
   ]
  },
  {
   "cell_type": "code",
   "execution_count": 22,
   "id": "a7d89800c3e1ac96",
   "metadata": {
    "collapsed": false,
    "execution": {
     "iopub.execute_input": "2024-06-13T20:19:26.780973Z",
     "iopub.status.busy": "2024-06-13T20:19:26.780914Z",
     "iopub.status.idle": "2024-06-13T20:19:26.782631Z",
     "shell.execute_reply": "2024-06-13T20:19:26.782434Z"
    }
   },
   "outputs": [
    {
     "data": {
      "text/plain": [
       "[0, 3, 5, 7, 9]"
      ]
     },
     "execution_count": 22,
     "metadata": {},
     "output_type": "execute_result"
    }
   ],
   "source": [
    "# slicing with skipping\n",
    "list1[::2]"
   ]
  },
  {
   "cell_type": "code",
   "execution_count": 23,
   "id": "c63df10607342a50",
   "metadata": {
    "collapsed": false,
    "execution": {
     "iopub.execute_input": "2024-06-13T20:19:26.783847Z",
     "iopub.status.busy": "2024-06-13T20:19:26.783783Z",
     "iopub.status.idle": "2024-06-13T20:19:26.785438Z",
     "shell.execute_reply": "2024-06-13T20:19:26.785245Z"
    }
   },
   "outputs": [
    {
     "data": {
      "text/plain": [
       "10"
      ]
     },
     "execution_count": 23,
     "metadata": {},
     "output_type": "execute_result"
    }
   ],
   "source": [
    "# length of list\n",
    "len(list1)"
   ]
  },
  {
   "cell_type": "markdown",
   "id": "9f1119d96ddc6d69",
   "metadata": {
    "collapsed": false
   },
   "source": [
    "### Tuple\n",
    "A tuple is similar to a list but is **immutable**, meaning its elements cannot be changed once assigned."
   ]
  },
  {
   "cell_type": "code",
   "execution_count": 24,
   "id": "d2a2a130470b0939",
   "metadata": {
    "collapsed": false,
    "execution": {
     "iopub.execute_input": "2024-06-13T20:19:26.786553Z",
     "iopub.status.busy": "2024-06-13T20:19:26.786495Z",
     "iopub.status.idle": "2024-06-13T20:19:26.788053Z",
     "shell.execute_reply": "2024-06-13T20:19:26.787735Z"
    }
   },
   "outputs": [
    {
     "name": "stdout",
     "output_type": "stream",
     "text": [
      "(1, 2, 3, 'Python', 4.5)\n"
     ]
    }
   ],
   "source": [
    "# definition\n",
    "tuple1 = (1, 2, 3, \"Python\", 4.5)\n",
    "print(tuple1) "
   ]
  },
  {
   "cell_type": "code",
   "execution_count": 25,
   "id": "9198b94851e37076",
   "metadata": {
    "collapsed": false,
    "execution": {
     "iopub.execute_input": "2024-06-13T20:19:26.789330Z",
     "iopub.status.busy": "2024-06-13T20:19:26.789242Z",
     "iopub.status.idle": "2024-06-13T20:19:26.790818Z",
     "shell.execute_reply": "2024-06-13T20:19:26.790596Z"
    }
   },
   "outputs": [
    {
     "name": "stdout",
     "output_type": "stream",
     "text": [
      "1\n"
     ]
    }
   ],
   "source": [
    "# access with index\n",
    "print(tuple1[0])  "
   ]
  },
  {
   "cell_type": "markdown",
   "id": "722bb21131e8018c",
   "metadata": {
    "collapsed": false
   },
   "source": [
    "### Set\n",
    "A set is an unordered collection of **unique** elements. Sets are **mutable** but do not allow duplicate elements."
   ]
  },
  {
   "cell_type": "code",
   "execution_count": 26,
   "id": "2fd229abce0631cc",
   "metadata": {
    "collapsed": false,
    "execution": {
     "iopub.execute_input": "2024-06-13T20:19:26.791980Z",
     "iopub.status.busy": "2024-06-13T20:19:26.791895Z",
     "iopub.status.idle": "2024-06-13T20:19:26.793513Z",
     "shell.execute_reply": "2024-06-13T20:19:26.793330Z"
    }
   },
   "outputs": [
    {
     "name": "stdout",
     "output_type": "stream",
     "text": [
      "{1, 2, 3, 4.5, 'Python'}\n"
     ]
    }
   ],
   "source": [
    "set1 = {1, 2, 3, \"Python\", 4.5, 2}\n",
    "print(set1)  # Output: {1, 2, 3, \"Python\", 4.5}"
   ]
  },
  {
   "cell_type": "code",
   "execution_count": 27,
   "id": "de85d0dfe479f504",
   "metadata": {
    "collapsed": false,
    "execution": {
     "iopub.execute_input": "2024-06-13T20:19:26.794843Z",
     "iopub.status.busy": "2024-06-13T20:19:26.794760Z",
     "iopub.status.idle": "2024-06-13T20:19:26.796375Z",
     "shell.execute_reply": "2024-06-13T20:19:26.796089Z"
    }
   },
   "outputs": [],
   "source": [
    "set1 = {1, 2, 3, 4, 5}\n",
    "set2 = {4, 5, 6, 7, 8}"
   ]
  },
  {
   "cell_type": "code",
   "execution_count": 28,
   "id": "e1fc8046705ccad8",
   "metadata": {
    "collapsed": false,
    "execution": {
     "iopub.execute_input": "2024-06-13T20:19:26.797475Z",
     "iopub.status.busy": "2024-06-13T20:19:26.797391Z",
     "iopub.status.idle": "2024-06-13T20:19:26.798922Z",
     "shell.execute_reply": "2024-06-13T20:19:26.798709Z"
    }
   },
   "outputs": [
    {
     "name": "stdout",
     "output_type": "stream",
     "text": [
      "Union: {1, 2, 3, 4, 5, 6, 7, 8}\n",
      "Union: {1, 2, 3, 4, 5, 6, 7, 8}\n"
     ]
    }
   ],
   "source": [
    "# Union\n",
    "print(\"Union:\", set1 | set2)\n",
    "print(\"Union:\", set1.union(set2))"
   ]
  },
  {
   "cell_type": "code",
   "execution_count": 29,
   "id": "e02d8f041f9e8f9f",
   "metadata": {
    "collapsed": false,
    "execution": {
     "iopub.execute_input": "2024-06-13T20:19:26.800148Z",
     "iopub.status.busy": "2024-06-13T20:19:26.800071Z",
     "iopub.status.idle": "2024-06-13T20:19:26.802058Z",
     "shell.execute_reply": "2024-06-13T20:19:26.801657Z"
    }
   },
   "outputs": [
    {
     "name": "stdout",
     "output_type": "stream",
     "text": [
      "Intersection: {4, 5}\n",
      "Intersection: {4, 5}\n"
     ]
    }
   ],
   "source": [
    "# Intersection\n",
    "print(\"Intersection:\", set1 & set2)\n",
    "print(\"Intersection:\", set1.intersection(set2))"
   ]
  },
  {
   "cell_type": "code",
   "execution_count": 30,
   "id": "eaf0c1c59bc9b9fa",
   "metadata": {
    "collapsed": false,
    "execution": {
     "iopub.execute_input": "2024-06-13T20:19:26.803195Z",
     "iopub.status.busy": "2024-06-13T20:19:26.803130Z",
     "iopub.status.idle": "2024-06-13T20:19:26.804746Z",
     "shell.execute_reply": "2024-06-13T20:19:26.804545Z"
    }
   },
   "outputs": [
    {
     "name": "stdout",
     "output_type": "stream",
     "text": [
      "Difference (set1 - set2): {1, 2, 3}\n",
      "Difference (set1 - set2): {1, 2, 3}\n"
     ]
    }
   ],
   "source": [
    "# Difference\n",
    "print(\"Difference (set1 - set2):\", set1 - set2)\n",
    "print(\"Difference (set1 - set2):\", set1.difference(set2))"
   ]
  },
  {
   "cell_type": "code",
   "execution_count": 31,
   "id": "553eec94bbaaf37f",
   "metadata": {
    "collapsed": false,
    "execution": {
     "iopub.execute_input": "2024-06-13T20:19:26.805795Z",
     "iopub.status.busy": "2024-06-13T20:19:26.805724Z",
     "iopub.status.idle": "2024-06-13T20:19:26.807200Z",
     "shell.execute_reply": "2024-06-13T20:19:26.806991Z"
    }
   },
   "outputs": [
    {
     "name": "stdout",
     "output_type": "stream",
     "text": [
      "Symmetric Difference: {1, 2, 3, 6, 7, 8}\n",
      "Symmetric Difference: {1, 2, 3, 6, 7, 8}\n"
     ]
    }
   ],
   "source": [
    "# Symmetric Difference: elements that are in either of the sets and not in their intersection\n",
    "print(\"Symmetric Difference:\", set1 ^ set2)\n",
    "print(\"Symmetric Difference:\", set1.symmetric_difference(set2))"
   ]
  },
  {
   "cell_type": "code",
   "execution_count": 32,
   "id": "1e4f10e312f06336",
   "metadata": {
    "collapsed": false,
    "execution": {
     "iopub.execute_input": "2024-06-13T20:19:26.808321Z",
     "iopub.status.busy": "2024-06-13T20:19:26.808246Z",
     "iopub.status.idle": "2024-06-13T20:19:26.809845Z",
     "shell.execute_reply": "2024-06-13T20:19:26.809608Z"
    }
   },
   "outputs": [
    {
     "name": "stdout",
     "output_type": "stream",
     "text": [
      "Set 1 after adding 6: {1, 2, 3, 4, 5, 6}\n"
     ]
    }
   ],
   "source": [
    "# Adding an element\n",
    "set1.add(6)\n",
    "print(\"Set 1 after adding 6:\", set1)"
   ]
  },
  {
   "cell_type": "code",
   "execution_count": 33,
   "id": "bc25923199a421c4",
   "metadata": {
    "collapsed": false,
    "execution": {
     "iopub.execute_input": "2024-06-13T20:19:26.810912Z",
     "iopub.status.busy": "2024-06-13T20:19:26.810837Z",
     "iopub.status.idle": "2024-06-13T20:19:26.812208Z",
     "shell.execute_reply": "2024-06-13T20:19:26.812005Z"
    }
   },
   "outputs": [
    {
     "name": "stdout",
     "output_type": "stream",
     "text": [
      "Set 1 after removing 6: {1, 2, 3, 4, 5}\n"
     ]
    }
   ],
   "source": [
    "# Removing an element\n",
    "set1.remove(6)\n",
    "print(\"Set 1 after removing 6:\", set1)"
   ]
  },
  {
   "cell_type": "markdown",
   "id": "e20592a055bf7e27",
   "metadata": {
    "collapsed": false
   },
   "source": [
    "### Dictionary\n",
    "A dictionary is an unordered collection of key-value pairs. Each key must be unique and immutable, while values can be of any data type."
   ]
  },
  {
   "cell_type": "code",
   "execution_count": 34,
   "id": "95ef5284234e4edb",
   "metadata": {
    "collapsed": false,
    "execution": {
     "iopub.execute_input": "2024-06-13T20:19:26.813243Z",
     "iopub.status.busy": "2024-06-13T20:19:26.813165Z",
     "iopub.status.idle": "2024-06-13T20:19:26.814810Z",
     "shell.execute_reply": "2024-06-13T20:19:26.814578Z"
    }
   },
   "outputs": [
    {
     "name": "stdout",
     "output_type": "stream",
     "text": [
      "{'name': 'John', 'age': 30, 'city': 'New York'}\n"
     ]
    }
   ],
   "source": [
    "# definition\n",
    "dict1 = {\"name\": \"John\", \"age\": 30, \"city\": \"New York\"}\n",
    "print(dict1) "
   ]
  },
  {
   "cell_type": "code",
   "execution_count": 35,
   "id": "13c2c39026d77924",
   "metadata": {
    "collapsed": false,
    "execution": {
     "iopub.execute_input": "2024-06-13T20:19:26.815961Z",
     "iopub.status.busy": "2024-06-13T20:19:26.815882Z",
     "iopub.status.idle": "2024-06-13T20:19:26.817366Z",
     "shell.execute_reply": "2024-06-13T20:19:26.817181Z"
    }
   },
   "outputs": [
    {
     "name": "stdout",
     "output_type": "stream",
     "text": [
      "John\n"
     ]
    }
   ],
   "source": [
    "# access value via key\n",
    "print(dict1[\"name\"])  "
   ]
  },
  {
   "cell_type": "code",
   "execution_count": 36,
   "id": "6080a024b58651d4",
   "metadata": {
    "collapsed": false,
    "execution": {
     "iopub.execute_input": "2024-06-13T20:19:26.818419Z",
     "iopub.status.busy": "2024-06-13T20:19:26.818350Z",
     "iopub.status.idle": "2024-06-13T20:19:26.819806Z",
     "shell.execute_reply": "2024-06-13T20:19:26.819576Z"
    }
   },
   "outputs": [
    {
     "name": "stdout",
     "output_type": "stream",
     "text": [
      "{'name': 'John', 'age': 31, 'city': 'New York'}\n"
     ]
    }
   ],
   "source": [
    "# modify value via key\n",
    "dict1[\"age\"] = 31\n",
    "print(dict1)"
   ]
  },
  {
   "cell_type": "markdown",
   "id": "54846b9a4ea53d64",
   "metadata": {
    "collapsed": false
   },
   "source": [
    "## Control Statements\n",
    "1. `if-else` condition statement\n",
    "2. `while` loop\n",
    "3. `for` loop"
   ]
  },
  {
   "cell_type": "markdown",
   "id": "c35ce14f1fdbfa45",
   "metadata": {
    "collapsed": false
   },
   "source": [
    "### `if-else`\n",
    "The `if` statement is used to test a condition. If the condition is true, a block of code is executed. The `else` statement can be used to execute a block of code if the condition is false."
   ]
  },
  {
   "cell_type": "code",
   "execution_count": 37,
   "id": "2a77de46159ba660",
   "metadata": {
    "collapsed": false,
    "execution": {
     "iopub.execute_input": "2024-06-13T20:19:26.820905Z",
     "iopub.status.busy": "2024-06-13T20:19:26.820839Z",
     "iopub.status.idle": "2024-06-13T20:19:26.822394Z",
     "shell.execute_reply": "2024-06-13T20:19:26.822216Z"
    }
   },
   "outputs": [
    {
     "name": "stdout",
     "output_type": "stream",
     "text": [
      "x is between 10 and 100\n"
     ]
    }
   ],
   "source": [
    "x = 10\n",
    "if x > 100:\n",
    "    print(\"x is greater than 100\")\n",
    "elif x < 10:\n",
    "    print(\"x is less than 10\")\n",
    "else:\n",
    "    print(\"x is between 10 and 100\")"
   ]
  },
  {
   "cell_type": "markdown",
   "id": "62011f3425b35885",
   "metadata": {
    "collapsed": false
   },
   "source": [
    "### `while` \n",
    "The `while` loop is used to repeat a block of code as long as a condition is true."
   ]
  },
  {
   "cell_type": "code",
   "execution_count": 38,
   "id": "2ec4438579949cf4",
   "metadata": {
    "collapsed": false,
    "execution": {
     "iopub.execute_input": "2024-06-13T20:19:26.823511Z",
     "iopub.status.busy": "2024-06-13T20:19:26.823421Z",
     "iopub.status.idle": "2024-06-13T20:19:26.825023Z",
     "shell.execute_reply": "2024-06-13T20:19:26.824803Z"
    }
   },
   "outputs": [
    {
     "name": "stdout",
     "output_type": "stream",
     "text": [
      "0\n",
      "1\n",
      "2\n",
      "3\n",
      "4\n"
     ]
    }
   ],
   "source": [
    "count = 0\n",
    "while count < 5:\n",
    "    print(count)\n",
    "    count += 1"
   ]
  },
  {
   "cell_type": "markdown",
   "id": "4f1103e33bb1865c",
   "metadata": {
    "collapsed": false
   },
   "source": [
    "### `for` loop\n",
    "The `for` loop is used to iterate over a sequence (like a list, tuple, dictionary, set, or string) and execute a block of code for each element."
   ]
  },
  {
   "cell_type": "code",
   "execution_count": 39,
   "id": "11390d842cf231b3",
   "metadata": {
    "collapsed": false,
    "execution": {
     "iopub.execute_input": "2024-06-13T20:19:26.826213Z",
     "iopub.status.busy": "2024-06-13T20:19:26.826152Z",
     "iopub.status.idle": "2024-06-13T20:19:26.827717Z",
     "shell.execute_reply": "2024-06-13T20:19:26.827483Z"
    }
   },
   "outputs": [
    {
     "name": "stdout",
     "output_type": "stream",
     "text": [
      "0\n",
      "1\n",
      "2\n",
      "3\n",
      "4\n"
     ]
    }
   ],
   "source": [
    "for i in range(5):\n",
    "    print(i)"
   ]
  },
  {
   "cell_type": "markdown",
   "id": "730997e26107ee6b",
   "metadata": {
    "collapsed": false
   },
   "source": [
    "## Simple I/O Streaming"
   ]
  },
  {
   "cell_type": "markdown",
   "id": "628dc2ebb576473d",
   "metadata": {
    "collapsed": false
   },
   "source": [
    "### Input"
   ]
  },
  {
   "cell_type": "markdown",
   "id": "b615605beb863f7f",
   "metadata": {
    "collapsed": false
   },
   "source": [
    "```python\n",
    "name = input(\"Enter your name: \")\n",
    "print(\"Hello, \" + name + \"!\")\n",
    "```"
   ]
  },
  {
   "cell_type": "markdown",
   "id": "2e10996b6f225f74",
   "metadata": {
    "collapsed": false
   },
   "source": [
    "### Formatted Output\n",
    "#### String"
   ]
  },
  {
   "cell_type": "code",
   "execution_count": 40,
   "id": "4c81a7b54aad41e9",
   "metadata": {
    "collapsed": false,
    "execution": {
     "iopub.execute_input": "2024-06-13T20:19:26.828848Z",
     "iopub.status.busy": "2024-06-13T20:19:26.828788Z",
     "iopub.status.idle": "2024-06-13T20:19:26.830291Z",
     "shell.execute_reply": "2024-06-13T20:19:26.830090Z"
    }
   },
   "outputs": [
    {
     "name": "stdout",
     "output_type": "stream",
     "text": [
      "Name: John, Age: 30\n"
     ]
    }
   ],
   "source": [
    "name = \"John\"\n",
    "age = 30\n",
    "\n",
    "# Example of formatted output using format() method\n",
    "print(\"Name: {}, Age: {}\".format(name, age))"
   ]
  },
  {
   "cell_type": "code",
   "execution_count": 41,
   "id": "c3a80bd331c0eb80",
   "metadata": {
    "collapsed": false,
    "execution": {
     "iopub.execute_input": "2024-06-13T20:19:26.831242Z",
     "iopub.status.busy": "2024-06-13T20:19:26.831186Z",
     "iopub.status.idle": "2024-06-13T20:19:26.832649Z",
     "shell.execute_reply": "2024-06-13T20:19:26.832486Z"
    }
   },
   "outputs": [
    {
     "name": "stdout",
     "output_type": "stream",
     "text": [
      "Name: John, Age: 30\n"
     ]
    }
   ],
   "source": [
    "# Example of formatted output using f-strings\n",
    "print(f\"Name: {name}, Age: {age}\")"
   ]
  },
  {
   "cell_type": "markdown",
   "id": "7e1420703d810d15",
   "metadata": {
    "collapsed": false
   },
   "source": [
    "#### Float"
   ]
  },
  {
   "cell_type": "code",
   "execution_count": 42,
   "id": "a436db3c1744904a",
   "metadata": {
    "collapsed": false,
    "execution": {
     "iopub.execute_input": "2024-06-13T20:19:26.833803Z",
     "iopub.status.busy": "2024-06-13T20:19:26.833721Z",
     "iopub.status.idle": "2024-06-13T20:19:26.835154Z",
     "shell.execute_reply": "2024-06-13T20:19:26.834976Z"
    }
   },
   "outputs": [
    {
     "name": "stdout",
     "output_type": "stream",
     "text": [
      "The price of the item is 11.0.\n"
     ]
    }
   ],
   "source": [
    "price = 10.99\n",
    "# built-in round function\n",
    "print(f\"The price of the item is {round(price, 1)}.\")"
   ]
  },
  {
   "cell_type": "code",
   "execution_count": 43,
   "id": "9b9099b4f849bfd2",
   "metadata": {
    "collapsed": false,
    "execution": {
     "iopub.execute_input": "2024-06-13T20:19:26.836242Z",
     "iopub.status.busy": "2024-06-13T20:19:26.836184Z",
     "iopub.status.idle": "2024-06-13T20:19:26.837554Z",
     "shell.execute_reply": "2024-06-13T20:19:26.837348Z"
    }
   },
   "outputs": [
    {
     "name": "stdout",
     "output_type": "stream",
     "text": [
      "The price of the item is 11.0.\n"
     ]
    }
   ],
   "source": [
    "# f-string\n",
    "print(f\"The price of the item is {price:.1f}.\")"
   ]
  }
 ],
 "metadata": {
  "kernelspec": {
   "display_name": "Python 3",
   "language": "python",
   "name": "python3"
  },
  "language_info": {
   "codemirror_mode": {
    "name": "ipython",
    "version": 3
   },
   "file_extension": ".py",
   "mimetype": "text/x-python",
   "name": "python",
   "nbconvert_exporter": "python",
   "pygments_lexer": "ipython3",
   "version": "3.12.3"
  }
 },
 "nbformat": 4,
 "nbformat_minor": 5
}
