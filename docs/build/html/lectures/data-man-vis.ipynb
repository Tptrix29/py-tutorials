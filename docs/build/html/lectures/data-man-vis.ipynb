{
 "cells": [
  {
   "cell_type": "markdown",
   "id": "4ce08a402dc8f82a",
   "metadata": {
    "collapsed": false
   },
   "source": [
    "# Data Manipulation and Visualization\n",
    "1. `numpy` for array operation\n",
    "2. `pandas` for dataframe operation\n",
    "3. `matplotlib` for visualization\n",
    "    \n",
    "    "
   ]
  },
  {
   "cell_type": "code",
   "execution_count": 1,
   "id": "6037ef952d9bf17f",
   "metadata": {
    "ExecuteTime": {
     "end_time": "2024-07-04T03:54:42.269420Z",
     "start_time": "2024-07-04T03:54:41.817915Z"
    },
    "collapsed": false
   },
   "outputs": [],
   "source": [
    "import numpy as np\n",
    "import pandas as pd\n",
    "import matplotlib.pyplot as plt"
   ]
  },
  {
   "cell_type": "markdown",
   "id": "81079073e5542a4e",
   "metadata": {
    "collapsed": false
   },
   "source": [
    "## Array Operations\n",
    "1. Create array\n",
    "2. Reshape\n",
    "3. Filtering\n",
    "4. Operations: sort, max, min, mean, sum\n",
    "5. Broadcasting\n",
    "6. Concatenation\n",
    "7. Splitting"
   ]
  },
  {
   "cell_type": "code",
   "execution_count": 2,
   "id": "815d754762c432e6",
   "metadata": {
    "ExecuteTime": {
     "end_time": "2024-07-04T03:54:42.273037Z",
     "start_time": "2024-07-04T03:54:42.270771Z"
    },
    "collapsed": false
   },
   "outputs": [
    {
     "data": {
      "text/plain": [
       "array([1, 2, 3, 4, 5])"
      ]
     },
     "execution_count": 2,
     "metadata": {},
     "output_type": "execute_result"
    }
   ],
   "source": [
    "# Create array\n",
    "arr = np.array([1, 2, 3, 4, 5])\n",
    "arr"
   ]
  },
  {
   "cell_type": "code",
   "execution_count": 3,
   "id": "dd0713d338bb9ae7",
   "metadata": {
    "ExecuteTime": {
     "end_time": "2024-07-04T03:54:42.276769Z",
     "start_time": "2024-07-04T03:54:42.273190Z"
    },
    "collapsed": false
   },
   "outputs": [
    {
     "data": {
      "text/plain": [
       "((2, 3), (3, 2))"
      ]
     },
     "execution_count": 3,
     "metadata": {},
     "output_type": "execute_result"
    }
   ],
   "source": [
    "# Reshape\n",
    "arr1 = np.array([[1, 2, 3], [4, 5, 6]])\n",
    "arr2 = arr1.reshape(3, 2)\n",
    "arr1.shape, arr2.shape"
   ]
  },
  {
   "cell_type": "code",
   "execution_count": 4,
   "id": "cde370c5a31c73d8",
   "metadata": {
    "ExecuteTime": {
     "end_time": "2024-07-04T03:54:42.278187Z",
     "start_time": "2024-07-04T03:54:42.276082Z"
    },
    "collapsed": false
   },
   "outputs": [
    {
     "data": {
      "text/plain": [
       "array([4, 5])"
      ]
     },
     "execution_count": 4,
     "metadata": {},
     "output_type": "execute_result"
    }
   ],
   "source": [
    "# Filtering\n",
    "arr = np.array([1, 2, 3, 4, 5])\n",
    "arr[arr > 3]"
   ]
  },
  {
   "cell_type": "code",
   "execution_count": 5,
   "id": "ecfaac1785b20284",
   "metadata": {
    "ExecuteTime": {
     "end_time": "2024-07-04T03:54:42.280063Z",
     "start_time": "2024-07-04T03:54:42.278603Z"
    },
    "collapsed": false
   },
   "outputs": [
    {
     "name": "stdout",
     "output_type": "stream",
     "text": [
      "[4 6 0 8 9 2 2 7 0 5]\n",
      "[0 0 2 2 4 5 6 7 8 9]\n"
     ]
    },
    {
     "data": {
      "text/plain": [
       "(9, 0, 4.3, 43)"
      ]
     },
     "execution_count": 5,
     "metadata": {},
     "output_type": "execute_result"
    }
   ],
   "source": [
    "# Operations\n",
    "arr = np.random.randint(0, 10, 10)\n",
    "print(arr)\n",
    "arr.sort()\n",
    "print(arr)\n",
    "arr.max(), arr.min(), arr.mean(), arr.sum()"
   ]
  },
  {
   "cell_type": "code",
   "execution_count": 6,
   "id": "2945270a988ae655",
   "metadata": {
    "ExecuteTime": {
     "end_time": "2024-07-04T03:54:42.282918Z",
     "start_time": "2024-07-04T03:54:42.280831Z"
    },
    "collapsed": false
   },
   "outputs": [
    {
     "data": {
      "text/plain": [
       "array([2, 3, 4, 5, 6])"
      ]
     },
     "execution_count": 6,
     "metadata": {},
     "output_type": "execute_result"
    }
   ],
   "source": [
    "# Broadcasting\n",
    "arr = np.array([1, 2, 3, 4, 5])\n",
    "arr + 1"
   ]
  },
  {
   "cell_type": "code",
   "execution_count": 7,
   "id": "7c7efef6898ac103",
   "metadata": {
    "ExecuteTime": {
     "end_time": "2024-07-04T03:54:42.285002Z",
     "start_time": "2024-07-04T03:54:42.283348Z"
    },
    "collapsed": false
   },
   "outputs": [
    {
     "data": {
      "text/plain": [
       "(array([[ 1,  2],\n",
       "        [ 4,  5],\n",
       "        [ 7,  8],\n",
       "        [10, 11]]),\n",
       " array([[ 1,  2,  7,  8],\n",
       "        [ 4,  5, 10, 11]]))"
      ]
     },
     "execution_count": 7,
     "metadata": {},
     "output_type": "execute_result"
    }
   ],
   "source": [
    "# Concatenation\n",
    "arr1 = np.array([[1, 2], [4, 5]])\n",
    "arr2 = np.array([[7, 8], [10, 11]])\n",
    "np.concatenate((arr1, arr2), axis=0), np.concatenate((arr1, arr2), axis=1)"
   ]
  },
  {
   "cell_type": "code",
   "execution_count": 8,
   "id": "71217d28fbb8838f",
   "metadata": {
    "ExecuteTime": {
     "end_time": "2024-07-04T03:54:42.287748Z",
     "start_time": "2024-07-04T03:54:42.285561Z"
    },
    "collapsed": false
   },
   "outputs": [
    {
     "data": {
      "text/plain": [
       "[array([[1, 2, 3]]), array([[4, 5, 6]])]"
      ]
     },
     "execution_count": 8,
     "metadata": {},
     "output_type": "execute_result"
    }
   ],
   "source": [
    "# Splitting\n",
    "arr = np.array([[1, 2, 3], [4, 5, 6]])\n",
    "np.split(arr, 2, axis=0)"
   ]
  },
  {
   "cell_type": "markdown",
   "id": "7aa5bd685863d52d",
   "metadata": {
    "collapsed": false
   },
   "source": [
    "## DataFrame Operations\n",
    "1. Create dataframe\n",
    "2. Elements: index, columns, rows\n",
    "3. Indexing\n",
    "4. Descriptive statistics\n",
    "5. Filtering\n",
    "6. Operations: sort, max, min, mean, sum\n",
    "7. Concatenation\n",
    "8. Groupby\n",
    "9. Pivot\n",
    "10. Merge & Join"
   ]
  },
  {
   "cell_type": "code",
   "execution_count": 9,
   "id": "a2b44ff6ac4d09cb",
   "metadata": {
    "ExecuteTime": {
     "end_time": "2024-07-04T03:54:42.323659Z",
     "start_time": "2024-07-04T03:54:42.289441Z"
    },
    "collapsed": false
   },
   "outputs": [
    {
     "data": {
      "text/html": [
       "<div>\n",
       "<style scoped>\n",
       "    .dataframe tbody tr th:only-of-type {\n",
       "        vertical-align: middle;\n",
       "    }\n",
       "\n",
       "    .dataframe tbody tr th {\n",
       "        vertical-align: top;\n",
       "    }\n",
       "\n",
       "    .dataframe thead th {\n",
       "        text-align: right;\n",
       "    }\n",
       "</style>\n",
       "<table border=\"1\" class=\"dataframe\">\n",
       "  <thead>\n",
       "    <tr style=\"text-align: right;\">\n",
       "      <th></th>\n",
       "      <th>Name</th>\n",
       "      <th>Age</th>\n",
       "      <th>City</th>\n",
       "      <th>Score</th>\n",
       "    </tr>\n",
       "  </thead>\n",
       "  <tbody>\n",
       "    <tr>\n",
       "      <th>0</th>\n",
       "      <td>Alice</td>\n",
       "      <td>24</td>\n",
       "      <td>New York</td>\n",
       "      <td>88</td>\n",
       "    </tr>\n",
       "    <tr>\n",
       "      <th>1</th>\n",
       "      <td>Bob</td>\n",
       "      <td>27</td>\n",
       "      <td>Los Angeles</td>\n",
       "      <td>92</td>\n",
       "    </tr>\n",
       "    <tr>\n",
       "      <th>2</th>\n",
       "      <td>Charlie</td>\n",
       "      <td>22</td>\n",
       "      <td>Chicago</td>\n",
       "      <td>95</td>\n",
       "    </tr>\n",
       "    <tr>\n",
       "      <th>3</th>\n",
       "      <td>David</td>\n",
       "      <td>32</td>\n",
       "      <td>Philadelphia</td>\n",
       "      <td>70</td>\n",
       "    </tr>\n",
       "    <tr>\n",
       "      <th>4</th>\n",
       "      <td>Eve</td>\n",
       "      <td>29</td>\n",
       "      <td>Phoenix</td>\n",
       "      <td>85</td>\n",
       "    </tr>\n",
       "    <tr>\n",
       "      <th>5</th>\n",
       "      <td>Frank</td>\n",
       "      <td>35</td>\n",
       "      <td>Philadelphia</td>\n",
       "      <td>90</td>\n",
       "    </tr>\n",
       "    <tr>\n",
       "      <th>6</th>\n",
       "      <td>Grace</td>\n",
       "      <td>20</td>\n",
       "      <td>Los Angeles</td>\n",
       "      <td>89</td>\n",
       "    </tr>\n",
       "    <tr>\n",
       "      <th>7</th>\n",
       "      <td>Helen</td>\n",
       "      <td>26</td>\n",
       "      <td>San Diego</td>\n",
       "      <td>78</td>\n",
       "    </tr>\n",
       "    <tr>\n",
       "      <th>8</th>\n",
       "      <td>Ivy</td>\n",
       "      <td>25</td>\n",
       "      <td>Los Angeles</td>\n",
       "      <td>93</td>\n",
       "    </tr>\n",
       "    <tr>\n",
       "      <th>9</th>\n",
       "      <td>Jack</td>\n",
       "      <td>30</td>\n",
       "      <td>San Jose</td>\n",
       "      <td>80</td>\n",
       "    </tr>\n",
       "  </tbody>\n",
       "</table>\n",
       "</div>"
      ],
      "text/plain": [
       "      Name  Age          City  Score\n",
       "0    Alice   24      New York     88\n",
       "1      Bob   27   Los Angeles     92\n",
       "2  Charlie   22       Chicago     95\n",
       "3    David   32  Philadelphia     70\n",
       "4      Eve   29       Phoenix     85\n",
       "5    Frank   35  Philadelphia     90\n",
       "6    Grace   20   Los Angeles     89\n",
       "7    Helen   26     San Diego     78\n",
       "8      Ivy   25   Los Angeles     93\n",
       "9     Jack   30      San Jose     80"
      ]
     },
     "execution_count": 9,
     "metadata": {},
     "output_type": "execute_result"
    }
   ],
   "source": [
    "# Create dataframe\n",
    "data = {\n",
    "    'Name': ['Alice', 'Bob', 'Charlie', 'David', 'Eve', 'Frank', 'Grace', 'Helen', 'Ivy', 'Jack'],\n",
    "    'Age': [24, 27, 22, 32, 29, 35, 20, 26, 25, 30],\n",
    "    'City': ['New York', 'Los Angeles', 'Chicago', 'Philadelphia', 'Phoenix', 'Philadelphia', 'Los Angeles', 'San Diego', 'Los Angeles', 'San Jose'],\n",
    "    'Score': [88, 92, 95, 70, 85, 90, 89, 78, 93, 80]\n",
    "}\n",
    "df = pd.DataFrame(data)\n",
    "df"
   ]
  },
  {
   "cell_type": "code",
   "execution_count": 10,
   "id": "fa1924f7ef0a48b3",
   "metadata": {
    "ExecuteTime": {
     "end_time": "2024-07-04T03:54:42.324391Z",
     "start_time": "2024-07-04T03:54:42.295284Z"
    },
    "collapsed": false
   },
   "outputs": [
    {
     "data": {
      "text/plain": [
       "(RangeIndex(start=0, stop=10, step=1),\n",
       " Index(['Name', 'Age', 'City', 'Score'], dtype='object'),\n",
       " array([['Alice', 24, 'New York', 88],\n",
       "        ['Bob', 27, 'Los Angeles', 92],\n",
       "        ['Charlie', 22, 'Chicago', 95],\n",
       "        ['David', 32, 'Philadelphia', 70],\n",
       "        ['Eve', 29, 'Phoenix', 85],\n",
       "        ['Frank', 35, 'Philadelphia', 90],\n",
       "        ['Grace', 20, 'Los Angeles', 89],\n",
       "        ['Helen', 26, 'San Diego', 78],\n",
       "        ['Ivy', 25, 'Los Angeles', 93],\n",
       "        ['Jack', 30, 'San Jose', 80]], dtype=object))"
      ]
     },
     "execution_count": 10,
     "metadata": {},
     "output_type": "execute_result"
    }
   ],
   "source": [
    "# Elements\n",
    "df.index, df.columns, df.values"
   ]
  },
  {
   "cell_type": "code",
   "execution_count": 11,
   "id": "eb93332e15efe2c1",
   "metadata": {
    "ExecuteTime": {
     "end_time": "2024-07-04T03:54:42.324854Z",
     "start_time": "2024-07-04T03:54:42.297694Z"
    },
    "collapsed": false
   },
   "outputs": [
    {
     "data": {
      "text/plain": [
       "('Alice', 'Alice', 'Alice')"
      ]
     },
     "execution_count": 11,
     "metadata": {},
     "output_type": "execute_result"
    }
   ],
   "source": [
    "# Indexing\n",
    "df.loc[0, \"Name\"], df.iloc[0, 0], df[\"Name\"][0]"
   ]
  },
  {
   "cell_type": "code",
   "execution_count": 12,
   "id": "d510e4af534648ae",
   "metadata": {
    "ExecuteTime": {
     "end_time": "2024-07-04T03:54:42.325458Z",
     "start_time": "2024-07-04T03:54:42.300334Z"
    },
    "collapsed": false
   },
   "outputs": [
    {
     "data": {
      "text/html": [
       "<div>\n",
       "<style scoped>\n",
       "    .dataframe tbody tr th:only-of-type {\n",
       "        vertical-align: middle;\n",
       "    }\n",
       "\n",
       "    .dataframe tbody tr th {\n",
       "        vertical-align: top;\n",
       "    }\n",
       "\n",
       "    .dataframe thead th {\n",
       "        text-align: right;\n",
       "    }\n",
       "</style>\n",
       "<table border=\"1\" class=\"dataframe\">\n",
       "  <thead>\n",
       "    <tr style=\"text-align: right;\">\n",
       "      <th></th>\n",
       "      <th>Age</th>\n",
       "      <th>Score</th>\n",
       "    </tr>\n",
       "  </thead>\n",
       "  <tbody>\n",
       "    <tr>\n",
       "      <th>count</th>\n",
       "      <td>10.000000</td>\n",
       "      <td>10.00000</td>\n",
       "    </tr>\n",
       "    <tr>\n",
       "      <th>mean</th>\n",
       "      <td>27.000000</td>\n",
       "      <td>86.00000</td>\n",
       "    </tr>\n",
       "    <tr>\n",
       "      <th>std</th>\n",
       "      <td>4.594683</td>\n",
       "      <td>7.83156</td>\n",
       "    </tr>\n",
       "    <tr>\n",
       "      <th>min</th>\n",
       "      <td>20.000000</td>\n",
       "      <td>70.00000</td>\n",
       "    </tr>\n",
       "    <tr>\n",
       "      <th>25%</th>\n",
       "      <td>24.250000</td>\n",
       "      <td>81.25000</td>\n",
       "    </tr>\n",
       "    <tr>\n",
       "      <th>50%</th>\n",
       "      <td>26.500000</td>\n",
       "      <td>88.50000</td>\n",
       "    </tr>\n",
       "    <tr>\n",
       "      <th>75%</th>\n",
       "      <td>29.750000</td>\n",
       "      <td>91.50000</td>\n",
       "    </tr>\n",
       "    <tr>\n",
       "      <th>max</th>\n",
       "      <td>35.000000</td>\n",
       "      <td>95.00000</td>\n",
       "    </tr>\n",
       "  </tbody>\n",
       "</table>\n",
       "</div>"
      ],
      "text/plain": [
       "             Age     Score\n",
       "count  10.000000  10.00000\n",
       "mean   27.000000  86.00000\n",
       "std     4.594683   7.83156\n",
       "min    20.000000  70.00000\n",
       "25%    24.250000  81.25000\n",
       "50%    26.500000  88.50000\n",
       "75%    29.750000  91.50000\n",
       "max    35.000000  95.00000"
      ]
     },
     "execution_count": 12,
     "metadata": {},
     "output_type": "execute_result"
    }
   ],
   "source": [
    "# Descriptive statistics\n",
    "df.describe()"
   ]
  },
  {
   "cell_type": "code",
   "execution_count": 13,
   "id": "b03ec52ba4e09527",
   "metadata": {
    "ExecuteTime": {
     "end_time": "2024-07-04T03:54:42.325983Z",
     "start_time": "2024-07-04T03:54:42.307068Z"
    },
    "collapsed": false
   },
   "outputs": [
    {
     "data": {
      "text/html": [
       "<div>\n",
       "<style scoped>\n",
       "    .dataframe tbody tr th:only-of-type {\n",
       "        vertical-align: middle;\n",
       "    }\n",
       "\n",
       "    .dataframe tbody tr th {\n",
       "        vertical-align: top;\n",
       "    }\n",
       "\n",
       "    .dataframe thead th {\n",
       "        text-align: right;\n",
       "    }\n",
       "</style>\n",
       "<table border=\"1\" class=\"dataframe\">\n",
       "  <thead>\n",
       "    <tr style=\"text-align: right;\">\n",
       "      <th></th>\n",
       "      <th>Name</th>\n",
       "      <th>Age</th>\n",
       "      <th>City</th>\n",
       "      <th>Score</th>\n",
       "    </tr>\n",
       "  </thead>\n",
       "  <tbody>\n",
       "    <tr>\n",
       "      <th>1</th>\n",
       "      <td>Bob</td>\n",
       "      <td>27</td>\n",
       "      <td>Los Angeles</td>\n",
       "      <td>92</td>\n",
       "    </tr>\n",
       "    <tr>\n",
       "      <th>3</th>\n",
       "      <td>David</td>\n",
       "      <td>32</td>\n",
       "      <td>Philadelphia</td>\n",
       "      <td>70</td>\n",
       "    </tr>\n",
       "    <tr>\n",
       "      <th>4</th>\n",
       "      <td>Eve</td>\n",
       "      <td>29</td>\n",
       "      <td>Phoenix</td>\n",
       "      <td>85</td>\n",
       "    </tr>\n",
       "    <tr>\n",
       "      <th>5</th>\n",
       "      <td>Frank</td>\n",
       "      <td>35</td>\n",
       "      <td>Philadelphia</td>\n",
       "      <td>90</td>\n",
       "    </tr>\n",
       "    <tr>\n",
       "      <th>7</th>\n",
       "      <td>Helen</td>\n",
       "      <td>26</td>\n",
       "      <td>San Diego</td>\n",
       "      <td>78</td>\n",
       "    </tr>\n",
       "    <tr>\n",
       "      <th>9</th>\n",
       "      <td>Jack</td>\n",
       "      <td>30</td>\n",
       "      <td>San Jose</td>\n",
       "      <td>80</td>\n",
       "    </tr>\n",
       "  </tbody>\n",
       "</table>\n",
       "</div>"
      ],
      "text/plain": [
       "    Name  Age          City  Score\n",
       "1    Bob   27   Los Angeles     92\n",
       "3  David   32  Philadelphia     70\n",
       "4    Eve   29       Phoenix     85\n",
       "5  Frank   35  Philadelphia     90\n",
       "7  Helen   26     San Diego     78\n",
       "9   Jack   30      San Jose     80"
      ]
     },
     "execution_count": 13,
     "metadata": {},
     "output_type": "execute_result"
    }
   ],
   "source": [
    "# Filtering\n",
    "df[df['Age'] > 25]\n",
    "df.query('Age > 25')"
   ]
  },
  {
   "cell_type": "code",
   "execution_count": 14,
   "id": "34510dde64a178f0",
   "metadata": {
    "ExecuteTime": {
     "end_time": "2024-07-04T03:54:42.326646Z",
     "start_time": "2024-07-04T03:54:42.310068Z"
    },
    "collapsed": false
   },
   "outputs": [
    {
     "data": {
      "text/plain": [
       "(95, 70, 86.0, 860)"
      ]
     },
     "execution_count": 14,
     "metadata": {},
     "output_type": "execute_result"
    }
   ],
   "source": [
    "# Operations\n",
    "df.sort_values(by='Age')\n",
    "df[\"Score\"].max(), df[\"Score\"].min(), df[\"Score\"].mean(), df[\"Score\"].sum()"
   ]
  },
  {
   "cell_type": "code",
   "execution_count": 15,
   "id": "ef60967a04639346",
   "metadata": {
    "ExecuteTime": {
     "end_time": "2024-07-04T03:54:42.353983Z",
     "start_time": "2024-07-04T03:54:42.312513Z"
    },
    "collapsed": false
   },
   "outputs": [
    {
     "data": {
      "text/html": [
       "<div>\n",
       "<style scoped>\n",
       "    .dataframe tbody tr th:only-of-type {\n",
       "        vertical-align: middle;\n",
       "    }\n",
       "\n",
       "    .dataframe tbody tr th {\n",
       "        vertical-align: top;\n",
       "    }\n",
       "\n",
       "    .dataframe thead th {\n",
       "        text-align: right;\n",
       "    }\n",
       "</style>\n",
       "<table border=\"1\" class=\"dataframe\">\n",
       "  <thead>\n",
       "    <tr style=\"text-align: right;\">\n",
       "      <th></th>\n",
       "      <th>Name</th>\n",
       "      <th>Age</th>\n",
       "      <th>City</th>\n",
       "      <th>Score</th>\n",
       "    </tr>\n",
       "  </thead>\n",
       "  <tbody>\n",
       "    <tr>\n",
       "      <th>0</th>\n",
       "      <td>Alice</td>\n",
       "      <td>24</td>\n",
       "      <td>New York</td>\n",
       "      <td>88</td>\n",
       "    </tr>\n",
       "    <tr>\n",
       "      <th>1</th>\n",
       "      <td>Bob</td>\n",
       "      <td>27</td>\n",
       "      <td>Los Angeles</td>\n",
       "      <td>92</td>\n",
       "    </tr>\n",
       "    <tr>\n",
       "      <th>2</th>\n",
       "      <td>Charlie</td>\n",
       "      <td>22</td>\n",
       "      <td>Chicago</td>\n",
       "      <td>95</td>\n",
       "    </tr>\n",
       "    <tr>\n",
       "      <th>3</th>\n",
       "      <td>David</td>\n",
       "      <td>32</td>\n",
       "      <td>Philadelphia</td>\n",
       "      <td>70</td>\n",
       "    </tr>\n",
       "    <tr>\n",
       "      <th>4</th>\n",
       "      <td>Eve</td>\n",
       "      <td>29</td>\n",
       "      <td>Phoenix</td>\n",
       "      <td>85</td>\n",
       "    </tr>\n",
       "    <tr>\n",
       "      <th>5</th>\n",
       "      <td>Frank</td>\n",
       "      <td>35</td>\n",
       "      <td>Philadelphia</td>\n",
       "      <td>90</td>\n",
       "    </tr>\n",
       "    <tr>\n",
       "      <th>6</th>\n",
       "      <td>Grace</td>\n",
       "      <td>20</td>\n",
       "      <td>Los Angeles</td>\n",
       "      <td>89</td>\n",
       "    </tr>\n",
       "    <tr>\n",
       "      <th>7</th>\n",
       "      <td>Helen</td>\n",
       "      <td>26</td>\n",
       "      <td>San Diego</td>\n",
       "      <td>78</td>\n",
       "    </tr>\n",
       "    <tr>\n",
       "      <th>8</th>\n",
       "      <td>Ivy</td>\n",
       "      <td>25</td>\n",
       "      <td>Los Angeles</td>\n",
       "      <td>93</td>\n",
       "    </tr>\n",
       "    <tr>\n",
       "      <th>9</th>\n",
       "      <td>Jack</td>\n",
       "      <td>30</td>\n",
       "      <td>San Jose</td>\n",
       "      <td>80</td>\n",
       "    </tr>\n",
       "    <tr>\n",
       "      <th>0</th>\n",
       "      <td>Alice</td>\n",
       "      <td>24</td>\n",
       "      <td>New York</td>\n",
       "      <td>88</td>\n",
       "    </tr>\n",
       "    <tr>\n",
       "      <th>1</th>\n",
       "      <td>Bob</td>\n",
       "      <td>27</td>\n",
       "      <td>Los Angeles</td>\n",
       "      <td>92</td>\n",
       "    </tr>\n",
       "    <tr>\n",
       "      <th>2</th>\n",
       "      <td>Charlie</td>\n",
       "      <td>22</td>\n",
       "      <td>Chicago</td>\n",
       "      <td>95</td>\n",
       "    </tr>\n",
       "    <tr>\n",
       "      <th>3</th>\n",
       "      <td>David</td>\n",
       "      <td>32</td>\n",
       "      <td>Philadelphia</td>\n",
       "      <td>70</td>\n",
       "    </tr>\n",
       "    <tr>\n",
       "      <th>4</th>\n",
       "      <td>Eve</td>\n",
       "      <td>29</td>\n",
       "      <td>Phoenix</td>\n",
       "      <td>85</td>\n",
       "    </tr>\n",
       "    <tr>\n",
       "      <th>5</th>\n",
       "      <td>Frank</td>\n",
       "      <td>35</td>\n",
       "      <td>Philadelphia</td>\n",
       "      <td>90</td>\n",
       "    </tr>\n",
       "    <tr>\n",
       "      <th>6</th>\n",
       "      <td>Grace</td>\n",
       "      <td>20</td>\n",
       "      <td>Los Angeles</td>\n",
       "      <td>89</td>\n",
       "    </tr>\n",
       "    <tr>\n",
       "      <th>7</th>\n",
       "      <td>Helen</td>\n",
       "      <td>26</td>\n",
       "      <td>San Diego</td>\n",
       "      <td>78</td>\n",
       "    </tr>\n",
       "    <tr>\n",
       "      <th>8</th>\n",
       "      <td>Ivy</td>\n",
       "      <td>25</td>\n",
       "      <td>Los Angeles</td>\n",
       "      <td>93</td>\n",
       "    </tr>\n",
       "    <tr>\n",
       "      <th>9</th>\n",
       "      <td>Jack</td>\n",
       "      <td>30</td>\n",
       "      <td>San Jose</td>\n",
       "      <td>80</td>\n",
       "    </tr>\n",
       "  </tbody>\n",
       "</table>\n",
       "</div>"
      ],
      "text/plain": [
       "      Name  Age          City  Score\n",
       "0    Alice   24      New York     88\n",
       "1      Bob   27   Los Angeles     92\n",
       "2  Charlie   22       Chicago     95\n",
       "3    David   32  Philadelphia     70\n",
       "4      Eve   29       Phoenix     85\n",
       "5    Frank   35  Philadelphia     90\n",
       "6    Grace   20   Los Angeles     89\n",
       "7    Helen   26     San Diego     78\n",
       "8      Ivy   25   Los Angeles     93\n",
       "9     Jack   30      San Jose     80\n",
       "0    Alice   24      New York     88\n",
       "1      Bob   27   Los Angeles     92\n",
       "2  Charlie   22       Chicago     95\n",
       "3    David   32  Philadelphia     70\n",
       "4      Eve   29       Phoenix     85\n",
       "5    Frank   35  Philadelphia     90\n",
       "6    Grace   20   Los Angeles     89\n",
       "7    Helen   26     San Diego     78\n",
       "8      Ivy   25   Los Angeles     93\n",
       "9     Jack   30      San Jose     80"
      ]
     },
     "execution_count": 15,
     "metadata": {},
     "output_type": "execute_result"
    }
   ],
   "source": [
    "# Concatenation\n",
    "df1 = pd.DataFrame(data)\n",
    "df2 = pd.DataFrame(data)\n",
    "pd.concat([df1, df2], axis=0)"
   ]
  },
  {
   "cell_type": "code",
   "execution_count": 16,
   "id": "63fa0d94a5151cb6",
   "metadata": {
    "ExecuteTime": {
     "end_time": "2024-07-04T03:54:42.354758Z",
     "start_time": "2024-07-04T03:54:42.317947Z"
    },
    "collapsed": false
   },
   "outputs": [
    {
     "data": {
      "text/html": [
       "<div>\n",
       "<style scoped>\n",
       "    .dataframe tbody tr th:only-of-type {\n",
       "        vertical-align: middle;\n",
       "    }\n",
       "\n",
       "    .dataframe tbody tr th {\n",
       "        vertical-align: top;\n",
       "    }\n",
       "\n",
       "    .dataframe thead tr th {\n",
       "        text-align: left;\n",
       "    }\n",
       "\n",
       "    .dataframe thead tr:last-of-type th {\n",
       "        text-align: right;\n",
       "    }\n",
       "</style>\n",
       "<table border=\"1\" class=\"dataframe\">\n",
       "  <thead>\n",
       "    <tr>\n",
       "      <th></th>\n",
       "      <th>Name</th>\n",
       "      <th colspan=\"3\" halign=\"left\">Age</th>\n",
       "      <th colspan=\"3\" halign=\"left\">Score</th>\n",
       "    </tr>\n",
       "    <tr>\n",
       "      <th></th>\n",
       "      <th>count</th>\n",
       "      <th>mean</th>\n",
       "      <th>min</th>\n",
       "      <th>max</th>\n",
       "      <th>mean</th>\n",
       "      <th>sum</th>\n",
       "      <th>max</th>\n",
       "    </tr>\n",
       "    <tr>\n",
       "      <th>City</th>\n",
       "      <th></th>\n",
       "      <th></th>\n",
       "      <th></th>\n",
       "      <th></th>\n",
       "      <th></th>\n",
       "      <th></th>\n",
       "      <th></th>\n",
       "    </tr>\n",
       "  </thead>\n",
       "  <tbody>\n",
       "    <tr>\n",
       "      <th>Los Angeles</th>\n",
       "      <td>3</td>\n",
       "      <td>24.0</td>\n",
       "      <td>20</td>\n",
       "      <td>27</td>\n",
       "      <td>91.333333</td>\n",
       "      <td>274</td>\n",
       "      <td>93</td>\n",
       "    </tr>\n",
       "    <tr>\n",
       "      <th>Philadelphia</th>\n",
       "      <td>2</td>\n",
       "      <td>33.5</td>\n",
       "      <td>32</td>\n",
       "      <td>35</td>\n",
       "      <td>80.000000</td>\n",
       "      <td>160</td>\n",
       "      <td>90</td>\n",
       "    </tr>\n",
       "    <tr>\n",
       "      <th>Chicago</th>\n",
       "      <td>1</td>\n",
       "      <td>22.0</td>\n",
       "      <td>22</td>\n",
       "      <td>22</td>\n",
       "      <td>95.000000</td>\n",
       "      <td>95</td>\n",
       "      <td>95</td>\n",
       "    </tr>\n",
       "    <tr>\n",
       "      <th>New York</th>\n",
       "      <td>1</td>\n",
       "      <td>24.0</td>\n",
       "      <td>24</td>\n",
       "      <td>24</td>\n",
       "      <td>88.000000</td>\n",
       "      <td>88</td>\n",
       "      <td>88</td>\n",
       "    </tr>\n",
       "    <tr>\n",
       "      <th>Phoenix</th>\n",
       "      <td>1</td>\n",
       "      <td>29.0</td>\n",
       "      <td>29</td>\n",
       "      <td>29</td>\n",
       "      <td>85.000000</td>\n",
       "      <td>85</td>\n",
       "      <td>85</td>\n",
       "    </tr>\n",
       "    <tr>\n",
       "      <th>San Diego</th>\n",
       "      <td>1</td>\n",
       "      <td>26.0</td>\n",
       "      <td>26</td>\n",
       "      <td>26</td>\n",
       "      <td>78.000000</td>\n",
       "      <td>78</td>\n",
       "      <td>78</td>\n",
       "    </tr>\n",
       "    <tr>\n",
       "      <th>San Jose</th>\n",
       "      <td>1</td>\n",
       "      <td>30.0</td>\n",
       "      <td>30</td>\n",
       "      <td>30</td>\n",
       "      <td>80.000000</td>\n",
       "      <td>80</td>\n",
       "      <td>80</td>\n",
       "    </tr>\n",
       "  </tbody>\n",
       "</table>\n",
       "</div>"
      ],
      "text/plain": [
       "              Name   Age              Score         \n",
       "             count  mean min max       mean  sum max\n",
       "City                                                \n",
       "Los Angeles      3  24.0  20  27  91.333333  274  93\n",
       "Philadelphia     2  33.5  32  35  80.000000  160  90\n",
       "Chicago          1  22.0  22  22  95.000000   95  95\n",
       "New York         1  24.0  24  24  88.000000   88  88\n",
       "Phoenix          1  29.0  29  29  85.000000   85  85\n",
       "San Diego        1  26.0  26  26  78.000000   78  78\n",
       "San Jose         1  30.0  30  30  80.000000   80  80"
      ]
     },
     "execution_count": 16,
     "metadata": {},
     "output_type": "execute_result"
    }
   ],
   "source": [
    "# Groupby\n",
    "df.groupby('City').agg({\n",
    "    'Name': 'count',\n",
    "    'Age': ['mean', 'min', 'max'],\n",
    "    'Score': ['mean', 'sum', 'max']\n",
    "}).sort_values(by=('Name', 'count'), ascending=False)"
   ]
  },
  {
   "cell_type": "code",
   "execution_count": 17,
   "id": "f374a86e4d5e1b08",
   "metadata": {
    "ExecuteTime": {
     "end_time": "2024-07-04T03:54:42.372037Z",
     "start_time": "2024-07-04T03:54:42.326369Z"
    },
    "collapsed": false
   },
   "outputs": [
    {
     "data": {
      "text/html": [
       "<div>\n",
       "<style scoped>\n",
       "    .dataframe tbody tr th:only-of-type {\n",
       "        vertical-align: middle;\n",
       "    }\n",
       "\n",
       "    .dataframe tbody tr th {\n",
       "        vertical-align: top;\n",
       "    }\n",
       "\n",
       "    .dataframe thead tr th {\n",
       "        text-align: left;\n",
       "    }\n",
       "\n",
       "    .dataframe thead tr:last-of-type th {\n",
       "        text-align: right;\n",
       "    }\n",
       "</style>\n",
       "<table border=\"1\" class=\"dataframe\">\n",
       "  <thead>\n",
       "    <tr>\n",
       "      <th></th>\n",
       "      <th>mean</th>\n",
       "      <th>sum</th>\n",
       "      <th>max</th>\n",
       "    </tr>\n",
       "    <tr>\n",
       "      <th></th>\n",
       "      <th>Score</th>\n",
       "      <th>Score</th>\n",
       "      <th>Score</th>\n",
       "    </tr>\n",
       "    <tr>\n",
       "      <th>City</th>\n",
       "      <th></th>\n",
       "      <th></th>\n",
       "      <th></th>\n",
       "    </tr>\n",
       "  </thead>\n",
       "  <tbody>\n",
       "    <tr>\n",
       "      <th>Chicago</th>\n",
       "      <td>95.000000</td>\n",
       "      <td>95</td>\n",
       "      <td>95</td>\n",
       "    </tr>\n",
       "    <tr>\n",
       "      <th>Los Angeles</th>\n",
       "      <td>91.333333</td>\n",
       "      <td>274</td>\n",
       "      <td>93</td>\n",
       "    </tr>\n",
       "    <tr>\n",
       "      <th>New York</th>\n",
       "      <td>88.000000</td>\n",
       "      <td>88</td>\n",
       "      <td>88</td>\n",
       "    </tr>\n",
       "    <tr>\n",
       "      <th>Philadelphia</th>\n",
       "      <td>80.000000</td>\n",
       "      <td>160</td>\n",
       "      <td>90</td>\n",
       "    </tr>\n",
       "    <tr>\n",
       "      <th>Phoenix</th>\n",
       "      <td>85.000000</td>\n",
       "      <td>85</td>\n",
       "      <td>85</td>\n",
       "    </tr>\n",
       "    <tr>\n",
       "      <th>San Diego</th>\n",
       "      <td>78.000000</td>\n",
       "      <td>78</td>\n",
       "      <td>78</td>\n",
       "    </tr>\n",
       "    <tr>\n",
       "      <th>San Jose</th>\n",
       "      <td>80.000000</td>\n",
       "      <td>80</td>\n",
       "      <td>80</td>\n",
       "    </tr>\n",
       "  </tbody>\n",
       "</table>\n",
       "</div>"
      ],
      "text/plain": [
       "                   mean   sum   max\n",
       "                  Score Score Score\n",
       "City                               \n",
       "Chicago       95.000000    95    95\n",
       "Los Angeles   91.333333   274    93\n",
       "New York      88.000000    88    88\n",
       "Philadelphia  80.000000   160    90\n",
       "Phoenix       85.000000    85    85\n",
       "San Diego     78.000000    78    78\n",
       "San Jose      80.000000    80    80"
      ]
     },
     "execution_count": 17,
     "metadata": {},
     "output_type": "execute_result"
    }
   ],
   "source": [
    "# Pivot\n",
    "df.pivot_table(index='City', values='Score', aggfunc=['mean', 'sum', 'max'])"
   ]
  },
  {
   "cell_type": "code",
   "execution_count": 18,
   "id": "4242c095ab499f96",
   "metadata": {
    "ExecuteTime": {
     "end_time": "2024-07-04T03:54:42.380907Z",
     "start_time": "2024-07-04T03:54:42.328865Z"
    },
    "collapsed": false
   },
   "outputs": [],
   "source": [
    "# Merge\n",
    "df1 = pd.DataFrame({\n",
    "    'Name': ['Bob', 'Charlie', 'David', 'Eve'],\n",
    "    'Age': [27, 22, 32, 29]\n",
    "})\n",
    "\n",
    "df2 = pd.DataFrame({\n",
    "    'Name': ['Alice', 'Bob', 'Charlie', 'David'],\n",
    "    'Score': [88, 92, 95, 70]\n",
    "})"
   ]
  },
  {
   "cell_type": "code",
   "execution_count": 19,
   "id": "81204e7c261ad58a",
   "metadata": {
    "ExecuteTime": {
     "end_time": "2024-07-04T03:54:42.382193Z",
     "start_time": "2024-07-04T03:54:42.332752Z"
    },
    "collapsed": false
   },
   "outputs": [
    {
     "data": {
      "text/html": [
       "<div>\n",
       "<style scoped>\n",
       "    .dataframe tbody tr th:only-of-type {\n",
       "        vertical-align: middle;\n",
       "    }\n",
       "\n",
       "    .dataframe tbody tr th {\n",
       "        vertical-align: top;\n",
       "    }\n",
       "\n",
       "    .dataframe thead th {\n",
       "        text-align: right;\n",
       "    }\n",
       "</style>\n",
       "<table border=\"1\" class=\"dataframe\">\n",
       "  <thead>\n",
       "    <tr style=\"text-align: right;\">\n",
       "      <th></th>\n",
       "      <th>Name</th>\n",
       "      <th>Age</th>\n",
       "      <th>Score</th>\n",
       "    </tr>\n",
       "  </thead>\n",
       "  <tbody>\n",
       "    <tr>\n",
       "      <th>0</th>\n",
       "      <td>Bob</td>\n",
       "      <td>27</td>\n",
       "      <td>92</td>\n",
       "    </tr>\n",
       "    <tr>\n",
       "      <th>1</th>\n",
       "      <td>Charlie</td>\n",
       "      <td>22</td>\n",
       "      <td>95</td>\n",
       "    </tr>\n",
       "    <tr>\n",
       "      <th>2</th>\n",
       "      <td>David</td>\n",
       "      <td>32</td>\n",
       "      <td>70</td>\n",
       "    </tr>\n",
       "  </tbody>\n",
       "</table>\n",
       "</div>"
      ],
      "text/plain": [
       "      Name  Age  Score\n",
       "0      Bob   27     92\n",
       "1  Charlie   22     95\n",
       "2    David   32     70"
      ]
     },
     "execution_count": 19,
     "metadata": {},
     "output_type": "execute_result"
    }
   ],
   "source": [
    "# inner join\n",
    "pd.merge(df1, df2, on='Name', how='inner')  # equivalent to df1.join(df2, on='Name', how='inner')"
   ]
  },
  {
   "cell_type": "code",
   "execution_count": 20,
   "id": "907586c96661c29",
   "metadata": {
    "ExecuteTime": {
     "end_time": "2024-07-04T03:54:42.402054Z",
     "start_time": "2024-07-04T03:54:42.337618Z"
    },
    "collapsed": false
   },
   "outputs": [
    {
     "data": {
      "text/html": [
       "<div>\n",
       "<style scoped>\n",
       "    .dataframe tbody tr th:only-of-type {\n",
       "        vertical-align: middle;\n",
       "    }\n",
       "\n",
       "    .dataframe tbody tr th {\n",
       "        vertical-align: top;\n",
       "    }\n",
       "\n",
       "    .dataframe thead th {\n",
       "        text-align: right;\n",
       "    }\n",
       "</style>\n",
       "<table border=\"1\" class=\"dataframe\">\n",
       "  <thead>\n",
       "    <tr style=\"text-align: right;\">\n",
       "      <th></th>\n",
       "      <th>Name</th>\n",
       "      <th>Age</th>\n",
       "      <th>Score</th>\n",
       "    </tr>\n",
       "  </thead>\n",
       "  <tbody>\n",
       "    <tr>\n",
       "      <th>0</th>\n",
       "      <td>Alice</td>\n",
       "      <td>NaN</td>\n",
       "      <td>88.0</td>\n",
       "    </tr>\n",
       "    <tr>\n",
       "      <th>1</th>\n",
       "      <td>Bob</td>\n",
       "      <td>27.0</td>\n",
       "      <td>92.0</td>\n",
       "    </tr>\n",
       "    <tr>\n",
       "      <th>2</th>\n",
       "      <td>Charlie</td>\n",
       "      <td>22.0</td>\n",
       "      <td>95.0</td>\n",
       "    </tr>\n",
       "    <tr>\n",
       "      <th>3</th>\n",
       "      <td>David</td>\n",
       "      <td>32.0</td>\n",
       "      <td>70.0</td>\n",
       "    </tr>\n",
       "    <tr>\n",
       "      <th>4</th>\n",
       "      <td>Eve</td>\n",
       "      <td>29.0</td>\n",
       "      <td>NaN</td>\n",
       "    </tr>\n",
       "  </tbody>\n",
       "</table>\n",
       "</div>"
      ],
      "text/plain": [
       "      Name   Age  Score\n",
       "0    Alice   NaN   88.0\n",
       "1      Bob  27.0   92.0\n",
       "2  Charlie  22.0   95.0\n",
       "3    David  32.0   70.0\n",
       "4      Eve  29.0    NaN"
      ]
     },
     "execution_count": 20,
     "metadata": {},
     "output_type": "execute_result"
    }
   ],
   "source": [
    "# outer join\n",
    "pd.merge(df1, df2, on='Name', how='outer')  # equivalent to df1.join(df2, on='Name', how='outer')"
   ]
  },
  {
   "cell_type": "code",
   "execution_count": 21,
   "id": "c882089afca43183",
   "metadata": {
    "ExecuteTime": {
     "end_time": "2024-07-04T03:54:42.421930Z",
     "start_time": "2024-07-04T03:54:42.341558Z"
    },
    "collapsed": false
   },
   "outputs": [
    {
     "data": {
      "text/html": [
       "<div>\n",
       "<style scoped>\n",
       "    .dataframe tbody tr th:only-of-type {\n",
       "        vertical-align: middle;\n",
       "    }\n",
       "\n",
       "    .dataframe tbody tr th {\n",
       "        vertical-align: top;\n",
       "    }\n",
       "\n",
       "    .dataframe thead th {\n",
       "        text-align: right;\n",
       "    }\n",
       "</style>\n",
       "<table border=\"1\" class=\"dataframe\">\n",
       "  <thead>\n",
       "    <tr style=\"text-align: right;\">\n",
       "      <th></th>\n",
       "      <th>Name</th>\n",
       "      <th>Age</th>\n",
       "      <th>Score</th>\n",
       "    </tr>\n",
       "  </thead>\n",
       "  <tbody>\n",
       "    <tr>\n",
       "      <th>0</th>\n",
       "      <td>Bob</td>\n",
       "      <td>27</td>\n",
       "      <td>92.0</td>\n",
       "    </tr>\n",
       "    <tr>\n",
       "      <th>1</th>\n",
       "      <td>Charlie</td>\n",
       "      <td>22</td>\n",
       "      <td>95.0</td>\n",
       "    </tr>\n",
       "    <tr>\n",
       "      <th>2</th>\n",
       "      <td>David</td>\n",
       "      <td>32</td>\n",
       "      <td>70.0</td>\n",
       "    </tr>\n",
       "    <tr>\n",
       "      <th>3</th>\n",
       "      <td>Eve</td>\n",
       "      <td>29</td>\n",
       "      <td>NaN</td>\n",
       "    </tr>\n",
       "  </tbody>\n",
       "</table>\n",
       "</div>"
      ],
      "text/plain": [
       "      Name  Age  Score\n",
       "0      Bob   27   92.0\n",
       "1  Charlie   22   95.0\n",
       "2    David   32   70.0\n",
       "3      Eve   29    NaN"
      ]
     },
     "execution_count": 21,
     "metadata": {},
     "output_type": "execute_result"
    }
   ],
   "source": [
    "# left join\n",
    "pd.merge(df1, df2, on='Name', how='left')   # equivalent to df1.join(df2, on='Name', how='left')"
   ]
  },
  {
   "cell_type": "code",
   "execution_count": 22,
   "id": "a7e0b176618e7e4f",
   "metadata": {
    "ExecuteTime": {
     "end_time": "2024-07-04T03:54:42.432423Z",
     "start_time": "2024-07-04T03:54:42.345496Z"
    },
    "collapsed": false
   },
   "outputs": [
    {
     "data": {
      "text/html": [
       "<div>\n",
       "<style scoped>\n",
       "    .dataframe tbody tr th:only-of-type {\n",
       "        vertical-align: middle;\n",
       "    }\n",
       "\n",
       "    .dataframe tbody tr th {\n",
       "        vertical-align: top;\n",
       "    }\n",
       "\n",
       "    .dataframe thead th {\n",
       "        text-align: right;\n",
       "    }\n",
       "</style>\n",
       "<table border=\"1\" class=\"dataframe\">\n",
       "  <thead>\n",
       "    <tr style=\"text-align: right;\">\n",
       "      <th></th>\n",
       "      <th>Name</th>\n",
       "      <th>Age</th>\n",
       "      <th>Score</th>\n",
       "    </tr>\n",
       "  </thead>\n",
       "  <tbody>\n",
       "    <tr>\n",
       "      <th>0</th>\n",
       "      <td>Alice</td>\n",
       "      <td>NaN</td>\n",
       "      <td>88</td>\n",
       "    </tr>\n",
       "    <tr>\n",
       "      <th>1</th>\n",
       "      <td>Bob</td>\n",
       "      <td>27.0</td>\n",
       "      <td>92</td>\n",
       "    </tr>\n",
       "    <tr>\n",
       "      <th>2</th>\n",
       "      <td>Charlie</td>\n",
       "      <td>22.0</td>\n",
       "      <td>95</td>\n",
       "    </tr>\n",
       "    <tr>\n",
       "      <th>3</th>\n",
       "      <td>David</td>\n",
       "      <td>32.0</td>\n",
       "      <td>70</td>\n",
       "    </tr>\n",
       "  </tbody>\n",
       "</table>\n",
       "</div>"
      ],
      "text/plain": [
       "      Name   Age  Score\n",
       "0    Alice   NaN     88\n",
       "1      Bob  27.0     92\n",
       "2  Charlie  22.0     95\n",
       "3    David  32.0     70"
      ]
     },
     "execution_count": 22,
     "metadata": {},
     "output_type": "execute_result"
    }
   ],
   "source": [
    "# right join\n",
    "pd.merge(df1, df2, on='Name', how='right')  # equivalent to df1.join(df2, on='Name', how='right')"
   ]
  },
  {
   "cell_type": "markdown",
   "id": "f218dcf5765a37c9",
   "metadata": {
    "collapsed": false
   },
   "source": [
    "\n",
    "## Visualization\n",
    "### Common Figures\n",
    "1. spaghetti plot\n",
    "2. histogram\n",
    "3. bar plot\n",
    "4. box plot\n",
    "5. pie plot\n",
    "6. heatmap"
   ]
  },
  {
   "cell_type": "code",
   "execution_count": 23,
   "id": "ca2fa9c4cb2258b3",
   "metadata": {
    "ExecuteTime": {
     "end_time": "2024-07-04T03:54:42.478433Z",
     "start_time": "2024-07-04T03:54:42.348589Z"
    },
    "collapsed": false
   },
   "outputs": [
    {
     "data": {
      "image/png": "[encoded data removed]",
      "text/plain": [
       "<Figure size 640x480 with 1 Axes>"
      ]
     },
     "metadata": {},
     "output_type": "display_data"
    }
   ],
   "source": [
    "# Spaghetti Plot\n",
    "x = np.arange(0, 10, 1)\n",
    "y = np.sin(x)\n",
    "plt.plot(x, y)\n",
    "plt.show()"
   ]
  },
  {
   "cell_type": "code",
   "execution_count": 24,
   "id": "773008a9f14192c9",
   "metadata": {
    "ExecuteTime": {
     "end_time": "2024-07-04T03:54:42.573111Z",
     "start_time": "2024-07-04T03:54:42.407645Z"
    },
    "collapsed": false
   },
   "outputs": [
    {
     "data": {
      "image/png": "[encoded data removed]",
      "text/plain": [
       "<Figure size 640x480 with 1 Axes>"
      ]
     },
     "metadata": {},
     "output_type": "display_data"
    }
   ],
   "source": [
    "# histogram\n",
    "data = np.random.randn(1000)\n",
    "plt.hist(data, bins=30, color='steelblue', edgecolor='black', alpha=0.7)\n",
    "plt.show()"
   ]
  },
  {
   "cell_type": "code",
   "execution_count": 25,
   "id": "c56211687770a18d",
   "metadata": {
    "ExecuteTime": {
     "end_time": "2024-07-04T03:54:42.634234Z",
     "start_time": "2024-07-04T03:54:42.462845Z"
    },
    "collapsed": false
   },
   "outputs": [
    {
     "data": {
      "image/png": "[encoded data removed]",
      "text/plain": [
       "<Figure size 640x480 with 1 Axes>"
      ]
     },
     "metadata": {},
     "output_type": "display_data"
    }
   ],
   "source": [
    "# bar plot\n",
    "data = {\n",
    "    'Name': ['Alice', 'Bob', 'Charlie', 'David', 'Eve', 'Frank', 'Grace', 'Helen', 'Ivy', 'Jack'],\n",
    "    'Score': [88, 92, 95, 70, 85, 90, 89, 78, 93, 80]\n",
    "}\n",
    "df = pd.DataFrame(data)\n",
    "plt.bar(df['Name'], df['Score'], alpha=0.7)\n",
    "plt.show()"
   ]
  },
  {
   "cell_type": "code",
   "execution_count": 26,
   "id": "5df71aa1bb1d3cda",
   "metadata": {
    "ExecuteTime": {
     "end_time": "2024-07-04T03:54:42.712951Z",
     "start_time": "2024-07-04T03:54:42.507455Z"
    },
    "collapsed": false
   },
   "outputs": [
    {
     "data": {
      "image/png": "[encoded data removed]",
      "text/plain": [
       "<Figure size 640x480 with 1 Axes>"
      ]
     },
     "metadata": {},
     "output_type": "display_data"
    }
   ],
   "source": [
    "# box plot with multiple columns\n",
    "data = {\n",
    "    'Name': ['Alice', 'Bob', 'Charlie', 'David', 'Eve', 'Frank', 'Grace', 'Helen', 'Ivy', 'Jack'],\n",
    "    'math_score': [88, 92, 95, 70, 85, 90, 89, 78, 93, 80],\n",
    "    'history_score': [78, 82, 85, 60, 75, 80, 79, 68, 83, 70]\n",
    "}\n",
    "\n",
    "df = pd.DataFrame(data)\n",
    "plt.boxplot([df['math_score'], df['history_score']])\n",
    "plt.xticks([1, 2], ['Math', 'History'])\n",
    "plt.show()"
   ]
  },
  {
   "cell_type": "code",
   "execution_count": 27,
   "id": "18a49a45b4b2e860",
   "metadata": {
    "ExecuteTime": {
     "end_time": "2024-07-04T03:54:42.775909Z",
     "start_time": "2024-07-04T03:54:42.541813Z"
    },
    "collapsed": false
   },
   "outputs": [
    {
     "data": {
      "image/png": "[encoded data removed]",
      "text/plain": [
       "<Figure size 640x480 with 1 Axes>"
      ]
     },
     "metadata": {},
     "output_type": "display_data"
    }
   ],
   "source": [
    "# pie plot\n",
    "data = {\n",
    "    'Name': ['Alice', 'Bob', 'Charlie', 'David', 'Eve', 'Frank', 'Grace', 'Helen', 'Ivy', 'Jack'],\n",
    "    'Income': [88, 92, 95, 70, 85, 90, 89, 78, 93, 80]\n",
    "}\n",
    "df = pd.DataFrame(data)\n",
    "plt.pie(df['Income'], labels=df['Name'], autopct='%1.1f%%')\n",
    "plt.show()"
   ]
  },
  {
   "cell_type": "code",
   "execution_count": 28,
   "id": "d73b4d08dcd11e62",
   "metadata": {
    "ExecuteTime": {
     "end_time": "2024-07-04T03:54:42.858027Z",
     "start_time": "2024-07-04T03:54:42.588939Z"
    },
    "collapsed": false
   },
   "outputs": [
    {
     "data": {
      "image/png": "[encoded data removed]",
      "text/plain": [
       "<Figure size 640x480 with 2 Axes>"
      ]
     },
     "metadata": {},
     "output_type": "display_data"
    }
   ],
   "source": [
    "# heatmap\n",
    "data = np.random.randn(10, 10)\n",
    "plt.imshow(data, cmap='cool', interpolation='nearest')\n",
    "plt.colorbar()\n",
    "plt.show()"
   ]
  },
  {
   "cell_type": "markdown",
   "id": "55d5708d370c27a4",
   "metadata": {
    "collapsed": false
   },
   "source": [
    "### Other Components\n",
    "1. title\n",
    "2. axis\n",
    "3. label\n",
    "4. legend\n",
    "5. ticks"
   ]
  },
  {
   "cell_type": "code",
   "execution_count": 29,
   "id": "143bbef457d91d5",
   "metadata": {
    "ExecuteTime": {
     "end_time": "2024-07-04T03:54:42.860292Z",
     "start_time": "2024-07-04T03:54:42.633545Z"
    },
    "collapsed": false
   },
   "outputs": [
    {
     "data": {
      "image/png": "[encoded data removed]",
      "text/plain": [
       "<Figure size 640x480 with 1 Axes>"
      ]
     },
     "metadata": {},
     "output_type": "display_data"
    }
   ],
   "source": [
    "x = np.arange(0, 10, 0.1)\n",
    "y = np.sin(x)\n",
    "plt.plot(x, y, 'x')\n",
    "\n",
    "# title\n",
    "plt.title('Point Plot of sin(x)')\n",
    "# axis\n",
    "plt.axis([0, 10, -1.1, 1.1])\n",
    "# label\n",
    "plt.xlabel('x')\n",
    "plt.ylabel('sin(x)')\n",
    "# legend\n",
    "plt.legend(['sin(x)'])\n",
    "# ticks\n",
    "plt.xticks(np.arange(0, 11, 1))\n",
    "plt.show()"
   ]
  },
  {
   "cell_type": "markdown",
   "id": "abf99fff369bdf1a",
   "metadata": {
    "collapsed": false
   },
   "source": [
    "### Subplots"
   ]
  },
  {
   "cell_type": "code",
   "execution_count": 32,
   "id": "f38f24a64542968f",
   "metadata": {
    "ExecuteTime": {
     "end_time": "2024-07-04T03:56:29.673452Z",
     "start_time": "2024-07-04T03:56:29.555605Z"
    },
    "collapsed": false
   },
   "outputs": [
    {
     "data": {
      "image/png": "[encoded data removed]",
      "text/plain": [
       "<Figure size 1500x500 with 3 Axes>"
      ]
     },
     "metadata": {},
     "output_type": "display_data"
    }
   ],
   "source": [
    "# subplot\n",
    "x = np.arange(1, 10, 0.1)\n",
    "y1 = np.sin(x)\n",
    "y2 = np.log(x)\n",
    "y3 = np.power(x, 2)\n",
    "fig, axs = plt.subplots(1, 3, figsize=(15, 5))\n",
    "plt.suptitle('Subplot Panel')\n",
    "axs[0].plot(x, y1)\n",
    "axs[0].title.set_text('$sin(x)$')\n",
    "axs[1].plot(x, y2)\n",
    "axs[1].title.set_text('$log(x)$')\n",
    "axs[2].plot(x, y3)\n",
    "axs[2].title.set_text('$x^2$')\n",
    "plt.show()"
   ]
  }
 ],
 "metadata": {
  "kernelspec": {
   "display_name": "Python 3",
   "language": "python",
   "name": "python3"
  },
  "language_info": {
   "codemirror_mode": {
    "name": "ipython",
    "version": 2
   },
   "file_extension": ".py",
   "mimetype": "text/x-python",
   "name": "python",
   "nbconvert_exporter": "python",
   "pygments_lexer": "ipython2",
   "version": "2.7.6"
  }
 },
 "nbformat": 4,
 "nbformat_minor": 5
}
