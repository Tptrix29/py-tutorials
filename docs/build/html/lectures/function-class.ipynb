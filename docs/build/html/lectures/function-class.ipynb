{
 "cells": [
  {
   "cell_type": "markdown",
   "id": "1f5eb03f72b731da",
   "metadata": {
    "collapsed": false
   },
   "source": [
    "# Function & Class \n",
    "## Function\n",
    "### Definition with `def` keyword"
   ]
  },
  {
   "cell_type": "code",
   "execution_count": 1,
   "id": "fb50004ed03cd700",
   "metadata": {
    "ExecuteTime": {
     "end_time": "2024-06-13T13:49:08.271279Z",
     "start_time": "2024-06-13T13:49:08.259276Z"
    },
    "collapsed": false
   },
   "outputs": [],
   "source": [
    "def add(num1, num2):\n",
    "    return num1 + num2"
   ]
  },
  {
   "cell_type": "markdown",
   "id": "469c3daf801060c",
   "metadata": {
    "collapsed": false
   },
   "source": [
    "### Local & Global Variables\n",
    "- **Local Variables**: Variables declared inside a function. They are accessible only within that function.\n",
    "- **Global Variables**: Variables declared outside any function. They are accessible throughout the code, including inside functions."
   ]
  },
  {
   "cell_type": "code",
   "execution_count": 2,
   "id": "69a2de97d0ee0fa0",
   "metadata": {
    "ExecuteTime": {
     "end_time": "2024-06-13T13:49:08.272285Z",
     "start_time": "2024-06-13T13:49:08.262438Z"
    },
    "collapsed": false
   },
   "outputs": [
    {
     "name": "stdout",
     "output_type": "stream",
     "text": [
      "local\n",
      "global\n"
     ]
    }
   ],
   "source": [
    "x = \"global\"\n",
    "\n",
    "def my_function():\n",
    "    x = \"local\"\n",
    "    print(x)\n",
    "\n",
    "my_function()   # Output: local\n",
    "print(x)        # Output: global"
   ]
  },
  {
   "cell_type": "markdown",
   "id": "a7e34cd30d5ed03f",
   "metadata": {
    "collapsed": false
   },
   "source": [
    "### `global` keyword\n",
    "The global keyword is used to declare a variable inside a function as global, it allows the function to modify the variable outside its local scope."
   ]
  },
  {
   "cell_type": "code",
   "execution_count": 3,
   "id": "e65bd70231febfb2",
   "metadata": {
    "ExecuteTime": {
     "end_time": "2024-06-13T13:49:08.281046Z",
     "start_time": "2024-06-13T13:49:08.273821Z"
    },
    "collapsed": false
   },
   "outputs": [
    {
     "name": "stdout",
     "output_type": "stream",
     "text": [
      "10\n"
     ]
    }
   ],
   "source": [
    "x = 10\n",
    "\n",
    "def modify_global():\n",
    "    x = 20 \n",
    "\n",
    "modify_global()\n",
    "print(x)"
   ]
  },
  {
   "cell_type": "code",
   "execution_count": 4,
   "id": "5219682ef6ac9b5d",
   "metadata": {
    "ExecuteTime": {
     "end_time": "2024-06-13T13:49:08.282693Z",
     "start_time": "2024-06-13T13:49:08.275529Z"
    },
    "collapsed": false
   },
   "outputs": [
    {
     "name": "stdout",
     "output_type": "stream",
     "text": [
      "20\n"
     ]
    }
   ],
   "source": [
    "x = 10  # Global variable\n",
    "\n",
    "def modify_global():\n",
    "    global x  # Declare x as global\n",
    "    x = 20    # Modify the global variable\n",
    "\n",
    "modify_global()\n",
    "print(x) "
   ]
  },
  {
   "cell_type": "markdown",
   "id": "b91f414c3d6309a6",
   "metadata": {
    "collapsed": false
   },
   "source": [
    "### Strict Definition (Optional)"
   ]
  },
  {
   "cell_type": "code",
   "execution_count": 5,
   "id": "ad2c75c1c12b5c70",
   "metadata": {
    "ExecuteTime": {
     "end_time": "2024-06-13T13:49:08.283095Z",
     "start_time": "2024-06-13T13:49:08.278358Z"
    },
    "collapsed": false
   },
   "outputs": [
    {
     "name": "stdout",
     "output_type": "stream",
     "text": [
      "8\n"
     ]
    }
   ],
   "source": [
    "def add_numbers(a: int, b: int) -> int:\n",
    "    return a + b\n",
    "\n",
    "result = add_numbers(3, 5)  # Output: 8\n",
    "print(result)"
   ]
  },
  {
   "cell_type": "markdown",
   "id": "ca1a1dc31f3ec99c",
   "metadata": {
    "collapsed": false
   },
   "source": [
    "## Class \n",
    "### Definition\n",
    "> Sections with `*` are advanced contents.\n",
    "\n",
    "1. Variables    \n",
    "- instance variable    \n",
    "- static variable *\n",
    "2. Methods   \n",
    "- instance method\n",
    "- built-in method\n",
    "- static method * : only access static variables"
   ]
  },
  {
   "cell_type": "markdown",
   "id": "cdb1dc5c0236084f",
   "metadata": {
    "collapsed": false
   },
   "source": [
    "### Example"
   ]
  },
  {
   "cell_type": "code",
   "execution_count": 6,
   "id": "29e6f4c1c526881b",
   "metadata": {
    "ExecuteTime": {
     "end_time": "2024-06-13T13:49:08.316216Z",
     "start_time": "2024-06-13T13:49:08.285390Z"
    },
    "collapsed": false
   },
   "outputs": [],
   "source": [
    "class MyClass:\n",
    "    # static variable declaration\n",
    "    static_str = \"I am a static variable\"\n",
    "    \n",
    "    # instance variable declaration\n",
    "    def __init__(self, value: list[int]):\n",
    "        self.val = value\n",
    "        \n",
    "    # instance method\n",
    "    def get_val(self):\n",
    "        return self.val\n",
    "    \n",
    "    # static method\n",
    "    @staticmethod\n",
    "    def modify_static_variable(new_val: str):\n",
    "        MyClass.static_str = new_val\n",
    "    \n",
    "    # built-in method\n",
    "    def __len__(self):\n",
    "        return len(self.val)\n",
    "    \n",
    "    # built-in method\n",
    "    def __str__(self):\n",
    "        return f\"Value: {\", \".join([str(i) for i in self.val])}\"   "
   ]
  },
  {
   "cell_type": "code",
   "execution_count": 7,
   "id": "64ab0262910270b6",
   "metadata": {
    "ExecuteTime": {
     "end_time": "2024-06-13T13:49:08.325330Z",
     "start_time": "2024-06-13T13:49:08.318506Z"
    },
    "collapsed": false
   },
   "outputs": [
    {
     "name": "stdout",
     "output_type": "stream",
     "text": [
      "[1, 2]\n",
      "[100, 200]\n"
     ]
    }
   ],
   "source": [
    "obj1 = MyClass([1, 2])\n",
    "obj2 = MyClass([100, 200])\n",
    "print(obj1.get_val()) \n",
    "print(obj2.get_val()) "
   ]
  },
  {
   "cell_type": "code",
   "execution_count": 8,
   "id": "dd97207d5facc85b",
   "metadata": {
    "ExecuteTime": {
     "end_time": "2024-06-13T13:49:08.326108Z",
     "start_time": "2024-06-13T13:49:08.322508Z"
    },
    "collapsed": false
   },
   "outputs": [
    {
     "name": "stdout",
     "output_type": "stream",
     "text": [
      "I am a new static variable\n"
     ]
    }
   ],
   "source": [
    "MyClass.modify_static_variable(\"I am a new static variable\")\n",
    "print(MyClass.static_str)"
   ]
  },
  {
   "cell_type": "code",
   "execution_count": 9,
   "id": "639f0591c531a3f5",
   "metadata": {
    "ExecuteTime": {
     "end_time": "2024-06-13T13:49:08.333132Z",
     "start_time": "2024-06-13T13:49:08.329044Z"
    },
    "collapsed": false
   },
   "outputs": [
    {
     "data": {
      "text/plain": [
       "2"
      ]
     },
     "execution_count": 9,
     "metadata": {},
     "output_type": "execute_result"
    }
   ],
   "source": [
    "len(obj1)"
   ]
  },
  {
   "cell_type": "code",
   "execution_count": 10,
   "id": "b869f77771080fd3",
   "metadata": {
    "ExecuteTime": {
     "end_time": "2024-06-13T13:49:08.333677Z",
     "start_time": "2024-06-13T13:49:08.332020Z"
    },
    "collapsed": false
   },
   "outputs": [
    {
     "name": "stdout",
     "output_type": "stream",
     "text": [
      "Value: 1, 2\n"
     ]
    }
   ],
   "source": [
    "print(obj1)"
   ]
  },
  {
   "cell_type": "markdown",
   "id": "6b7dceb7dc2dd17c",
   "metadata": {
    "collapsed": false
   },
   "source": [
    "### Objected-Oriented Programming with Python (Advanced)\n",
    "#### Inheritance\n",
    "Inheritance allows a class to inherit attributes and methods from another class. The class that inherits is called the child class, and the class being inherited from is the parent class.\n",
    "\n",
    "Child class could **override** the methods of the parent class and define new methods."
   ]
  },
  {
   "cell_type": "code",
   "execution_count": 11,
   "id": "ba15e4c1f76f1a6e",
   "metadata": {
    "ExecuteTime": {
     "end_time": "2024-06-13T13:49:08.336969Z",
     "start_time": "2024-06-13T13:49:08.334798Z"
    },
    "collapsed": false
   },
   "outputs": [],
   "source": [
    "class Parent:\n",
    "    def __init__(self, name):\n",
    "        self.name = name\n",
    "\n",
    "    def speak(self):\n",
    "        return f\"{self.name} says hello. I am a parent.\"\n",
    "\n",
    "class Child(Parent):\n",
    "    def __init__(self, name, age):\n",
    "        super().__init__(name)\n",
    "        self.age = age\n",
    "    \n",
    "    # override `speak` method\n",
    "    def speak(self):\n",
    "        return f\"{self.name} says hello. I am a child.\"\n",
    "\n",
    "    def introduce(self):\n",
    "        return f\"I am {self.name}, and I am {self.age} years old.\""
   ]
  },
  {
   "cell_type": "code",
   "execution_count": 12,
   "id": "1f7f2644c899adb4",
   "metadata": {
    "ExecuteTime": {
     "end_time": "2024-06-13T13:49:08.339901Z",
     "start_time": "2024-06-13T13:49:08.337389Z"
    },
    "collapsed": false
   },
   "outputs": [
    {
     "name": "stdout",
     "output_type": "stream",
     "text": [
      "Jake says hello. I am a parent.\n",
      "Alice says hello. I am a child.\n",
      "I am Alice, and I am 10 years old.\n"
     ]
    }
   ],
   "source": [
    "parent = Parent(\"Jake\")\n",
    "child = Child(\"Alice\", 10)\n",
    "print(parent.speak())\n",
    "print(child.speak())    \n",
    "print(child.introduce())  "
   ]
  },
  {
   "cell_type": "markdown",
   "id": "50a141d4742afd27",
   "metadata": {
    "collapsed": false
   },
   "source": [
    "#### Abstract Class\n",
    "An abstract class is a class that cannot be instantiated and is meant to be subclassed. It can have abstract methods, which are methods declared without implementation. Abstract classes are defined using the abc module."
   ]
  },
  {
   "cell_type": "code",
   "execution_count": 13,
   "id": "ce5af0fe70b0780b",
   "metadata": {
    "ExecuteTime": {
     "end_time": "2024-06-13T13:49:08.366609Z",
     "start_time": "2024-06-13T13:49:08.339974Z"
    },
    "collapsed": false
   },
   "outputs": [
    {
     "name": "stdout",
     "output_type": "stream",
     "text": [
      "Woof!\n",
      "Meow!\n"
     ]
    }
   ],
   "source": [
    "from abc import ABC, abstractmethod\n",
    "\n",
    "class Animal(ABC):\n",
    "    @abstractmethod\n",
    "    def make_sound(self):\n",
    "        pass\n",
    "\n",
    "class Dog(Animal):\n",
    "    def make_sound(self):\n",
    "        return \"Woof!\"\n",
    "\n",
    "class Cat(Animal):\n",
    "    def make_sound(self):\n",
    "        return \"Meow!\"\n",
    "\n",
    "dog = Dog()\n",
    "print(dog.make_sound())\n",
    "cat = Cat()\n",
    "print(cat.make_sound())"
   ]
  }
 ],
 "metadata": {
  "kernelspec": {
   "display_name": "Python 3",
   "language": "python",
   "name": "python3"
  },
  "language_info": {
   "codemirror_mode": {
    "name": "ipython",
    "version": 2
   },
   "file_extension": ".py",
   "mimetype": "text/x-python",
   "name": "python",
   "nbconvert_exporter": "python",
   "pygments_lexer": "ipython2",
   "version": "2.7.6"
  }
 },
 "nbformat": 4,
 "nbformat_minor": 5
}
