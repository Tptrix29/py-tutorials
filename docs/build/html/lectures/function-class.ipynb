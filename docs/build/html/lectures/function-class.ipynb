{
 "cells": [
  {
   "cell_type": "markdown",
   "id": "1f5eb03f72b731da",
   "metadata": {
    "collapsed": false
   },
   "source": [
    "# Function & Class \n",
    "## Function\n",
    "### Definition"
   ]
  },
  {
   "cell_type": "markdown",
   "id": "469c3daf801060c",
   "metadata": {
    "collapsed": false
   },
   "source": [
    "### Local & Global Variables"
   ]
  },
  {
   "cell_type": "markdown",
   "id": "b91f414c3d6309a6",
   "metadata": {
    "collapsed": false
   },
   "source": [
    "### Strict Definition (Optional)"
   ]
  },
  {
   "cell_type": "markdown",
   "id": "ca1a1dc31f3ec99c",
   "metadata": {
    "collapsed": false
   },
   "source": [
    "## Class \n",
    "### Definition\n",
    "> Sections with `*` are advanced contents.\n",
    "1. Variables\n",
    "- instance variable\n",
    "- static variable *\n",
    "2. Methods\n",
    "- instance method\n",
    "- built-in method\n",
    "- static method"
   ]
  },
  {
   "cell_type": "markdown",
   "id": "cdb1dc5c0236084f",
   "metadata": {
    "collapsed": false
   },
   "source": [
    "### Example"
   ]
  },
  {
   "cell_type": "code",
   "execution_count": 1,
   "id": "29e6f4c1c526881b",
   "metadata": {
    "collapsed": false,
    "execution": {
     "iopub.execute_input": "2024-06-02T15:10:50.770413Z",
     "iopub.status.busy": "2024-06-02T15:10:50.770074Z",
     "iopub.status.idle": "2024-06-02T15:10:50.774949Z",
     "shell.execute_reply": "2024-06-02T15:10:50.774373Z"
    }
   },
   "outputs": [],
   "source": [
    "class MyClass:\n",
    "    pass"
   ]
  },
  {
   "cell_type": "markdown",
   "id": "6b7dceb7dc2dd17c",
   "metadata": {
    "collapsed": false
   },
   "source": [
    "### Objected-Oriented Programming with Python (Advanced)\n",
    "#### Inheritance"
   ]
  },
  {
   "cell_type": "markdown",
   "id": "50a141d4742afd27",
   "metadata": {
    "collapsed": false
   },
   "source": [
    "#### Abstract Class"
   ]
  }
 ],
 "metadata": {
  "kernelspec": {
   "display_name": "Python 3",
   "language": "python",
   "name": "python3"
  },
  "language_info": {
   "codemirror_mode": {
    "name": "ipython",
    "version": 3
   },
   "file_extension": ".py",
   "mimetype": "text/x-python",
   "name": "python",
   "nbconvert_exporter": "python",
   "pygments_lexer": "ipython3",
   "version": "3.12.3"
  }
 },
 "nbformat": 4,
 "nbformat_minor": 5
}
