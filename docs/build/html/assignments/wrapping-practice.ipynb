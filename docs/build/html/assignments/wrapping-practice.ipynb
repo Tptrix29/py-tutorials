{
 "cells": [
  {
   "cell_type": "markdown",
   "id": "dd7b013ba528e749",
   "metadata": {
    "collapsed": false
   },
   "source": [
    "# Assignment 2: Rewrite Game with Class\n",
    "\n",
    "## Problem Description\n",
    "\n",
    "In this assignment, you will enhance the existing Triple Combo Game by refactoring it to use Python classes. This will not only improve the code structure but also provide you with practical experience in object-oriented programming.\n",
    "\n",
    "## Background\n",
    "\n",
    "The Triple Combo Game is a simple yet engaging game where players select numbers from a pool to build an array and earn points by forming consecutive triplets of the same number. Each time a triplet is formed, it is removed from the array, and the player earns points. The game ends when the array reaches a predefined maximum length.\n",
    "\n",
    "## Objectives\n",
    "\n",
    "1. **Game Initialization:**\n",
    "   - Initialize a pool of random numbers that players can choose from.\n",
    "   - Define an array where the chosen numbers will be stored.\n",
    "   - Set up a scoring system to track the player's points.\n",
    "2. **Gameplay Mechanics:**\n",
    "   - Display the current state of the array and the available pool of numbers to the player.\n",
    "   - Allow the player to select a number from the pool and add it to the array.\n",
    "   - Check for any consecutive triplets of the same number in the array. If found, remove them and update the score.\n",
    "   - Ensure the game continues until the array reaches its maximum length.\n",
    "3. **User Interaction:**\n",
    "   - Prompt the player for input and validate the input to ensure it is a number from the pool.\n",
    "   - Provide feedback to the player, including their current score, the state of the array, and the available pool of numbers.\n",
    "   - End the game when the array reaches its maximum length and display the final score.\n",
    "\n",
    "## Deliverables\n",
    "\n",
    "- A Python script that implements the Triple Combo Game using classes with the above-described functionality.\n",
    "- Clear and concise comments in the code explaining the logic and flow of the game.\n",
    "- User-friendly prompts and messages to enhance the player's experience.\n",
    "\n",
    "## Instructions\n",
    "\n",
    "1. **Class Structure:**\n",
    "   - Define a `TripleComboGame` class with methods for game initialization, displaying status, handling user input, updating the array and pool, and checking for game over conditions.\n",
    "2. **Input Validation:**\n",
    "   - Implement the `input_validation` method to ensure the user selects a valid number from the pool.\n",
    "3. **Update Array:**\n",
    "   - Implement the `update_array` method to add the selected number to the array and check for any triplets to remove and score points.\n",
    "4. **Update Pool:**\n",
    "   - Implement the `update_pool` method to remove the selected number from the pool and add a new number.\n",
    "5. **Game Over Check:**\n",
    "   - Implement the `check_game_over` method to determine when the array has reached its maximum length and end the game.\n",
    "\n",
    "> Download `assignment2.py` script from [here](https://github.com/Tptrix29/py-tutorials/blob/main/assignment2.py) to review and complete game logic."
   ]
  }
 ],
 "metadata": {
  "kernelspec": {
   "display_name": "Python 3",
   "language": "python",
   "name": "python3"
  },
  "language_info": {
   "codemirror_mode": {
    "name": "ipython",
    "version": 2
   },
   "file_extension": ".py",
   "mimetype": "text/x-python",
   "name": "python",
   "nbconvert_exporter": "python",
   "pygments_lexer": "ipython2",
   "version": "2.7.6"
  }
 },
 "nbformat": 4,
 "nbformat_minor": 5
}
