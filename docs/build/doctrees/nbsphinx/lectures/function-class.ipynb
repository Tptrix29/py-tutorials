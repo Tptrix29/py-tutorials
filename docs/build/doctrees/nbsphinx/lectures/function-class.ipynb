{
 "cells": [
  {
   "cell_type": "markdown",
   "id": "1f5eb03f72b731da",
   "metadata": {
    "collapsed": false
   },
   "source": [
    "# Function & Class \n",
    "## Function\n",
    "### Definition with `def` keyword\n",
    "Format: \n",
    "```python\n",
    "def function_name(param1, param2, ...):\n",
    "    # code block\n",
    "    return value    # optional\n",
    "```\n",
    "All input parameters are local variable in the function, so the function will return `None` if you don't specify a return value."
   ]
  },
  {
   "cell_type": "code",
   "execution_count": 1,
   "id": "fb50004ed03cd700",
   "metadata": {
    "collapsed": false,
    "execution": {
     "iopub.execute_input": "2024-07-04T15:39:13.382523Z",
     "iopub.status.busy": "2024-07-04T15:39:13.382251Z",
     "iopub.status.idle": "2024-07-04T15:39:13.388424Z",
     "shell.execute_reply": "2024-07-04T15:39:13.387912Z"
    }
   },
   "outputs": [],
   "source": [
    "def add(num1, num2):\n",
    "    return num1 + num2"
   ]
  },
  {
   "cell_type": "markdown",
   "id": "469c3daf801060c",
   "metadata": {
    "collapsed": false
   },
   "source": [
    "### Local & Global Variables\n",
    "- **Local Variables**: Variables declared inside a function. They are accessible only within that function.\n",
    "- **Global Variables**: Variables declared outside any function. They are accessible throughout the code, including inside functions."
   ]
  },
  {
   "cell_type": "code",
   "execution_count": 2,
   "id": "69a2de97d0ee0fa0",
   "metadata": {
    "collapsed": false,
    "execution": {
     "iopub.execute_input": "2024-07-04T15:39:13.391694Z",
     "iopub.status.busy": "2024-07-04T15:39:13.391384Z",
     "iopub.status.idle": "2024-07-04T15:39:13.394736Z",
     "shell.execute_reply": "2024-07-04T15:39:13.394275Z"
    }
   },
   "outputs": [
    {
     "name": "stdout",
     "output_type": "stream",
     "text": [
      "local\n",
      "global\n"
     ]
    }
   ],
   "source": [
    "x = \"global\"\n",
    "\n",
    "def my_function():\n",
    "    x = \"local\"\n",
    "    print(x)\n",
    "\n",
    "my_function()   # Output: local\n",
    "print(x)        # Output: global"
   ]
  },
  {
   "cell_type": "markdown",
   "id": "a7e34cd30d5ed03f",
   "metadata": {
    "collapsed": false
   },
   "source": [
    "### `global` keyword\n",
    "The global keyword is used to declare a variable inside a function as global, it allows the function to modify the variable outside its local scope."
   ]
  },
  {
   "cell_type": "code",
   "execution_count": 3,
   "id": "e65bd70231febfb2",
   "metadata": {
    "collapsed": false,
    "execution": {
     "iopub.execute_input": "2024-07-04T15:39:13.398046Z",
     "iopub.status.busy": "2024-07-04T15:39:13.397862Z",
     "iopub.status.idle": "2024-07-04T15:39:13.400144Z",
     "shell.execute_reply": "2024-07-04T15:39:13.399801Z"
    }
   },
   "outputs": [
    {
     "name": "stdout",
     "output_type": "stream",
     "text": [
      "10\n"
     ]
    }
   ],
   "source": [
    "x = 10\n",
    "\n",
    "def modify_global():\n",
    "    x = 20 \n",
    "\n",
    "modify_global()\n",
    "print(x)"
   ]
  },
  {
   "cell_type": "code",
   "execution_count": 4,
   "id": "5219682ef6ac9b5d",
   "metadata": {
    "collapsed": false,
    "execution": {
     "iopub.execute_input": "2024-07-04T15:39:13.402434Z",
     "iopub.status.busy": "2024-07-04T15:39:13.402269Z",
     "iopub.status.idle": "2024-07-04T15:39:13.404800Z",
     "shell.execute_reply": "2024-07-04T15:39:13.404451Z"
    }
   },
   "outputs": [
    {
     "name": "stdout",
     "output_type": "stream",
     "text": [
      "20\n"
     ]
    }
   ],
   "source": [
    "x = 10  # Global variable\n",
    "\n",
    "def modify_global():\n",
    "    global x  # Declare x as global\n",
    "    x = 20    # Modify the global variable\n",
    "\n",
    "modify_global()\n",
    "print(x) "
   ]
  },
  {
   "cell_type": "markdown",
   "id": "b91f414c3d6309a6",
   "metadata": {
    "collapsed": false
   },
   "source": [
    "### Strict Definition (Optional)\n",
    "Format:\n",
    "```python\n",
    "def function_name(param1: type, param2: type, ...) -> return_type:\n",
    "    # code block\n",
    "    return value   # optional"
   ]
  },
  {
   "cell_type": "code",
   "execution_count": 5,
   "id": "ad2c75c1c12b5c70",
   "metadata": {
    "collapsed": false,
    "execution": {
     "iopub.execute_input": "2024-07-04T15:39:13.406696Z",
     "iopub.status.busy": "2024-07-04T15:39:13.406562Z",
     "iopub.status.idle": "2024-07-04T15:39:13.408808Z",
     "shell.execute_reply": "2024-07-04T15:39:13.408468Z"
    }
   },
   "outputs": [
    {
     "name": "stdout",
     "output_type": "stream",
     "text": [
      "8\n"
     ]
    }
   ],
   "source": [
    "def add_numbers(a: int, b: int) -> int:\n",
    "    return a + b\n",
    "\n",
    "result = add_numbers(3, 5)  # Output: 8\n",
    "print(result)"
   ]
  },
  {
   "cell_type": "markdown",
   "id": "ca1a1dc31f3ec99c",
   "metadata": {
    "collapsed": false
   },
   "source": [
    "## Class \n",
    "### Definition\n",
    "> Sections with `*` are advanced contents.\n",
    "\n",
    "1. Variables    \n",
    "- instance variable    \n",
    "- static variable *\n",
    "2. Methods   \n",
    "- instance method\n",
    "- built-in method\n",
    "- static method * : only access static variables"
   ]
  },
  {
   "cell_type": "markdown",
   "id": "cdb1dc5c0236084f",
   "metadata": {
    "collapsed": false
   },
   "source": [
    "### Example"
   ]
  },
  {
   "cell_type": "code",
   "execution_count": 6,
   "id": "29e6f4c1c526881b",
   "metadata": {
    "collapsed": false,
    "execution": {
     "iopub.execute_input": "2024-07-04T15:39:13.410733Z",
     "iopub.status.busy": "2024-07-04T15:39:13.410611Z",
     "iopub.status.idle": "2024-07-04T15:39:13.413299Z",
     "shell.execute_reply": "2024-07-04T15:39:13.413018Z"
    }
   },
   "outputs": [],
   "source": [
    "class MyClass:\n",
    "    # static variable declaration\n",
    "    static_str = \"I am a static variable\"\n",
    "    \n",
    "    # instance variable declaration\n",
    "    def __init__(self, value: list[int]):\n",
    "        self.val = value\n",
    "        \n",
    "    # instance method\n",
    "    def get_val(self):\n",
    "        return self.val\n",
    "    \n",
    "    # static method\n",
    "    @staticmethod\n",
    "    def modify_static_variable(new_val: str):\n",
    "        MyClass.static_str = new_val\n",
    "    \n",
    "    # built-in method\n",
    "    def __len__(self):\n",
    "        return len(self.val)\n",
    "    \n",
    "    # built-in method\n",
    "    def __str__(self):\n",
    "        return f\"Value: {\", \".join([str(i) for i in self.val])}\"   "
   ]
  },
  {
   "cell_type": "code",
   "execution_count": 7,
   "id": "64ab0262910270b6",
   "metadata": {
    "collapsed": false,
    "execution": {
     "iopub.execute_input": "2024-07-04T15:39:13.414936Z",
     "iopub.status.busy": "2024-07-04T15:39:13.414815Z",
     "iopub.status.idle": "2024-07-04T15:39:13.416709Z",
     "shell.execute_reply": "2024-07-04T15:39:13.416477Z"
    }
   },
   "outputs": [
    {
     "name": "stdout",
     "output_type": "stream",
     "text": [
      "[1, 2]\n",
      "[100, 200]\n"
     ]
    }
   ],
   "source": [
    "obj1 = MyClass([1, 2])\n",
    "obj2 = MyClass([100, 200])\n",
    "print(obj1.get_val()) \n",
    "print(obj2.get_val()) "
   ]
  },
  {
   "cell_type": "code",
   "execution_count": 8,
   "id": "dd97207d5facc85b",
   "metadata": {
    "collapsed": false,
    "execution": {
     "iopub.execute_input": "2024-07-04T15:39:13.418063Z",
     "iopub.status.busy": "2024-07-04T15:39:13.417968Z",
     "iopub.status.idle": "2024-07-04T15:39:13.419629Z",
     "shell.execute_reply": "2024-07-04T15:39:13.419395Z"
    }
   },
   "outputs": [
    {
     "name": "stdout",
     "output_type": "stream",
     "text": [
      "I am a new static variable\n"
     ]
    }
   ],
   "source": [
    "MyClass.modify_static_variable(\"I am a new static variable\")\n",
    "print(MyClass.static_str)"
   ]
  },
  {
   "cell_type": "code",
   "execution_count": 9,
   "id": "639f0591c531a3f5",
   "metadata": {
    "collapsed": false,
    "execution": {
     "iopub.execute_input": "2024-07-04T15:39:13.420958Z",
     "iopub.status.busy": "2024-07-04T15:39:13.420879Z",
     "iopub.status.idle": "2024-07-04T15:39:13.423741Z",
     "shell.execute_reply": "2024-07-04T15:39:13.423515Z"
    }
   },
   "outputs": [
    {
     "data": {
      "text/plain": [
       "2"
      ]
     },
     "execution_count": 9,
     "metadata": {},
     "output_type": "execute_result"
    }
   ],
   "source": [
    "len(obj1)"
   ]
  },
  {
   "cell_type": "code",
   "execution_count": 10,
   "id": "b869f77771080fd3",
   "metadata": {
    "collapsed": false,
    "execution": {
     "iopub.execute_input": "2024-07-04T15:39:13.425021Z",
     "iopub.status.busy": "2024-07-04T15:39:13.424947Z",
     "iopub.status.idle": "2024-07-04T15:39:13.426583Z",
     "shell.execute_reply": "2024-07-04T15:39:13.426365Z"
    }
   },
   "outputs": [
    {
     "name": "stdout",
     "output_type": "stream",
     "text": [
      "Value: 1, 2\n"
     ]
    }
   ],
   "source": [
    "print(obj1)"
   ]
  },
  {
   "cell_type": "markdown",
   "id": "6b7dceb7dc2dd17c",
   "metadata": {
    "collapsed": false
   },
   "source": [
    "## OOP with Python (Advanced)\n",
    "Object-oriented programming (OOP) is a programming paradigm based on the concept of \"objects,\" which are instances of classes. These objects can contain data, in the form of fields (often known as attributes or properties), and code, in the form of methods (functions or procedures). \n",
    "\n",
    "Here are the core concepts of OOP:\n",
    "\n",
    "1. **Encapsulation**: The bundling of data (attributes) and methods that operate on that data into a single unit.\n",
    "\n",
    "2. **Inheritance**: The mechanism by which one class acquires the properties and behavior of another class.\n",
    "\n",
    "3. **Polymorphism**: The ability to present the same interface for different data types\n",
    "\n",
    "> **Abstraction**: The concept of hiding the internal implementation details and showing only the necessary features of an object.\n",
    "\n",
    "\n",
    "### Inheritance\n",
    "Inheritance allows a class to inherit attributes and methods from another class. The class that inherits is called the child class, and the class being inherited from is the parent class.\n",
    "\n",
    "Child class could **override** the methods of the parent class and define new methods."
   ]
  },
  {
   "cell_type": "code",
   "execution_count": 11,
   "id": "ba15e4c1f76f1a6e",
   "metadata": {
    "collapsed": false,
    "execution": {
     "iopub.execute_input": "2024-07-04T15:39:13.427848Z",
     "iopub.status.busy": "2024-07-04T15:39:13.427774Z",
     "iopub.status.idle": "2024-07-04T15:39:13.429921Z",
     "shell.execute_reply": "2024-07-04T15:39:13.429698Z"
    }
   },
   "outputs": [],
   "source": [
    "class Parent:\n",
    "    def __init__(self, name):\n",
    "        self.name = name\n",
    "\n",
    "    def speak(self):\n",
    "        return f\"{self.name} says hello. I am a parent.\"\n",
    "\n",
    "class Child(Parent):\n",
    "    def __init__(self, name, age):\n",
    "        super().__init__(name)\n",
    "        self.age = age\n",
    "    \n",
    "    # override `speak` method\n",
    "    def speak(self):\n",
    "        return f\"{self.name} says hello. I am a child.\"\n",
    "\n",
    "    def introduce(self):\n",
    "        return f\"I am {self.name}, and I am {self.age} years old.\""
   ]
  },
  {
   "cell_type": "code",
   "execution_count": 12,
   "id": "1f7f2644c899adb4",
   "metadata": {
    "collapsed": false,
    "execution": {
     "iopub.execute_input": "2024-07-04T15:39:13.431100Z",
     "iopub.status.busy": "2024-07-04T15:39:13.431035Z",
     "iopub.status.idle": "2024-07-04T15:39:13.432794Z",
     "shell.execute_reply": "2024-07-04T15:39:13.432597Z"
    }
   },
   "outputs": [
    {
     "name": "stdout",
     "output_type": "stream",
     "text": [
      "Jake says hello. I am a parent.\n",
      "Alice says hello. I am a child.\n",
      "I am Alice, and I am 10 years old.\n"
     ]
    }
   ],
   "source": [
    "parent = Parent(\"Jake\")\n",
    "child = Child(\"Alice\", 10)\n",
    "print(parent.speak())\n",
    "print(child.speak())    \n",
    "print(child.introduce())  "
   ]
  },
  {
   "cell_type": "markdown",
   "id": "50a141d4742afd27",
   "metadata": {
    "collapsed": false
   },
   "source": [
    "### Abstract Class\n",
    "An abstract class is a class that cannot be instantiated and is meant to be subclassed. It can have abstract methods, which are methods declared without implementation. Abstract classes are defined using the abc module."
   ]
  },
  {
   "cell_type": "code",
   "execution_count": 13,
   "id": "ce5af0fe70b0780b",
   "metadata": {
    "collapsed": false,
    "execution": {
     "iopub.execute_input": "2024-07-04T15:39:13.433969Z",
     "iopub.status.busy": "2024-07-04T15:39:13.433910Z",
     "iopub.status.idle": "2024-07-04T15:39:13.435654Z",
     "shell.execute_reply": "2024-07-04T15:39:13.435445Z"
    }
   },
   "outputs": [],
   "source": [
    "from abc import ABC, abstractmethod\n",
    "\n",
    "class Animal(ABC):\n",
    "    @abstractmethod\n",
    "    def make_sound(self):\n",
    "        pass\n",
    "\n",
    "class Dog(Animal):\n",
    "    def make_sound(self):\n",
    "        return \"Woof!\"\n",
    "\n",
    "class Cat(Animal):\n",
    "    def make_sound(self):\n",
    "        return \"Meow!\""
   ]
  },
  {
   "cell_type": "code",
   "execution_count": 14,
   "id": "e146f1ac94de21e1",
   "metadata": {
    "collapsed": false,
    "execution": {
     "iopub.execute_input": "2024-07-04T15:39:13.436782Z",
     "iopub.status.busy": "2024-07-04T15:39:13.436718Z",
     "iopub.status.idle": "2024-07-04T15:39:13.438210Z",
     "shell.execute_reply": "2024-07-04T15:39:13.438009Z"
    }
   },
   "outputs": [
    {
     "name": "stdout",
     "output_type": "stream",
     "text": [
      "Woof!\n"
     ]
    }
   ],
   "source": [
    "dog = Dog()\n",
    "print(dog.make_sound())"
   ]
  },
  {
   "cell_type": "code",
   "execution_count": 15,
   "id": "d9d3d0c84a463a88",
   "metadata": {
    "collapsed": false,
    "execution": {
     "iopub.execute_input": "2024-07-04T15:39:13.439318Z",
     "iopub.status.busy": "2024-07-04T15:39:13.439244Z",
     "iopub.status.idle": "2024-07-04T15:39:13.440524Z",
     "shell.execute_reply": "2024-07-04T15:39:13.440344Z"
    }
   },
   "outputs": [
    {
     "name": "stdout",
     "output_type": "stream",
     "text": [
      "Meow!\n"
     ]
    }
   ],
   "source": [
    "cat = Cat()\n",
    "print(cat.make_sound())"
   ]
  }
 ],
 "metadata": {
  "kernelspec": {
   "display_name": "Python 3",
   "language": "python",
   "name": "python3"
  },
  "language_info": {
   "codemirror_mode": {
    "name": "ipython",
    "version": 3
   },
   "file_extension": ".py",
   "mimetype": "text/x-python",
   "name": "python",
   "nbconvert_exporter": "python",
   "pygments_lexer": "ipython3",
   "version": "3.12.3"
  }
 },
 "nbformat": 4,
 "nbformat_minor": 5
}
