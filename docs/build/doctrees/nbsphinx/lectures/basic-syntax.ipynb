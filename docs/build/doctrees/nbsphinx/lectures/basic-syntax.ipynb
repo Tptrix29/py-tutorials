{
 "cells": [
  {
   "cell_type": "markdown",
   "id": "a85c5b7a7209b265",
   "metadata": {
    "collapsed": false
   },
   "source": [
    "# Basic Python Syntax\n",
    "## Start-up with VCS \n",
    "> Create project and use git as version control tool"
   ]
  },
  {
   "cell_type": "markdown",
   "id": "d455508ae3a3f8b0",
   "metadata": {
    "collapsed": false
   },
   "source": [
    "## Built-in Data Structures\n",
    "1. Numeric: integer + float\n",
    "2. String\n",
    "3. List\n",
    "4. Tuple\n",
    "5. Set\n",
    "6. Dictionary"
   ]
  },
  {
   "cell_type": "markdown",
   "id": "21d3ccfb90c90219",
   "metadata": {
    "collapsed": false
   },
   "source": [
    "### Numeric \n",
    "**Integers** are whole numbers without a decimal point. "
   ]
  },
  {
   "cell_type": "code",
   "execution_count": 1,
   "id": "a6ee1f8a385f07b2",
   "metadata": {
    "collapsed": false,
    "execution": {
     "iopub.execute_input": "2024-05-31T17:52:38.484316Z",
     "iopub.status.busy": "2024-05-31T17:52:38.484229Z",
     "iopub.status.idle": "2024-05-31T17:52:38.486786Z",
     "shell.execute_reply": "2024-05-31T17:52:38.486526Z"
    }
   },
   "outputs": [],
   "source": [
    "# definition\n",
    "int1 = 6  # regular\n",
    "int2 = 1E2  # scientific notation"
   ]
  },
  {
   "cell_type": "code",
   "execution_count": 2,
   "id": "8b7dd9aa54fc5a55",
   "metadata": {
    "collapsed": false,
    "execution": {
     "iopub.execute_input": "2024-05-31T17:52:38.488101Z",
     "iopub.status.busy": "2024-05-31T17:52:38.488006Z",
     "iopub.status.idle": "2024-05-31T17:52:38.490787Z",
     "shell.execute_reply": "2024-05-31T17:52:38.490565Z"
    }
   },
   "outputs": [
    {
     "data": {
      "text/plain": [
       "106.0"
      ]
     },
     "execution_count": 2,
     "metadata": {},
     "output_type": "execute_result"
    }
   ],
   "source": [
    "# addition\n",
    "int1 + int2"
   ]
  },
  {
   "cell_type": "code",
   "execution_count": 3,
   "id": "87ec7d3d7a205b18",
   "metadata": {
    "collapsed": false,
    "execution": {
     "iopub.execute_input": "2024-05-31T17:52:38.491953Z",
     "iopub.status.busy": "2024-05-31T17:52:38.491870Z",
     "iopub.status.idle": "2024-05-31T17:52:38.493685Z",
     "shell.execute_reply": "2024-05-31T17:52:38.493439Z"
    }
   },
   "outputs": [
    {
     "data": {
      "text/plain": [
       "94.0"
      ]
     },
     "execution_count": 3,
     "metadata": {},
     "output_type": "execute_result"
    }
   ],
   "source": [
    "# subtract\n",
    "int2 - int1"
   ]
  },
  {
   "cell_type": "code",
   "execution_count": 4,
   "id": "9e1376f143c3ad67",
   "metadata": {
    "collapsed": false,
    "execution": {
     "iopub.execute_input": "2024-05-31T17:52:38.494843Z",
     "iopub.status.busy": "2024-05-31T17:52:38.494753Z",
     "iopub.status.idle": "2024-05-31T17:52:38.496465Z",
     "shell.execute_reply": "2024-05-31T17:52:38.496267Z"
    }
   },
   "outputs": [
    {
     "data": {
      "text/plain": [
       "600.0"
      ]
     },
     "execution_count": 4,
     "metadata": {},
     "output_type": "execute_result"
    }
   ],
   "source": [
    "# multiplication\n",
    "int1 * int2"
   ]
  },
  {
   "cell_type": "code",
   "execution_count": 5,
   "id": "9f07b62039c875bc",
   "metadata": {
    "collapsed": false,
    "execution": {
     "iopub.execute_input": "2024-05-31T17:52:38.497561Z",
     "iopub.status.busy": "2024-05-31T17:52:38.497500Z",
     "iopub.status.idle": "2024-05-31T17:52:38.499294Z",
     "shell.execute_reply": "2024-05-31T17:52:38.499079Z"
    }
   },
   "outputs": [
    {
     "data": {
      "text/plain": [
       "16.666666666666668"
      ]
     },
     "execution_count": 5,
     "metadata": {},
     "output_type": "execute_result"
    }
   ],
   "source": [
    "# division\n",
    "int2 / int1"
   ]
  },
  {
   "cell_type": "code",
   "execution_count": 6,
   "id": "5c316592db5542ed",
   "metadata": {
    "collapsed": false,
    "execution": {
     "iopub.execute_input": "2024-05-31T17:52:38.500395Z",
     "iopub.status.busy": "2024-05-31T17:52:38.500326Z",
     "iopub.status.idle": "2024-05-31T17:52:38.502022Z",
     "shell.execute_reply": "2024-05-31T17:52:38.501833Z"
    }
   },
   "outputs": [
    {
     "data": {
      "text/plain": [
       "4.0"
      ]
     },
     "execution_count": 6,
     "metadata": {},
     "output_type": "execute_result"
    }
   ],
   "source": [
    "# mod\n",
    "int2 % int1"
   ]
  },
  {
   "cell_type": "code",
   "execution_count": 7,
   "id": "fa4d1bcb81feb58a",
   "metadata": {
    "collapsed": false,
    "execution": {
     "iopub.execute_input": "2024-05-31T17:52:38.503051Z",
     "iopub.status.busy": "2024-05-31T17:52:38.502989Z",
     "iopub.status.idle": "2024-05-31T17:52:38.504723Z",
     "shell.execute_reply": "2024-05-31T17:52:38.504545Z"
    }
   },
   "outputs": [
    {
     "data": {
      "text/plain": [
       "16"
      ]
     },
     "execution_count": 7,
     "metadata": {},
     "output_type": "execute_result"
    }
   ],
   "source": [
    "# floor division (positive)\n",
    "100 // 6"
   ]
  },
  {
   "cell_type": "code",
   "execution_count": 8,
   "id": "980b939d2f156334",
   "metadata": {
    "collapsed": false,
    "execution": {
     "iopub.execute_input": "2024-05-31T17:52:38.505779Z",
     "iopub.status.busy": "2024-05-31T17:52:38.505693Z",
     "iopub.status.idle": "2024-05-31T17:52:38.507345Z",
     "shell.execute_reply": "2024-05-31T17:52:38.507161Z"
    }
   },
   "outputs": [
    {
     "data": {
      "text/plain": [
       "-17"
      ]
     },
     "execution_count": 8,
     "metadata": {},
     "output_type": "execute_result"
    }
   ],
   "source": [
    "# floor division (negative)\n",
    "-100 // 6"
   ]
  },
  {
   "cell_type": "markdown",
   "id": "3de2f895f75a3cda",
   "metadata": {
    "collapsed": false
   },
   "source": [
    "**Floats** are numbers that contain a decimal point. (64-bits)"
   ]
  },
  {
   "cell_type": "code",
   "execution_count": 9,
   "id": "6f0bd7d7ca149c3e",
   "metadata": {
    "collapsed": false,
    "execution": {
     "iopub.execute_input": "2024-05-31T17:52:38.508433Z",
     "iopub.status.busy": "2024-05-31T17:52:38.508376Z",
     "iopub.status.idle": "2024-05-31T17:52:38.509857Z",
     "shell.execute_reply": "2024-05-31T17:52:38.509669Z"
    }
   },
   "outputs": [],
   "source": [
    "dec1 = 9.1\n",
    "dec2 = 6.89E-2"
   ]
  },
  {
   "cell_type": "markdown",
   "id": "dce48064733ce973",
   "metadata": {
    "collapsed": false
   },
   "source": [
    "### String\n",
    "Strings in Python are sequences of characters enclosed in quotes, either single (`'`) or double (`\"`)."
   ]
  },
  {
   "cell_type": "code",
   "execution_count": 10,
   "id": "f3d3347cef75fd9e",
   "metadata": {
    "collapsed": false,
    "execution": {
     "iopub.execute_input": "2024-05-31T17:52:38.510906Z",
     "iopub.status.busy": "2024-05-31T17:52:38.510829Z",
     "iopub.status.idle": "2024-05-31T17:52:38.512263Z",
     "shell.execute_reply": "2024-05-31T17:52:38.512066Z"
    }
   },
   "outputs": [
    {
     "name": "stdout",
     "output_type": "stream",
     "text": [
      "Hello, World!\n"
     ]
    }
   ],
   "source": [
    "str1 = \"Hello, World!\"\n",
    "print(str1)"
   ]
  },
  {
   "cell_type": "code",
   "execution_count": 11,
   "id": "7708bd627aab6a3a",
   "metadata": {
    "collapsed": false,
    "execution": {
     "iopub.execute_input": "2024-05-31T17:52:38.513264Z",
     "iopub.status.busy": "2024-05-31T17:52:38.513200Z",
     "iopub.status.idle": "2024-05-31T17:52:38.514681Z",
     "shell.execute_reply": "2024-05-31T17:52:38.514502Z"
    }
   },
   "outputs": [
    {
     "name": "stdout",
     "output_type": "stream",
     "text": [
      "Hello World\n"
     ]
    }
   ],
   "source": [
    "# concatenation\n",
    "str2 = \"Hello\"\n",
    "str3 = \"World\"\n",
    "result = str2 + \" \" + str3\n",
    "print(result)  # Output: Hello World"
   ]
  },
  {
   "cell_type": "code",
   "execution_count": 12,
   "id": "2b0e351960bfc455",
   "metadata": {
    "collapsed": false,
    "execution": {
     "iopub.execute_input": "2024-05-31T17:52:38.515688Z",
     "iopub.status.busy": "2024-05-31T17:52:38.515615Z",
     "iopub.status.idle": "2024-05-31T17:52:38.517038Z",
     "shell.execute_reply": "2024-05-31T17:52:38.516868Z"
    }
   },
   "outputs": [
    {
     "name": "stdout",
     "output_type": "stream",
     "text": [
      "HelloHelloHello\n"
     ]
    }
   ],
   "source": [
    "# Repetition\n",
    "str4 = \"Hello\"\n",
    "print(str4 * 3)"
   ]
  },
  {
   "cell_type": "markdown",
   "id": "64d3e273d7485b55",
   "metadata": {
    "collapsed": false
   },
   "source": [
    "### List\n",
    "A list is an ordered collection of items which can be of different types. Lists are **mutable**, meaning their elements can be changed."
   ]
  },
  {
   "cell_type": "code",
   "execution_count": 13,
   "id": "a499e4876eb820da",
   "metadata": {
    "collapsed": false,
    "execution": {
     "iopub.execute_input": "2024-05-31T17:52:38.518079Z",
     "iopub.status.busy": "2024-05-31T17:52:38.518016Z",
     "iopub.status.idle": "2024-05-31T17:52:38.519503Z",
     "shell.execute_reply": "2024-05-31T17:52:38.519306Z"
    }
   },
   "outputs": [
    {
     "name": "stdout",
     "output_type": "stream",
     "text": [
      "[0, 1, 2, 3, 4, 5, 6, 7, 8, 9]\n"
     ]
    }
   ],
   "source": [
    "# definition\n",
    "list1 = [i for i in range(10)]\n",
    "print(list1)"
   ]
  },
  {
   "cell_type": "code",
   "execution_count": 14,
   "id": "f441b3688e8d0e2e",
   "metadata": {
    "collapsed": false,
    "execution": {
     "iopub.execute_input": "2024-05-31T17:52:38.520495Z",
     "iopub.status.busy": "2024-05-31T17:52:38.520441Z",
     "iopub.status.idle": "2024-05-31T17:52:38.522034Z",
     "shell.execute_reply": "2024-05-31T17:52:38.521829Z"
    }
   },
   "outputs": [
    {
     "data": {
      "text/plain": [
       "0"
      ]
     },
     "execution_count": 14,
     "metadata": {},
     "output_type": "execute_result"
    }
   ],
   "source": [
    "# access with index\n",
    "list1[0]"
   ]
  },
  {
   "cell_type": "code",
   "execution_count": 15,
   "id": "efb5c90f2db79feb",
   "metadata": {
    "collapsed": false,
    "execution": {
     "iopub.execute_input": "2024-05-31T17:52:38.523038Z",
     "iopub.status.busy": "2024-05-31T17:52:38.522966Z",
     "iopub.status.idle": "2024-05-31T17:52:38.524539Z",
     "shell.execute_reply": "2024-05-31T17:52:38.524353Z"
    }
   },
   "outputs": [
    {
     "data": {
      "text/plain": [
       "9"
      ]
     },
     "execution_count": 15,
     "metadata": {},
     "output_type": "execute_result"
    }
   ],
   "source": [
    "# access the last element\n",
    "list1[-1]"
   ]
  },
  {
   "cell_type": "code",
   "execution_count": 16,
   "id": "9ecd7ed2c41d0c94",
   "metadata": {
    "collapsed": false,
    "execution": {
     "iopub.execute_input": "2024-05-31T17:52:38.525494Z",
     "iopub.status.busy": "2024-05-31T17:52:38.525437Z",
     "iopub.status.idle": "2024-05-31T17:52:38.527196Z",
     "shell.execute_reply": "2024-05-31T17:52:38.526992Z"
    }
   },
   "outputs": [
    {
     "data": {
      "text/plain": [
       "[0, 1, 2, 3, 3.9, 5, 6, 7, 8, 9]"
      ]
     },
     "execution_count": 16,
     "metadata": {},
     "output_type": "execute_result"
    }
   ],
   "source": [
    "# modify element\n",
    "list1[4] = 3.9\n",
    "list1"
   ]
  },
  {
   "cell_type": "code",
   "execution_count": 17,
   "id": "a4e21186ca738f7",
   "metadata": {
    "collapsed": false,
    "execution": {
     "iopub.execute_input": "2024-05-31T17:52:38.528247Z",
     "iopub.status.busy": "2024-05-31T17:52:38.528164Z",
     "iopub.status.idle": "2024-05-31T17:52:38.529491Z",
     "shell.execute_reply": "2024-05-31T17:52:38.529303Z"
    }
   },
   "outputs": [],
   "source": [
    "# add a single element to the end of the list\n",
    "list1.append(5)"
   ]
  },
  {
   "cell_type": "code",
   "execution_count": 18,
   "id": "236ca7949c8cd9",
   "metadata": {
    "collapsed": false,
    "execution": {
     "iopub.execute_input": "2024-05-31T17:52:38.530483Z",
     "iopub.status.busy": "2024-05-31T17:52:38.530420Z",
     "iopub.status.idle": "2024-05-31T17:52:38.532084Z",
     "shell.execute_reply": "2024-05-31T17:52:38.531867Z"
    }
   },
   "outputs": [
    {
     "data": {
      "text/plain": [
       "[0, 15, 1, 2, 3, 3.9, 5, 6, 7, 8, 9, 5]"
      ]
     },
     "execution_count": 18,
     "metadata": {},
     "output_type": "execute_result"
    }
   ],
   "source": [
    "# add an element at a specific position\n",
    "list1.insert(1, 15)  # insert 15 to the position with 1 as index\n",
    "list1"
   ]
  },
  {
   "cell_type": "code",
   "execution_count": 19,
   "id": "5c46197d034f454d",
   "metadata": {
    "collapsed": false,
    "execution": {
     "iopub.execute_input": "2024-05-31T17:52:38.533029Z",
     "iopub.status.busy": "2024-05-31T17:52:38.532955Z",
     "iopub.status.idle": "2024-05-31T17:52:38.534620Z",
     "shell.execute_reply": "2024-05-31T17:52:38.534464Z"
    }
   },
   "outputs": [
    {
     "data": {
      "text/plain": [
       "[0, 15, 1, 3, 3.9, 5, 6, 7, 8, 9, 5]"
      ]
     },
     "execution_count": 19,
     "metadata": {},
     "output_type": "execute_result"
    }
   ],
   "source": [
    "# remove the first occurrence of a value\n",
    "list1.remove(2) if 2 in list1 else _\n",
    "list1"
   ]
  },
  {
   "cell_type": "code",
   "execution_count": 20,
   "id": "334be705fbb95ed5",
   "metadata": {
    "collapsed": false,
    "execution": {
     "iopub.execute_input": "2024-05-31T17:52:38.535517Z",
     "iopub.status.busy": "2024-05-31T17:52:38.535461Z",
     "iopub.status.idle": "2024-05-31T17:52:38.537203Z",
     "shell.execute_reply": "2024-05-31T17:52:38.537034Z"
    }
   },
   "outputs": [
    {
     "data": {
      "text/plain": [
       "[0, 15, 3, 3.9, 5, 6, 7, 8, 9, 5]"
      ]
     },
     "execution_count": 20,
     "metadata": {},
     "output_type": "execute_result"
    }
   ],
   "source": [
    "#  remove an element at a specific position (or the last element if no index is specified)\n",
    "list1.pop(2)\n",
    "list1"
   ]
  },
  {
   "cell_type": "code",
   "execution_count": 21,
   "id": "489949634e7e1ce6",
   "metadata": {
    "collapsed": false,
    "execution": {
     "iopub.execute_input": "2024-05-31T17:52:38.538282Z",
     "iopub.status.busy": "2024-05-31T17:52:38.538226Z",
     "iopub.status.idle": "2024-05-31T17:52:38.539875Z",
     "shell.execute_reply": "2024-05-31T17:52:38.539683Z"
    }
   },
   "outputs": [
    {
     "data": {
      "text/plain": [
       "[15, 3]"
      ]
     },
     "execution_count": 21,
     "metadata": {},
     "output_type": "execute_result"
    }
   ],
   "source": [
    "# slicing\n",
    "list1[1:3]"
   ]
  },
  {
   "cell_type": "code",
   "execution_count": 22,
   "id": "a7d89800c3e1ac96",
   "metadata": {
    "collapsed": false,
    "execution": {
     "iopub.execute_input": "2024-05-31T17:52:38.540907Z",
     "iopub.status.busy": "2024-05-31T17:52:38.540846Z",
     "iopub.status.idle": "2024-05-31T17:52:38.542473Z",
     "shell.execute_reply": "2024-05-31T17:52:38.542284Z"
    }
   },
   "outputs": [
    {
     "data": {
      "text/plain": [
       "[0, 3, 5, 7, 9]"
      ]
     },
     "execution_count": 22,
     "metadata": {},
     "output_type": "execute_result"
    }
   ],
   "source": [
    "# slicing with skipping\n",
    "list1[::2]"
   ]
  },
  {
   "cell_type": "code",
   "execution_count": 23,
   "id": "c63df10607342a50",
   "metadata": {
    "collapsed": false,
    "execution": {
     "iopub.execute_input": "2024-05-31T17:52:38.543480Z",
     "iopub.status.busy": "2024-05-31T17:52:38.543416Z",
     "iopub.status.idle": "2024-05-31T17:52:38.544956Z",
     "shell.execute_reply": "2024-05-31T17:52:38.544787Z"
    }
   },
   "outputs": [
    {
     "data": {
      "text/plain": [
       "10"
      ]
     },
     "execution_count": 23,
     "metadata": {},
     "output_type": "execute_result"
    }
   ],
   "source": [
    "# length of list\n",
    "len(list1)"
   ]
  },
  {
   "cell_type": "markdown",
   "id": "9f1119d96ddc6d69",
   "metadata": {
    "collapsed": false
   },
   "source": [
    "### Tuple\n",
    "A tuple is similar to a list but is **immutable**, meaning its elements cannot be changed once assigned."
   ]
  },
  {
   "cell_type": "code",
   "execution_count": 24,
   "id": "d2a2a130470b0939",
   "metadata": {
    "collapsed": false,
    "execution": {
     "iopub.execute_input": "2024-05-31T17:52:38.545980Z",
     "iopub.status.busy": "2024-05-31T17:52:38.545924Z",
     "iopub.status.idle": "2024-05-31T17:52:38.547445Z",
     "shell.execute_reply": "2024-05-31T17:52:38.547254Z"
    }
   },
   "outputs": [
    {
     "name": "stdout",
     "output_type": "stream",
     "text": [
      "(1, 2, 3, 'Python', 4.5)\n"
     ]
    }
   ],
   "source": [
    "# definition\n",
    "tuple1 = (1, 2, 3, \"Python\", 4.5)\n",
    "print(tuple1) "
   ]
  },
  {
   "cell_type": "code",
   "execution_count": 25,
   "id": "9198b94851e37076",
   "metadata": {
    "collapsed": false,
    "execution": {
     "iopub.execute_input": "2024-05-31T17:52:38.548488Z",
     "iopub.status.busy": "2024-05-31T17:52:38.548431Z",
     "iopub.status.idle": "2024-05-31T17:52:38.549796Z",
     "shell.execute_reply": "2024-05-31T17:52:38.549567Z"
    }
   },
   "outputs": [
    {
     "name": "stdout",
     "output_type": "stream",
     "text": [
      "1\n"
     ]
    }
   ],
   "source": [
    "# access with index\n",
    "print(tuple1[0])  "
   ]
  },
  {
   "cell_type": "markdown",
   "id": "722bb21131e8018c",
   "metadata": {
    "collapsed": false
   },
   "source": [
    "### Set\n",
    "A set is an unordered collection of **unique** elements. Sets are **mutable** but do not allow duplicate elements."
   ]
  },
  {
   "cell_type": "code",
   "execution_count": 26,
   "id": "2fd229abce0631cc",
   "metadata": {
    "collapsed": false,
    "execution": {
     "iopub.execute_input": "2024-05-31T17:52:38.550786Z",
     "iopub.status.busy": "2024-05-31T17:52:38.550729Z",
     "iopub.status.idle": "2024-05-31T17:52:38.552224Z",
     "shell.execute_reply": "2024-05-31T17:52:38.552010Z"
    }
   },
   "outputs": [
    {
     "name": "stdout",
     "output_type": "stream",
     "text": [
      "{1, 2, 3, 4.5, 'Python'}\n"
     ]
    }
   ],
   "source": [
    "set1 = {1, 2, 3, \"Python\", 4.5, 2}\n",
    "print(set1)  # Output: {1, 2, 3, \"Python\", 4.5}"
   ]
  },
  {
   "cell_type": "markdown",
   "id": "e20592a055bf7e27",
   "metadata": {
    "collapsed": false
   },
   "source": [
    "### Dictionary\n",
    "A dictionary is an unordered collection of key-value pairs. Each key must be unique and immutable, while values can be of any data type."
   ]
  },
  {
   "cell_type": "code",
   "execution_count": 27,
   "id": "95ef5284234e4edb",
   "metadata": {
    "collapsed": false,
    "execution": {
     "iopub.execute_input": "2024-05-31T17:52:38.553292Z",
     "iopub.status.busy": "2024-05-31T17:52:38.553217Z",
     "iopub.status.idle": "2024-05-31T17:52:38.554606Z",
     "shell.execute_reply": "2024-05-31T17:52:38.554445Z"
    }
   },
   "outputs": [
    {
     "name": "stdout",
     "output_type": "stream",
     "text": [
      "{'name': 'John', 'age': 30, 'city': 'New York'}\n"
     ]
    }
   ],
   "source": [
    "# definition\n",
    "dict1 = {\"name\": \"John\", \"age\": 30, \"city\": \"New York\"}\n",
    "print(dict1) "
   ]
  },
  {
   "cell_type": "code",
   "execution_count": 28,
   "id": "13c2c39026d77924",
   "metadata": {
    "collapsed": false,
    "execution": {
     "iopub.execute_input": "2024-05-31T17:52:38.555544Z",
     "iopub.status.busy": "2024-05-31T17:52:38.555488Z",
     "iopub.status.idle": "2024-05-31T17:52:38.556896Z",
     "shell.execute_reply": "2024-05-31T17:52:38.556698Z"
    }
   },
   "outputs": [
    {
     "name": "stdout",
     "output_type": "stream",
     "text": [
      "John\n"
     ]
    }
   ],
   "source": [
    "# access value via key\n",
    "print(dict1[\"name\"])  "
   ]
  },
  {
   "cell_type": "code",
   "execution_count": 29,
   "id": "6080a024b58651d4",
   "metadata": {
    "collapsed": false,
    "execution": {
     "iopub.execute_input": "2024-05-31T17:52:38.557846Z",
     "iopub.status.busy": "2024-05-31T17:52:38.557790Z",
     "iopub.status.idle": "2024-05-31T17:52:38.559212Z",
     "shell.execute_reply": "2024-05-31T17:52:38.559049Z"
    }
   },
   "outputs": [
    {
     "name": "stdout",
     "output_type": "stream",
     "text": [
      "{'name': 'John', 'age': 31, 'city': 'New York'}\n"
     ]
    }
   ],
   "source": [
    "# modify value via key\n",
    "dict1[\"age\"] = 31\n",
    "print(dict1)"
   ]
  },
  {
   "cell_type": "markdown",
   "id": "54846b9a4ea53d64",
   "metadata": {
    "collapsed": false
   },
   "source": [
    "## Control Statements\n",
    "1. `if-else` condition statement\n",
    "2. `while` loop\n",
    "3. `for` loop"
   ]
  },
  {
   "cell_type": "markdown",
   "id": "c35ce14f1fdbfa45",
   "metadata": {
    "collapsed": false
   },
   "source": [
    "### `if-else`\n",
    "The `if` statement is used to test a condition. If the condition is true, a block of code is executed. The `else` statement can be used to execute a block of code if the condition is false."
   ]
  },
  {
   "cell_type": "code",
   "execution_count": 30,
   "id": "2a77de46159ba660",
   "metadata": {
    "collapsed": false,
    "execution": {
     "iopub.execute_input": "2024-05-31T17:52:38.560378Z",
     "iopub.status.busy": "2024-05-31T17:52:38.560298Z",
     "iopub.status.idle": "2024-05-31T17:52:38.561782Z",
     "shell.execute_reply": "2024-05-31T17:52:38.561586Z"
    }
   },
   "outputs": [
    {
     "name": "stdout",
     "output_type": "stream",
     "text": [
      "x is between 10 and 100\n"
     ]
    }
   ],
   "source": [
    "x = 10\n",
    "if x > 100:\n",
    "    print(\"x is greater than 100\")\n",
    "elif x < 10:\n",
    "    print(\"x is less than 10\")\n",
    "else:\n",
    "    print(\"x is between 10 and 100\")"
   ]
  },
  {
   "cell_type": "markdown",
   "id": "62011f3425b35885",
   "metadata": {
    "collapsed": false
   },
   "source": [
    "### `while` \n",
    "The `while` loop is used to repeat a block of code as long as a condition is true."
   ]
  },
  {
   "cell_type": "code",
   "execution_count": 31,
   "id": "2ec4438579949cf4",
   "metadata": {
    "collapsed": false,
    "execution": {
     "iopub.execute_input": "2024-05-31T17:52:38.562823Z",
     "iopub.status.busy": "2024-05-31T17:52:38.562767Z",
     "iopub.status.idle": "2024-05-31T17:52:38.564200Z",
     "shell.execute_reply": "2024-05-31T17:52:38.563974Z"
    }
   },
   "outputs": [
    {
     "name": "stdout",
     "output_type": "stream",
     "text": [
      "0\n",
      "1\n",
      "2\n",
      "3\n",
      "4\n"
     ]
    }
   ],
   "source": [
    "count = 0\n",
    "while count < 5:\n",
    "    print(count)\n",
    "    count += 1"
   ]
  },
  {
   "cell_type": "markdown",
   "id": "4f1103e33bb1865c",
   "metadata": {
    "collapsed": false
   },
   "source": [
    "### `for` loop\n",
    "The `for` loop is used to iterate over a sequence (like a list, tuple, dictionary, set, or string) and execute a block of code for each element."
   ]
  },
  {
   "cell_type": "code",
   "execution_count": 32,
   "id": "11390d842cf231b3",
   "metadata": {
    "collapsed": false,
    "execution": {
     "iopub.execute_input": "2024-05-31T17:52:38.565232Z",
     "iopub.status.busy": "2024-05-31T17:52:38.565169Z",
     "iopub.status.idle": "2024-05-31T17:52:38.566583Z",
     "shell.execute_reply": "2024-05-31T17:52:38.566420Z"
    }
   },
   "outputs": [
    {
     "name": "stdout",
     "output_type": "stream",
     "text": [
      "0\n",
      "1\n",
      "2\n",
      "3\n",
      "4\n"
     ]
    }
   ],
   "source": [
    "for i in range(5):\n",
    "    print(i)"
   ]
  },
  {
   "cell_type": "markdown",
   "id": "730997e26107ee6b",
   "metadata": {
    "collapsed": false
   },
   "source": [
    "## Simple I/O Streaming"
   ]
  },
  {
   "cell_type": "markdown",
   "id": "628dc2ebb576473d",
   "metadata": {
    "collapsed": false
   },
   "source": [
    "### Input"
   ]
  },
  {
   "cell_type": "markdown",
   "id": "b615605beb863f7f",
   "metadata": {
    "collapsed": false
   },
   "source": [
    "```python\n",
    "name = input(\"Enter your name: \")\n",
    "print(\"Hello, \" + name + \"!\")\n",
    "```"
   ]
  },
  {
   "cell_type": "markdown",
   "id": "2e10996b6f225f74",
   "metadata": {
    "collapsed": false
   },
   "source": [
    "### Formatted Output\n",
    "#### String"
   ]
  },
  {
   "cell_type": "code",
   "execution_count": 33,
   "id": "4c81a7b54aad41e9",
   "metadata": {
    "collapsed": false,
    "execution": {
     "iopub.execute_input": "2024-05-31T17:52:38.567652Z",
     "iopub.status.busy": "2024-05-31T17:52:38.567581Z",
     "iopub.status.idle": "2024-05-31T17:52:38.569055Z",
     "shell.execute_reply": "2024-05-31T17:52:38.568857Z"
    }
   },
   "outputs": [
    {
     "name": "stdout",
     "output_type": "stream",
     "text": [
      "Name: John, Age: 30\n"
     ]
    }
   ],
   "source": [
    "name = \"John\"\n",
    "age = 30\n",
    "\n",
    "# Example of formatted output using format() method\n",
    "print(\"Name: {}, Age: {}\".format(name, age))"
   ]
  },
  {
   "cell_type": "code",
   "execution_count": 34,
   "id": "c3a80bd331c0eb80",
   "metadata": {
    "collapsed": false,
    "execution": {
     "iopub.execute_input": "2024-05-31T17:52:38.570029Z",
     "iopub.status.busy": "2024-05-31T17:52:38.569974Z",
     "iopub.status.idle": "2024-05-31T17:52:38.571368Z",
     "shell.execute_reply": "2024-05-31T17:52:38.571171Z"
    }
   },
   "outputs": [
    {
     "name": "stdout",
     "output_type": "stream",
     "text": [
      "Name: John, Age: 30\n"
     ]
    }
   ],
   "source": [
    "# Example of formatted output using f-strings\n",
    "print(f\"Name: {name}, Age: {age}\")"
   ]
  },
  {
   "cell_type": "markdown",
   "id": "7e1420703d810d15",
   "metadata": {
    "collapsed": false
   },
   "source": [
    "#### Float"
   ]
  },
  {
   "cell_type": "code",
   "execution_count": 35,
   "id": "a436db3c1744904a",
   "metadata": {
    "collapsed": false,
    "execution": {
     "iopub.execute_input": "2024-05-31T17:52:38.572452Z",
     "iopub.status.busy": "2024-05-31T17:52:38.572399Z",
     "iopub.status.idle": "2024-05-31T17:52:38.573821Z",
     "shell.execute_reply": "2024-05-31T17:52:38.573616Z"
    }
   },
   "outputs": [
    {
     "name": "stdout",
     "output_type": "stream",
     "text": [
      "The price of the item is 11.0.\n"
     ]
    }
   ],
   "source": [
    "price = 10.99\n",
    "# built-in round function\n",
    "print(f\"The price of the item is {round(price, 1)}.\")"
   ]
  },
  {
   "cell_type": "code",
   "execution_count": 36,
   "id": "9b9099b4f849bfd2",
   "metadata": {
    "collapsed": false,
    "execution": {
     "iopub.execute_input": "2024-05-31T17:52:38.574746Z",
     "iopub.status.busy": "2024-05-31T17:52:38.574680Z",
     "iopub.status.idle": "2024-05-31T17:52:38.576095Z",
     "shell.execute_reply": "2024-05-31T17:52:38.575863Z"
    }
   },
   "outputs": [
    {
     "name": "stdout",
     "output_type": "stream",
     "text": [
      "The price of the item is 11.0.\n"
     ]
    }
   ],
   "source": [
    "# f-string\n",
    "print(f\"The price of the item is {price:.1f}.\")"
   ]
  }
 ],
 "metadata": {
  "kernelspec": {
   "display_name": "Python 3",
   "language": "python",
   "name": "python3"
  },
  "language_info": {
   "codemirror_mode": {
    "name": "ipython",
    "version": 3
   },
   "file_extension": ".py",
   "mimetype": "text/x-python",
   "name": "python",
   "nbconvert_exporter": "python",
   "pygments_lexer": "ipython3",
   "version": "3.12.3"
  }
 },
 "nbformat": 4,
 "nbformat_minor": 5
}
