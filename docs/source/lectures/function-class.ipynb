{
 "cells": [
  {
   "cell_type": "markdown",
   "source": [
    "# Function & Class \n",
    "## Function\n",
    "### Definition"
   ],
   "metadata": {
    "collapsed": false
   },
   "id": "1f5eb03f72b731da"
  },
  {
   "cell_type": "markdown",
   "source": [
    "### Local & Global Variables"
   ],
   "metadata": {
    "collapsed": false
   },
   "id": "469c3daf801060c"
  },
  {
   "cell_type": "markdown",
   "source": [
    "### Strict Definition (Optional)"
   ],
   "metadata": {
    "collapsed": false
   },
   "id": "b91f414c3d6309a6"
  },
  {
   "cell_type": "markdown",
   "source": [
    "## Class \n",
    "### Definition\n",
    "> Sections with `*` are advanced contents.\n",
    "1. Variables\n",
    "- instance variable\n",
    "- static variable *\n",
    "2. Methods\n",
    "- instance method\n",
    "- built-in method\n",
    "- static method"
   ],
   "metadata": {
    "collapsed": false
   },
   "id": "ca1a1dc31f3ec99c"
  },
  {
   "cell_type": "markdown",
   "source": [
    "### Example"
   ],
   "metadata": {
    "collapsed": false
   },
   "id": "cdb1dc5c0236084f"
  },
  {
   "cell_type": "code",
   "outputs": [],
   "source": [
    "class MyClass:\n",
    "    pass"
   ],
   "metadata": {
    "collapsed": false
   },
   "id": "29e6f4c1c526881b"
  },
  {
   "cell_type": "markdown",
   "source": [
    "### Objected-Oriented Programming with Python (Advanced)\n",
    "#### Inheritance"
   ],
   "metadata": {
    "collapsed": false
   },
   "id": "6b7dceb7dc2dd17c"
  },
  {
   "cell_type": "markdown",
   "source": [
    "#### Abstract Class"
   ],
   "metadata": {
    "collapsed": false
   },
   "id": "50a141d4742afd27"
  }
 ],
 "metadata": {
  "kernelspec": {
   "display_name": "Python 3",
   "language": "python",
   "name": "python3"
  },
  "language_info": {
   "codemirror_mode": {
    "name": "ipython",
    "version": 2
   },
   "file_extension": ".py",
   "mimetype": "text/x-python",
   "name": "python",
   "nbconvert_exporter": "python",
   "pygments_lexer": "ipython2",
   "version": "2.7.6"
  }
 },
 "nbformat": 4,
 "nbformat_minor": 5
}
