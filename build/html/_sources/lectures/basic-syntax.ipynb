{
 "cells": [
  {
   "cell_type": "markdown",
   "source": [
    "# Basic Python Syntax\n",
    "## Start-up "
   ],
   "metadata": {
    "collapsed": false
   },
   "id": "a85c5b7a7209b265"
  },
  {
   "cell_type": "code",
   "outputs": [],
   "source": [
    "print(\"hello world\")"
   ],
   "metadata": {
    "collapsed": false
   },
   "id": "bc1bf01d2380f368"
  },
  {
   "cell_type": "markdown",
   "source": [
    "## Built-in Data Structures"
   ],
   "metadata": {
    "collapsed": false
   },
   "id": "d455508ae3a3f8b0"
  },
  {
   "cell_type": "markdown",
   "source": [
    "## Control Statements"
   ],
   "metadata": {
    "collapsed": false
   },
   "id": "54846b9a4ea53d64"
  },
  {
   "cell_type": "markdown",
   "source": [
    "## Simple I/O Streaming"
   ],
   "metadata": {
    "collapsed": false
   },
   "id": "730997e26107ee6b"
  }
 ],
 "metadata": {
  "kernelspec": {
   "display_name": "Python 3",
   "language": "python",
   "name": "python3"
  },
  "language_info": {
   "codemirror_mode": {
    "name": "ipython",
    "version": 2
   },
   "file_extension": ".py",
   "mimetype": "text/x-python",
   "name": "python",
   "nbconvert_exporter": "python",
   "pygments_lexer": "ipython2",
   "version": "2.7.6"
  }
 },
 "nbformat": 4,
 "nbformat_minor": 5
}
