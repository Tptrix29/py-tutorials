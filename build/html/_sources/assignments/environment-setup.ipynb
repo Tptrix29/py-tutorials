{
 "cells": [
  {
   "cell_type": "markdown",
   "source": [
    "# Assignment 0 - Env Config"
   ],
   "metadata": {
    "collapsed": false
   },
   "id": "70470b0e3d34b555"
  }
 ],
 "metadata": {
  "kernelspec": {
   "display_name": "Python 3",
   "language": "python",
   "name": "python3"
  },
  "language_info": {
   "codemirror_mode": {
    "name": "ipython",
    "version": 2
   },
   "file_extension": ".py",
   "mimetype": "text/x-python",
   "name": "python",
   "nbconvert_exporter": "python",
   "pygments_lexer": "ipython2",
   "version": "2.7.6"
  }
 },
 "nbformat": 4,
 "nbformat_minor": 5
}
