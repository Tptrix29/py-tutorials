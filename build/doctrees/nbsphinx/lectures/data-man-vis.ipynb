{
 "cells": [
  {
   "cell_type": "markdown",
   "id": "4ce08a402dc8f82a",
   "metadata": {
    "collapsed": false
   },
   "source": [
    "# Data Manipulation and Visualization"
   ]
  }
 ],
 "metadata": {
  "kernelspec": {
   "display_name": "Python 3",
   "language": "python",
   "name": "python3"
  },
  "language_info": {
   "codemirror_mode": {
    "name": "ipython",
    "version": 2
   },
   "file_extension": ".py",
   "mimetype": "text/x-python",
   "name": "python",
   "nbconvert_exporter": "python",
   "pygments_lexer": "ipython2",
   "version": "2.7.6"
  }
 },
 "nbformat": 4,
 "nbformat_minor": 5
}
