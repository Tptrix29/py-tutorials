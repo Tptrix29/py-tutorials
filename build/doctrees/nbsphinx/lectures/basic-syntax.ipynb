{
 "cells": [
  {
   "cell_type": "markdown",
   "id": "a85c5b7a7209b265",
   "metadata": {
    "collapsed": false
   },
   "source": [
    "# Basic Python Syntax\n",
    "## Start-up "
   ]
  },
  {
   "cell_type": "code",
   "execution_count": 1,
   "id": "bc1bf01d2380f368",
   "metadata": {
    "collapsed": false,
    "execution": {
     "iopub.execute_input": "2024-05-31T14:57:30.667479Z",
     "iopub.status.busy": "2024-05-31T14:57:30.667359Z",
     "iopub.status.idle": "2024-05-31T14:57:30.670390Z",
     "shell.execute_reply": "2024-05-31T14:57:30.670173Z"
    }
   },
   "outputs": [
    {
     "name": "stdout",
     "output_type": "stream",
     "text": [
      "hello world\n"
     ]
    }
   ],
   "source": [
    "print(\"hello world\")"
   ]
  },
  {
   "cell_type": "markdown",
   "id": "d455508ae3a3f8b0",
   "metadata": {
    "collapsed": false
   },
   "source": [
    "## Built-in Data Structures"
   ]
  },
  {
   "cell_type": "markdown",
   "id": "54846b9a4ea53d64",
   "metadata": {
    "collapsed": false
   },
   "source": [
    "## Control Statements"
   ]
  },
  {
   "cell_type": "markdown",
   "id": "730997e26107ee6b",
   "metadata": {
    "collapsed": false
   },
   "source": [
    "## Simple I/O Streaming"
   ]
  }
 ],
 "metadata": {
  "kernelspec": {
   "display_name": "Python 3",
   "language": "python",
   "name": "python3"
  },
  "language_info": {
   "codemirror_mode": {
    "name": "ipython",
    "version": 3
   },
   "file_extension": ".py",
   "mimetype": "text/x-python",
   "name": "python",
   "nbconvert_exporter": "python",
   "pygments_lexer": "ipython3",
   "version": "3.12.3"
  }
 },
 "nbformat": 4,
 "nbformat_minor": 5
}
